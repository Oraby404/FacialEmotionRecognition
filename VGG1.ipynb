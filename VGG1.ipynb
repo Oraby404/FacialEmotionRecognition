{
 "cells": [
  {
   "cell_type": "code",
   "execution_count": 1,
   "metadata": {
    "pycharm": {
     "name": "#%%\n"
    }
   },
   "outputs": [],
   "source": [
    "# imports cell\n",
    "import numpy as np\n",
    "import pandas as pd\n",
    "import cv2\n",
    "\n",
    "import matplotlib.pyplot as plt\n",
    "import seaborn as sns\n",
    "from PIL import Image\n",
    "\n",
    "import torch\n",
    "import torch.nn as nn\n",
    "import torch.nn.functional as F\n",
    "from torch.utils.data import Dataset, DataLoader\n",
    "from torch.autograd import Variable\n",
    "\n",
    "from torch.cuda.amp import GradScaler\n",
    "from torch.cuda.amp import autocast\n",
    "import torchvision.transforms as transforms\n",
    "\n",
    "from sklearn.metrics import accuracy_score, confusion_matrix\n",
    "from sklearn.model_selection import train_test_split\n",
    "from sklearn.preprocessing import LabelEncoder, OneHotEncoder, StandardScaler\n",
    "\n",
    "import warnings\n",
    "\n",
    "# to create a tensor on the gpu\n",
    "device = torch.device(\"cuda\" if torch.cuda.is_available() else \"cpu\")\n",
    "warnings.filterwarnings('ignore')"
   ]
  },
  {
   "cell_type": "code",
   "execution_count": 2,
   "metadata": {
    "pycharm": {
     "name": "#%%\n"
    }
   },
   "outputs": [],
   "source": [
    "filename = \"./dataset/icml_face_data.csv\"\n",
    "\n",
    "#emotions = ['Angry', 'Disgust', 'Fear', 'Happy', 'Sad', 'Surprise', 'Neutral']"
   ]
  },
  {
   "cell_type": "code",
   "execution_count": 3,
   "metadata": {
    "pycharm": {
     "name": "#%%\n"
    }
   },
   "outputs": [
    {
     "data": {
      "text/plain": "       emotion        Usage                                             pixels\n0            0     Training  70 80 82 72 58 58 60 63 54 58 60 48 89 115 121...\n1            0     Training  151 150 147 155 148 133 111 140 170 174 182 15...\n2            2     Training  231 212 156 164 174 138 161 173 182 200 106 38...\n3            4     Training  24 32 36 30 32 23 19 20 30 41 21 22 32 34 21 1...\n4            6     Training  4 0 0 0 0 0 0 0 0 0 0 0 3 15 23 28 48 50 58 84...\n...        ...          ...                                                ...\n35882        6  PrivateTest  50 36 17 22 23 29 33 39 34 37 37 37 39 43 48 5...\n35883        3  PrivateTest  178 174 172 173 181 188 191 194 196 199 200 20...\n35884        0  PrivateTest  17 17 16 23 28 22 19 17 25 26 20 24 31 19 27 9...\n35885        3  PrivateTest  30 28 28 29 31 30 42 68 79 81 77 67 67 71 63 6...\n35886        2  PrivateTest  19 13 14 12 13 16 21 33 50 57 71 84 97 108 122...\n\n[35887 rows x 3 columns]",
      "text/html": "<div>\n<style scoped>\n    .dataframe tbody tr th:only-of-type {\n        vertical-align: middle;\n    }\n\n    .dataframe tbody tr th {\n        vertical-align: top;\n    }\n\n    .dataframe thead th {\n        text-align: right;\n    }\n</style>\n<table border=\"1\" class=\"dataframe\">\n  <thead>\n    <tr style=\"text-align: right;\">\n      <th></th>\n      <th>emotion</th>\n      <th>Usage</th>\n      <th>pixels</th>\n    </tr>\n  </thead>\n  <tbody>\n    <tr>\n      <th>0</th>\n      <td>0</td>\n      <td>Training</td>\n      <td>70 80 82 72 58 58 60 63 54 58 60 48 89 115 121...</td>\n    </tr>\n    <tr>\n      <th>1</th>\n      <td>0</td>\n      <td>Training</td>\n      <td>151 150 147 155 148 133 111 140 170 174 182 15...</td>\n    </tr>\n    <tr>\n      <th>2</th>\n      <td>2</td>\n      <td>Training</td>\n      <td>231 212 156 164 174 138 161 173 182 200 106 38...</td>\n    </tr>\n    <tr>\n      <th>3</th>\n      <td>4</td>\n      <td>Training</td>\n      <td>24 32 36 30 32 23 19 20 30 41 21 22 32 34 21 1...</td>\n    </tr>\n    <tr>\n      <th>4</th>\n      <td>6</td>\n      <td>Training</td>\n      <td>4 0 0 0 0 0 0 0 0 0 0 0 3 15 23 28 48 50 58 84...</td>\n    </tr>\n    <tr>\n      <th>...</th>\n      <td>...</td>\n      <td>...</td>\n      <td>...</td>\n    </tr>\n    <tr>\n      <th>35882</th>\n      <td>6</td>\n      <td>PrivateTest</td>\n      <td>50 36 17 22 23 29 33 39 34 37 37 37 39 43 48 5...</td>\n    </tr>\n    <tr>\n      <th>35883</th>\n      <td>3</td>\n      <td>PrivateTest</td>\n      <td>178 174 172 173 181 188 191 194 196 199 200 20...</td>\n    </tr>\n    <tr>\n      <th>35884</th>\n      <td>0</td>\n      <td>PrivateTest</td>\n      <td>17 17 16 23 28 22 19 17 25 26 20 24 31 19 27 9...</td>\n    </tr>\n    <tr>\n      <th>35885</th>\n      <td>3</td>\n      <td>PrivateTest</td>\n      <td>30 28 28 29 31 30 42 68 79 81 77 67 67 71 63 6...</td>\n    </tr>\n    <tr>\n      <th>35886</th>\n      <td>2</td>\n      <td>PrivateTest</td>\n      <td>19 13 14 12 13 16 21 33 50 57 71 84 97 108 122...</td>\n    </tr>\n  </tbody>\n</table>\n<p>35887 rows × 3 columns</p>\n</div>"
     },
     "execution_count": 3,
     "metadata": {},
     "output_type": "execute_result"
    }
   ],
   "source": [
    "dataset_df = pd.read_csv(filename)\n",
    "dataset_df"
   ]
  },
  {
   "cell_type": "code",
   "execution_count": 4,
   "outputs": [
    {
     "data": {
      "text/plain": "array([[<AxesSubplot:title={'center':'emotion'}>]], dtype=object)"
     },
     "execution_count": 4,
     "metadata": {},
     "output_type": "execute_result"
    },
    {
     "data": {
      "text/plain": "<Figure size 432x288 with 1 Axes>",
      "image/png": "[encoded data removed]"
     },
     "metadata": {
      "needs_background": "light"
     },
     "output_type": "display_data"
    }
   ],
   "source": [
    "dataset_df.hist(column='emotion', bins=7)"
   ],
   "metadata": {
    "collapsed": false,
    "pycharm": {
     "name": "#%%\n"
    }
   }
  },
  {
   "cell_type": "code",
   "execution_count": 5,
   "outputs": [
    {
     "data": {
      "text/plain": "<Figure size 432x288 with 1 Axes>",
      "image/png": "[encoded data removed]"
     },
     "metadata": {
      "needs_background": "light"
     },
     "output_type": "display_data"
    }
   ],
   "source": [
    "dataset_df['emotion'] = dataset_df['emotion'].replace(to_replace=0, value=1)\n",
    "dataset_df.hist(column='emotion', bins=6)\n",
    "\n",
    "emotions = ['Angry', 'Fear', 'Happy', 'Sad', 'Surprise', 'Neutral']"
   ],
   "metadata": {
    "collapsed": false,
    "pycharm": {
     "name": "#%%\n"
    }
   }
  },
  {
   "cell_type": "code",
   "execution_count": 6,
   "outputs": [],
   "source": [
    "def prepare_data(data):\n",
    "    image_array = np.zeros(shape=(len(data), 48, 48), dtype=np.dtype('u1'))\n",
    "    image_label = np.array(list(map(int, data['emotion'])), dtype=np.dtype('u1')).reshape(len(data), 1)\n",
    "\n",
    "    for i, row in enumerate(data.index):\n",
    "        image_array[i] = np.fromstring(data.loc[row, ' pixels'], dtype=np.dtype('u1'), sep=' ').reshape(48, 48)\n",
    "\n",
    "    return image_array, image_label"
   ],
   "metadata": {
    "collapsed": false,
    "pycharm": {
     "name": "#%%\n"
    }
   }
  },
  {
   "cell_type": "code",
   "execution_count": 7,
   "metadata": {
    "pycharm": {
     "name": "#%%\n"
    }
   },
   "outputs": [],
   "source": [
    "x_train, y_train = prepare_data(dataset_df[dataset_df[' Usage'] == 'Training'])\n",
    "x_val, y_val = prepare_data(dataset_df[dataset_df[' Usage'] == 'PrivateTest'])\n",
    "x_test, y_test = prepare_data(dataset_df[dataset_df[' Usage'] == 'PublicTest'])"
   ]
  },
  {
   "cell_type": "code",
   "execution_count": 8,
   "metadata": {
    "pycharm": {
     "name": "#%%\n"
    }
   },
   "outputs": [
    {
     "data": {
      "text/plain": "((28709, 48, 48),\n (28709, 1),\n (3589, 48, 48),\n (3589, 1),\n (3589, 48, 48),\n (3589, 1))"
     },
     "execution_count": 8,
     "metadata": {},
     "output_type": "execute_result"
    }
   ],
   "source": [
    "x_train.shape, y_train.shape, x_val.shape, y_val.shape, x_test.shape, y_test.shape"
   ]
  },
  {
   "cell_type": "code",
   "execution_count": 9,
   "outputs": [
    {
     "data": {
      "text/plain": "array([[1., 0., 0., 0., 0., 0.],\n       [1., 0., 0., 0., 0., 0.],\n       [0., 1., 0., 0., 0., 0.],\n       ...,\n       [0., 0., 0., 1., 0., 0.],\n       [1., 0., 0., 0., 0., 0.],\n       [0., 0., 0., 1., 0., 0.]])"
     },
     "execution_count": 9,
     "metadata": {},
     "output_type": "execute_result"
    }
   ],
   "source": [
    "le = OneHotEncoder()\n",
    "y_train = le.fit_transform(y_train).toarray()\n",
    "y_val = le.fit_transform(y_val).toarray()\n",
    "y_test = le.fit_transform(y_test).toarray()\n",
    "y_train"
   ],
   "metadata": {
    "collapsed": false,
    "pycharm": {
     "name": "#%%\n"
    }
   }
  },
  {
   "cell_type": "code",
   "execution_count": 10,
   "metadata": {
    "pycharm": {
     "name": "#%%\n"
    }
   },
   "outputs": [],
   "source": [
    "mu, st = 0, 255\n",
    "\n",
    "test_transform = transforms.Compose([\n",
    "    # transforms.Scale(52),\n",
    "    transforms.ToPILImage(),\n",
    "    transforms.TenCrop(40),\n",
    "    transforms.Lambda(lambda crops: torch.stack([transforms.ToTensor()(crop) for crop in crops])),\n",
    "    transforms.Lambda(lambda tensors: torch.stack([transforms.Normalize(mean=(mu,), std=(st,))(t) for t in tensors])),\n",
    "])\n",
    "\n",
    "train_transform = transforms.Compose([\n",
    "    transforms.ToPILImage(),\n",
    "    transforms.RandomResizedCrop(48, scale=(0.8, 1.2)),\n",
    "    transforms.RandomApply([transforms.RandomAffine(0, translate=(0.2, 0.2))], p=0.5),\n",
    "    transforms.RandomHorizontalFlip(),\n",
    "    transforms.RandomApply([transforms.RandomRotation(10)], p=0.5),\n",
    "\n",
    "    transforms.TenCrop(40),\n",
    "    transforms.Lambda(lambda crops: torch.stack([transforms.ToTensor()(crop) for crop in crops])),\n",
    "    transforms.Lambda(lambda tensors: torch.stack([transforms.Normalize(mean=(mu,), std=(st,))(t) for t in tensors])),\n",
    "    transforms.Lambda(lambda tensors: torch.stack([transforms.RandomErasing(p=0.5)(t) for t in tensors])),\n",
    "])\n"
   ]
  },
  {
   "cell_type": "code",
   "execution_count": 11,
   "outputs": [],
   "source": [
    "class CustomDataset(Dataset):\n",
    "    def __init__(self, images, labels, transform=None):\n",
    "        self.images = images\n",
    "        self.labels = labels\n",
    "        self.transform = transform\n",
    "\n",
    "    def __len__(self):\n",
    "        return len(self.images)\n",
    "\n",
    "    def __getitem__(self, index):\n",
    "        img = self.transform(self.images[index]).to(device)\n",
    "        label = torch.tensor(self.labels[index], dtype=torch.float32, device=device)\n",
    "\n",
    "        return img, label"
   ],
   "metadata": {
    "collapsed": false,
    "pycharm": {
     "name": "#%%\n"
    }
   }
  },
  {
   "cell_type": "code",
   "execution_count": 12,
   "metadata": {
    "pycharm": {
     "name": "#%%\n"
    }
   },
   "outputs": [],
   "source": [
    "trainDataset = CustomDataset(x_train, y_train, train_transform)\n",
    "\n",
    "train_dataloader = DataLoader(trainDataset, batch_size=64, shuffle=True)"
   ]
  },
  {
   "cell_type": "code",
   "execution_count": 13,
   "metadata": {
    "pycharm": {
     "name": "#%%\n"
    }
   },
   "outputs": [],
   "source": [
    "valDataset = CustomDataset(x_val, y_val, test_transform)\n",
    "\n",
    "val_dataloader = DataLoader(valDataset, batch_size=64, shuffle=True)"
   ]
  },
  {
   "cell_type": "code",
   "execution_count": 14,
   "metadata": {
    "pycharm": {
     "name": "#%%\n"
    }
   },
   "outputs": [],
   "source": [
    "testDataset = CustomDataset(x_test, y_test, test_transform)\n",
    "\n",
    "test_dataloader = DataLoader(testDataset, batch_size=64, shuffle=True)"
   ]
  },
  {
   "cell_type": "code",
   "execution_count": 15,
   "outputs": [],
   "source": [
    "# Reference\n",
    "# [1] Khaireddin, Yousif, and Zhuofa Chen.\n",
    "# \"Facial Emotion Recognition: State of the Art Performance on FER2013.\"\n",
    "# arXiv preprint arXiv:2105.03588 (2021).\n",
    "\n",
    "class VGG_Model(nn.Module):\n",
    "    def __init__(self, drop=0.2):\n",
    "        super().__init__()\n",
    "\n",
    "        self.conv1a = nn.Conv2d(in_channels=1, out_channels=64, kernel_size=3, padding=1)\n",
    "        self.conv1b = nn.Conv2d(64, out_channels=64, kernel_size=3, padding=1)\n",
    "\n",
    "        self.conv2a = nn.Conv2d(64, 128, 3, padding=1)\n",
    "        self.conv2b = nn.Conv2d(128, 128, 3, padding=1)\n",
    "\n",
    "        self.conv3a = nn.Conv2d(128, 256, 3, padding=1)\n",
    "        self.conv3b = nn.Conv2d(256, 256, 3, padding=1)\n",
    "\n",
    "        self.conv4a = nn.Conv2d(256, 512, 3, padding=1)\n",
    "        self.conv4b = nn.Conv2d(512, 512, 3, padding=1)\n",
    "\n",
    "        self.pool = nn.MaxPool2d(kernel_size=2, stride=2)\n",
    "\n",
    "        self.bn1a = nn.BatchNorm2d(64)\n",
    "        self.bn1b = nn.BatchNorm2d(64)\n",
    "\n",
    "        self.bn2a = nn.BatchNorm2d(128)\n",
    "        self.bn2b = nn.BatchNorm2d(128)\n",
    "\n",
    "        self.bn3a = nn.BatchNorm2d(256)\n",
    "        self.bn3b = nn.BatchNorm2d(256)\n",
    "\n",
    "        self.bn4a = nn.BatchNorm2d(512)\n",
    "        self.bn4b = nn.BatchNorm2d(512)\n",
    "\n",
    "        self.lin1 = nn.Linear(512 * 2 * 2, 4096)\n",
    "\n",
    "        self.lin2 = nn.Linear(4096, 4096)\n",
    "\n",
    "        self.lin3 = nn.Linear(4096, 6)\n",
    "\n",
    "        self.drop = nn.Dropout(p=drop)\n",
    "\n",
    "    def forward(self, x):\n",
    "        x = F.relu(self.bn1a(self.conv1a(x)))\n",
    "        x = F.relu(self.bn1b(self.conv1b(x)))\n",
    "        x = self.pool(x)\n",
    "\n",
    "        x = F.relu(self.bn2a(self.conv2a(x)))\n",
    "        x = F.relu(self.bn2b(self.conv2b(x)))\n",
    "        x = self.pool(x)\n",
    "\n",
    "        x = F.relu(self.bn3a(self.conv3a(x)))\n",
    "        x = F.relu(self.bn3b(self.conv3b(x)))\n",
    "        x = self.pool(x)\n",
    "\n",
    "        x = F.relu(self.bn4a(self.conv4a(x)))\n",
    "        x = F.relu(self.bn4b(self.conv4b(x)))\n",
    "        x = self.pool(x)\n",
    "\n",
    "        x = torch.flatten(x, 1)\n",
    "\n",
    "        x = F.relu(self.drop(self.lin1(x)))\n",
    "        x = F.relu(self.drop(self.lin2(x)))\n",
    "        x = self.lin3(x)\n",
    "\n",
    "        return x"
   ],
   "metadata": {
    "collapsed": false,
    "pycharm": {
     "name": "#%%\n"
    }
   }
  },
  {
   "cell_type": "code",
   "execution_count": 16,
   "outputs": [],
   "source": [
    "def train_model(model, dataloader, optimizer, scaler, Ncrop=True):\n",
    "    model.train()\n",
    "\n",
    "    pred = []\n",
    "    labels = []\n",
    "    loss = nn.CrossEntropyLoss()\n",
    "    total_loss = 0\n",
    "\n",
    "    for (data, label) in dataloader:\n",
    "\n",
    "        with autocast():\n",
    "\n",
    "            if Ncrop:\n",
    "                # fuse crops and batchsize\n",
    "                bs, ncrops, c, h, w = data.shape\n",
    "                data = data.view(-1, c, h, w)\n",
    "\n",
    "            # repeat labels ncrops times\n",
    "            label = torch.repeat_interleave(label, repeats=ncrops, dim=0)\n",
    "\n",
    "            # reset gradients (it will accumulate gradients otherwise)\n",
    "            optimizer.zero_grad()\n",
    "\n",
    "            # forward pass\n",
    "            output = model(data)\n",
    "\n",
    "            # compute loss\n",
    "            loss_ = loss(output, label)\n",
    "\n",
    "            scaler.scale(loss_).backward()\n",
    "\n",
    "            scaler.step(optimizer)\n",
    "\n",
    "            scaler.update()\n",
    "\n",
    "            # backward propagation dl/dw -> gradients\n",
    "            #loss_.backward()\n",
    "\n",
    "            # update weights\n",
    "            #optimizer.step()\n",
    "\n",
    "\n",
    "            ######################################\n",
    "            total_loss += loss_.item()\n",
    "            _, predicted = torch.max(output.data, dim=1)\n",
    "            _, true_label = torch.max(label, dim=1)\n",
    "            pred += predicted.tolist()\n",
    "            labels += true_label.tolist()\n",
    "\n",
    "\n",
    "    return accuracy_score(labels, pred) * 100., total_loss / len(dataloader)"
   ],
   "metadata": {
    "collapsed": false,
    "pycharm": {
     "name": "#%%\n"
    }
   }
  },
  {
   "cell_type": "code",
   "execution_count": 17,
   "outputs": [],
   "source": [
    "def test_model(model, dataloader, Ncrop=True):\n",
    "    model.eval()\n",
    "\n",
    "    pred = []\n",
    "    labels = []\n",
    "    loss = nn.CrossEntropyLoss()\n",
    "    total_loss = 0\n",
    "\n",
    "    with torch.no_grad():\n",
    "        for (data, label) in dataloader:\n",
    "\n",
    "            if Ncrop:\n",
    "                # fuse crops and batchsize\n",
    "                bs, ncrops, c, h, w = data.shape\n",
    "                data = data.view(-1, c, h, w)\n",
    "\n",
    "                # forward\n",
    "                output = model(data)\n",
    "\n",
    "                # combine results across the crops\n",
    "                output = output.view(bs, ncrops, -1)\n",
    "                output = torch.sum(output, dim=1) / ncrops\n",
    "            else:\n",
    "                output = model(data)\n",
    "\n",
    "            # compute loss\n",
    "            loss_ = loss(output, label)\n",
    "\n",
    "            total_loss += loss_.item()\n",
    "            _, predicted = torch.max(output.data, dim=1)\n",
    "            _, true_label = torch.max(label, dim=1)\n",
    "            pred += predicted.tolist()\n",
    "            labels += true_label.tolist()\n",
    "\n",
    "    return labels, pred, accuracy_score(labels, pred) * 100., total_loss / len(dataloader)"
   ],
   "metadata": {
    "collapsed": false,
    "pycharm": {
     "name": "#%%\n"
    }
   }
  },
  {
   "cell_type": "code",
   "execution_count": 18,
   "outputs": [],
   "source": [
    "def save_model(model, optimizer, epoch, path):\n",
    "    info_dict = {\n",
    "        'epoch': epoch,\n",
    "        'net_state': model.state_dict(),\n",
    "        'optimizer_state': optimizer.state_dict()\n",
    "    }\n",
    "    torch.save(info_dict, path)"
   ],
   "metadata": {
    "collapsed": false,
    "pycharm": {
     "name": "#%%\n"
    }
   }
  },
  {
   "cell_type": "code",
   "execution_count": 19,
   "outputs": [
    {
     "name": "stdout",
     "output_type": "stream",
     "text": [
      "Number of Parameters :  29886662\n"
     ]
    }
   ],
   "source": [
    "model_path = \"./VGG1_best_model.pth\"\n",
    "\n",
    "model = VGG_Model().to(device)\n",
    "\n",
    "#model.load_state_dict(torch.load(model_path))\n",
    "\n",
    "print('Number of Parameters : ', sum(p.numel() for p in model.parameters() if p.requires_grad))"
   ],
   "metadata": {
    "collapsed": false,
    "pycharm": {
     "name": "#%%\n"
    }
   }
  },
  {
   "cell_type": "code",
   "execution_count": 20,
   "outputs": [],
   "source": [
    "optimizer = torch.optim.SGD(model.parameters(), lr=0.01, momentum=0.9, nesterov=True, weight_decay=0.0001)\n",
    "#optimizer = torch.optim.Adam(model.parameters(), lr=0.001, weight_decay=0.0001, amsgrad=True)"
   ],
   "metadata": {
    "collapsed": false,
    "pycharm": {
     "name": "#%%\n"
    }
   }
  },
  {
   "cell_type": "code",
   "execution_count": 21,
   "outputs": [],
   "source": [
    "scaler = GradScaler()"
   ],
   "metadata": {
    "collapsed": false,
    "pycharm": {
     "name": "#%%\n"
    }
   }
  },
  {
   "cell_type": "code",
   "execution_count": 22,
   "outputs": [],
   "source": [
    "scheduler = torch.optim.lr_scheduler.ReduceLROnPlateau(optimizer, mode='max', factor=0.75, patience=5, verbose=True)\n",
    "#scheduler = torch.optim.lr_scheduler.ReduceLROnPlateau(optimizer, mode='max', factor=0.5, patience=4, verbose=True)\n",
    "scheduler2 = torch.optim.lr_scheduler.StepLR(optimizer, step_size=4, gamma=0.1)"
   ],
   "metadata": {
    "collapsed": false,
    "pycharm": {
     "name": "#%%\n"
    }
   }
  },
  {
   "cell_type": "code",
   "execution_count": 23,
   "outputs": [],
   "source": [
    "# chkpt = torch.load(\"./cnn_epoch10early_stop.pth\")\n",
    "# model.load_state_dict(chkpt['net_state'])\n",
    "# optimizer.load_state_dict(chkpt['optimizer_state'])\n",
    "# epoch_saved = chkpt['epoch'] + 1"
   ],
   "metadata": {
    "collapsed": false,
    "pycharm": {
     "name": "#%%\n"
    }
   }
  },
  {
   "cell_type": "code",
   "execution_count": 24,
   "outputs": [],
   "source": [
    "train_loss_list = []\n",
    "train_acc_list = []\n",
    "\n",
    "val_loss_list = []\n",
    "val_acc_list = []"
   ],
   "metadata": {
    "collapsed": false,
    "pycharm": {
     "name": "#%%\n"
    }
   }
  },
  {
   "cell_type": "code",
   "execution_count": 25,
   "outputs": [
    {
     "name": "stdout",
     "output_type": "stream",
     "text": [
      "epoch:  1 Training loss:  1.6146978115982362 Training Accuracy:  32.73503082657007 %   Val loss:  1.410642147064209 Val Accuracy:  44.13485650599053 %\n",
      "learning rate : 0.01\n",
      "epoch:  2 Training loss:  1.3166355118985165 Training Accuracy:  47.99679543000453 %   Val loss:  1.2517376897627848 Val Accuracy:  52.52159375870716 %\n",
      "learning rate : 0.01\n",
      "epoch:  3 Training loss:  1.1979696616563607 Training Accuracy:  53.51527395590233 %   Val loss:  1.3883797934180813 Val Accuracy:  49.791028141543606 %\n",
      "learning rate : 0.01\n",
      "epoch:  4 Training loss:  1.1350639589910783 Training Accuracy:  56.05663729144171 %   Val loss:  1.1019135598550762 Val Accuracy:  56.50599052660908 %\n",
      "learning rate : 0.01\n",
      "epoch:  5 Training loss:  1.094355419510457 Training Accuracy:  57.73102511407573 %   Val loss:  1.1581600308418274 Val Accuracy:  55.00139314572304 %\n",
      "learning rate : 0.001\n",
      "epoch:  6 Training loss:  1.0042973464740677 Training Accuracy:  61.377965098052876 %   Val loss:  0.887609787154616 Val Accuracy:  66.20228475898578 %\n",
      "learning rate : 0.001\n",
      "epoch:  7 Training loss:  0.9825855161671118 Training Accuracy:  62.13905047197743 %   Val loss:  0.879834396797314 Val Accuracy:  66.59236556143773 %\n",
      "learning rate : 0.001\n",
      "epoch:  8 Training loss:  0.9694053843982501 Training Accuracy:  62.80051551778188 %   Val loss:  0.865444887102696 Val Accuracy:  66.48091390359431 %\n",
      "learning rate : 0.001\n",
      "epoch:  9 Training loss:  0.9636278821524639 Training Accuracy:  63.125500714061786 %   Val loss:  0.8669067966310602 Val Accuracy:  67.34466425188074 %\n",
      "learning rate : 0.001\n",
      "epoch:  10 Training loss:  0.9525172070564831 Training Accuracy:  63.42471002124769 %   Val loss:  0.8557830432005096 Val Accuracy:  67.31680133741989 %\n",
      "learning rate : 0.001\n",
      "epoch:  11 Training loss:  0.943248616162281 Training Accuracy:  63.969486920477905 %   Val loss:  0.8511762985011988 Val Accuracy:  67.40039008080245 %\n",
      "learning rate : 0.001\n",
      "epoch:  12 Training loss:  0.9395141135610823 Training Accuracy:  64.15026646696158 %   Val loss:  0.8335926297463869 Val Accuracy:  68.26414042908888 %\n",
      "learning rate : 0.001\n",
      "epoch:  13 Training loss:  0.9304436214251613 Training Accuracy:  64.44320596328677 %   Val loss:  0.8374987045923868 Val Accuracy:  68.57063248815825 %\n",
      "learning rate : 0.001\n",
      "epoch:  14 Training loss:  0.925109785091638 Training Accuracy:  64.4818697969278 %   Val loss:  0.8475401014612433 Val Accuracy:  67.87405962663695 %\n",
      "learning rate : 0.001\n",
      "epoch:  15 Training loss:  0.9179386655843603 Training Accuracy:  64.94374586366645 %   Val loss:  0.8429373701413473 Val Accuracy:  68.15268877124548 %\n",
      "learning rate : 0.001\n",
      "epoch:  16 Training loss:  0.9126255436570182 Training Accuracy:  65.01236546030862 %   Val loss:  0.8464730392422593 Val Accuracy:  67.9019225410978 %\n",
      "learning rate : 0.001\n",
      "epoch:  17 Training loss:  0.9063999972789484 Training Accuracy:  65.33456407398377 %   Val loss:  0.8501639266808828 Val Accuracy:  67.56756756756756 %\n",
      "learning rate : 0.001\n",
      "epoch:  18 Training loss:  0.9019506398447372 Training Accuracy:  65.49026437702463 %   Val loss:  0.8478147209736339 Val Accuracy:  68.34772917247143 %\n",
      "learning rate : 0.001\n",
      "Epoch 00014: reducing learning rate of group 0 to 7.5000e-04.\n",
      "epoch:  19 Training loss:  0.8937252955075627 Training Accuracy:  65.92636455466928 %   Val loss:  0.8512417883203741 Val Accuracy:  68.5427695736974 %\n",
      "learning rate : 0.00075\n",
      "epoch:  20 Training loss:  0.8825566310659548 Training Accuracy:  66.35619492145321 %   Val loss:  0.828496213544879 Val Accuracy:  68.51490665923656 %\n",
      "learning rate : 0.00075\n",
      "epoch:  21 Training loss:  0.8752724756642281 Training Accuracy:  66.54498589292557 %   Val loss:  0.8197514697125083 Val Accuracy:  68.73780997492338 %\n",
      "learning rate : 0.00075\n",
      "epoch:  22 Training loss:  0.869768396650497 Training Accuracy:  66.8943536869971 %   Val loss:  0.8551221283381445 Val Accuracy:  67.56756756756756 %\n",
      "learning rate : 0.00075\n",
      "epoch:  23 Training loss:  0.8668339614878784 Training Accuracy:  67.04030095092132 %   Val loss:  0.8355003051590502 Val Accuracy:  68.59849540261911 %\n",
      "learning rate : 0.00075\n",
      "epoch:  24 Training loss:  0.8642653265349849 Training Accuracy:  67.06677348566652 %   Val loss:  0.8659227605451617 Val Accuracy:  67.87405962663695 %\n",
      "learning rate : 0.00075\n",
      "epoch:  25 Training loss:  0.8556479426694076 Training Accuracy:  67.42380438190114 %   Val loss:  0.8197486656799651 Val Accuracy:  68.84926163276678 %\n",
      "learning rate : 0.00075\n",
      "epoch:  26 Training loss:  0.8489874031867641 Training Accuracy:  67.65613570657285 %   Val loss:  0.8363122825036969 Val Accuracy:  68.15268877124548 %\n",
      "learning rate : 0.00075\n",
      "epoch:  27 Training loss:  0.8506870075960733 Training Accuracy:  67.5199414817653 %   Val loss:  0.8284158685751128 Val Accuracy:  69.18361660629702 %\n",
      "learning rate : 0.00075\n",
      "epoch:  28 Training loss:  0.8409923236725856 Training Accuracy:  68.03441429516877 %   Val loss:  0.8156171754786843 Val Accuracy:  69.82446363889663 %\n",
      "learning rate : 0.00075\n",
      "epoch:  29 Training loss:  0.8355861811967098 Training Accuracy:  68.32038733498206 %   Val loss:  0.8481020404581439 Val Accuracy:  68.51490665923656 %\n",
      "learning rate : 0.00075\n",
      "epoch:  30 Training loss:  0.8307713925971221 Training Accuracy:  68.45553659131282 %   Val loss:  0.8567232364102414 Val Accuracy:  68.65422123154083 %\n",
      "learning rate : 0.00075\n",
      "epoch:  31 Training loss:  0.8253854628660631 Training Accuracy:  68.66244034971612 %   Val loss:  0.8313168151336804 Val Accuracy:  69.5458344942881 %\n",
      "learning rate : 0.00075\n",
      "epoch:  32 Training loss:  0.8218869188580588 Training Accuracy:  68.8627259744331 %   Val loss:  0.8799215889813607 Val Accuracy:  67.20534967957649 %\n",
      "learning rate : 0.00075\n",
      "epoch:  33 Training loss:  0.8121335661756435 Training Accuracy:  69.20652060329513 %   Val loss:  0.8708332824079614 Val Accuracy:  68.23627751462803 %\n",
      "learning rate : 0.00075\n",
      "Epoch 00029: reducing learning rate of group 0 to 5.6250e-04.\n",
      "epoch:  34 Training loss:  0.8105242547054333 Training Accuracy:  69.29638789229858 %   Val loss:  0.8537975748380026 Val Accuracy:  68.70994706046253 %\n",
      "learning rate : 0.0005625000000000001\n",
      "epoch:  35 Training loss:  0.797282859848974 Training Accuracy:  69.7809049427009 %   Val loss:  0.836250371577447 Val Accuracy:  68.84926163276678 %\n",
      "learning rate : 0.0005625000000000001\n",
      "epoch:  36 Training loss:  0.7888322857546647 Training Accuracy:  70.10066529659689 %   Val loss:  0.8082976430131678 Val Accuracy:  70.63248815826135 %\n",
      "learning rate : 0.0005625000000000001\n",
      "epoch:  37 Training loss:  0.7875161155029501 Training Accuracy:  70.35285102232748 %   Val loss:  0.8502017939299867 Val Accuracy:  69.71301198105321 %\n",
      "learning rate : 0.0005625000000000001\n",
      "epoch:  38 Training loss:  0.7835853444972388 Training Accuracy:  70.2588038594169 %   Val loss:  0.8264961849179184 Val Accuracy:  69.85232655335749 %\n",
      "learning rate : 0.0005625000000000001\n",
      "epoch:  39 Training loss:  0.7813310207662179 Training Accuracy:  70.48138214497196 %   Val loss:  0.811001834116484 Val Accuracy:  69.82446363889663 %\n",
      "learning rate : 0.0005625000000000001\n",
      "epoch:  40 Training loss:  0.7745371038770357 Training Accuracy:  70.76108537392454 %   Val loss:  0.8437628766946625 Val Accuracy:  68.70994706046253 %\n",
      "learning rate : 0.0005625000000000001\n",
      "epoch:  41 Training loss:  0.7703031844444954 Training Accuracy:  70.80079417604236 %   Val loss:  0.8251934877613134 Val Accuracy:  69.76873780997492 %\n",
      "learning rate : 0.0005625000000000001\n",
      "Epoch 00037: reducing learning rate of group 0 to 4.2188e-04.\n",
      "epoch:  42 Training loss:  0.7637480432976593 Training Accuracy:  71.23236615695426 %   Val loss:  0.8401867543396196 Val Accuracy:  68.84926163276678 %\n",
      "learning rate : 0.00042187500000000005\n",
      "epoch:  43 Training loss:  0.7546108372360136 Training Accuracy:  71.51973248806995 %   Val loss:  0.8114663101079171 Val Accuracy:  70.4931735859571 %\n",
      "learning rate : 0.00042187500000000005\n",
      "epoch:  44 Training loss:  0.747833379990274 Training Accuracy:  71.86248214845519 %   Val loss:  0.8126978492527678 Val Accuracy:  69.99164112566174 %\n",
      "learning rate : 0.00042187500000000005\n",
      "epoch:  45 Training loss:  0.7424880904052199 Training Accuracy:  72.02689052213591 %   Val loss:  0.8097063339593118 Val Accuracy:  70.79966564502647 %\n",
      "learning rate : 0.00042187500000000005\n",
      "epoch:  46 Training loss:  0.7408935604886647 Training Accuracy:  72.22125465881778 %   Val loss:  0.8330224187750566 Val Accuracy:  69.85232655335749 %\n",
      "learning rate : 0.00042187500000000005\n",
      "epoch:  47 Training loss:  0.7377112868899492 Training Accuracy:  72.21742310773624 %   Val loss:  0.836935816103952 Val Accuracy:  69.46224575090555 %\n",
      "learning rate : 0.00042187500000000005\n",
      "epoch:  48 Training loss:  0.7324297950501432 Training Accuracy:  72.41945034658121 %   Val loss:  0.8053651211554544 Val Accuracy:  71.1340206185567 %\n",
      "learning rate : 0.00042187500000000005\n",
      "epoch:  49 Training loss:  0.7330149442023849 Training Accuracy:  72.39019122923125 %   Val loss:  0.8535611158923099 Val Accuracy:  70.32599609919198 %\n",
      "learning rate : 0.00042187500000000005\n",
      "epoch:  50 Training loss:  0.7249843532630224 Training Accuracy:  72.66223135602075 %   Val loss:  0.8559734037047938 Val Accuracy:  68.62635831707998 %\n",
      "learning rate : 0.00042187500000000005\n",
      "epoch:  51 Training loss:  0.7231487700827669 Training Accuracy:  72.87958479919189 %   Val loss:  0.8536678369630847 Val Accuracy:  69.57369740874896 %\n",
      "learning rate : 0.00042187500000000005\n",
      "epoch:  52 Training loss:  0.7171569947808781 Training Accuracy:  73.10181476192135 %   Val loss:  0.8269456975292742 Val Accuracy:  70.4931735859571 %\n",
      "learning rate : 0.00042187500000000005\n",
      "epoch:  53 Training loss:  0.7170965483034639 Training Accuracy:  72.94193458497335 %   Val loss:  0.9015127190372401 Val Accuracy:  69.65728615213152 %\n",
      "learning rate : 0.00042187500000000005\n",
      "Epoch 00049: reducing learning rate of group 0 to 3.1641e-04.\n",
      "epoch:  54 Training loss:  0.7133784199876084 Training Accuracy:  73.30210038663833 %   Val loss:  0.8355587208480165 Val Accuracy:  70.88325438840903 %\n",
      "learning rate : 0.00031640625000000006\n",
      "epoch:  55 Training loss:  0.7032167381857977 Training Accuracy:  73.65564805461702 %   Val loss:  0.8397688928403353 Val Accuracy:  70.93898021733074 %\n",
      "learning rate : 0.00031640625000000006\n",
      "epoch:  56 Training loss:  0.6938349060332589 Training Accuracy:  74.00013932913025 %   Val loss:  0.8268797575381764 Val Accuracy:  71.24547227640011 %\n",
      "learning rate : 0.00031640625000000006\n",
      "epoch:  57 Training loss:  0.6911600676836044 Training Accuracy:  74.135288585461 %   Val loss:  0.8330660326439038 Val Accuracy:  71.49623850654778 %\n",
      "learning rate : 0.00031640625000000006\n",
      "epoch:  58 Training loss:  0.6908727592906867 Training Accuracy:  74.16350273433419 %   Val loss:  0.8462543121555395 Val Accuracy:  71.32906101978267 %\n",
      "learning rate : 0.00031640625000000006\n",
      "epoch:  59 Training loss:  0.6901786900177299 Training Accuracy:  74.0826918387962 %   Val loss:  0.8360618635227806 Val Accuracy:  72.10922262468654 %\n",
      "learning rate : 0.00031640625000000006\n",
      "epoch:  60 Training loss:  0.6844645538149539 Training Accuracy:  74.39165418509876 %   Val loss:  0.8266039082878515 Val Accuracy:  71.078294789635 %\n",
      "learning rate : 0.00031640625000000006\n",
      "epoch:  61 Training loss:  0.677954235228239 Training Accuracy:  74.45957713608973 %   Val loss:  0.8657486036158445 Val Accuracy:  69.85232655335749 %\n",
      "learning rate : 0.00031640625000000006\n",
      "epoch:  62 Training loss:  0.6745917248168342 Training Accuracy:  74.65637953255076 %   Val loss:  0.8634484964504576 Val Accuracy:  69.21147952075786 %\n",
      "learning rate : 0.00031640625000000006\n",
      "epoch:  63 Training loss:  0.6746575447392623 Training Accuracy:  74.83785572468564 %   Val loss:  0.8445202216767428 Val Accuracy:  71.74700473669546 %\n",
      "learning rate : 0.00031640625000000006\n",
      "epoch:  64 Training loss:  0.6744857940217169 Training Accuracy:  74.70862795638999 %   Val loss:  0.8348067047303183 Val Accuracy:  71.55196433546949 %\n",
      "learning rate : 0.00031640625000000006\n",
      "Epoch 00060: reducing learning rate of group 0 to 2.3730e-04.\n",
      "epoch:  65 Training loss:  0.6701514355854893 Training Accuracy:  74.9064753213278 %   Val loss:  0.8423094519397669 Val Accuracy:  70.38172192811368 %\n",
      "learning rate : 0.00023730468750000005\n",
      "epoch:  66 Training loss:  0.6596144820772991 Training Accuracy:  75.39552056846284 %   Val loss:  0.8587537428788972 Val Accuracy:  70.4931735859571 %\n",
      "learning rate : 0.00023730468750000005\n",
      "epoch:  67 Training loss:  0.6575455434603786 Training Accuracy:  75.32515935769271 %   Val loss:  0.8291931764075631 Val Accuracy:  71.32906101978267 %\n",
      "learning rate : 0.00023730468750000005\n",
      "epoch:  68 Training loss:  0.6516976957862786 Training Accuracy:  75.69020167891603 %   Val loss:  0.8304168158455899 Val Accuracy:  71.05043187517414 %\n",
      "learning rate : 0.00023730468750000005\n",
      "epoch:  69 Training loss:  0.6492878018083976 Training Accuracy:  75.64805461701906 %   Val loss:  0.8487891188839025 Val Accuracy:  71.27333519086096 %\n",
      "learning rate : 0.00023730468750000005\n",
      "epoch:  70 Training loss:  0.6480554351562381 Training Accuracy:  75.77414747988436 %   Val loss:  0.8553842964925265 Val Accuracy:  70.74393981610476 %\n",
      "learning rate : 0.00023730468750000005\n",
      "Epoch 00066: reducing learning rate of group 0 to 1.7798e-04.\n",
      "epoch:  71 Training loss:  0.6397102685574699 Training Accuracy:  76.0966944163851 %   Val loss:  0.8423434597227657 Val Accuracy:  71.88631930899973 %\n",
      "learning rate : 0.00017797851562500002\n",
      "epoch:  72 Training loss:  0.6363407956863565 Training Accuracy:  76.26388937267059 %   Val loss:  0.8268893889167852 Val Accuracy:  71.57982724993033 %\n",
      "learning rate : 0.00017797851562500002\n",
      "epoch:  73 Training loss:  0.6323155174011111 Training Accuracy:  76.34713852798774 %   Val loss:  0.8441861779020544 Val Accuracy:  71.30119810532182 %\n",
      "learning rate : 0.00017797851562500002\n",
      "epoch:  74 Training loss:  0.6315419270360391 Training Accuracy:  76.42620780939775 %   Val loss:  0.8328604070763839 Val Accuracy:  71.94204513792143 %\n",
      "learning rate : 0.00017797851562500002\n",
      "epoch:  75 Training loss:  0.6304080163715677 Training Accuracy:  76.59096450590407 %   Val loss:  0.8298868725174352 Val Accuracy:  72.49930342713849 %\n",
      "learning rate : 0.00017797851562500002\n",
      "epoch:  76 Training loss:  0.6282263850183423 Training Accuracy:  76.54742415270472 %   Val loss:  0.8266203565555706 Val Accuracy:  72.1928113680691 %\n",
      "learning rate : 0.00017797851562500002\n",
      "epoch:  77 Training loss:  0.6283956801307228 Training Accuracy:  76.59688599393918 %   Val loss:  0.8943919330312494 Val Accuracy:  70.79966564502647 %\n",
      "learning rate : 0.00017797851562500002\n",
      "epoch:  78 Training loss:  0.62350968289747 Training Accuracy:  76.72437214810687 %   Val loss:  0.8675264225978601 Val Accuracy:  71.078294789635 %\n",
      "learning rate : 0.00017797851562500002\n",
      "epoch:  79 Training loss:  0.6196282243144539 Training Accuracy:  76.90410672611377 %   Val loss:  0.8475592910197743 Val Accuracy:  71.88631930899973 %\n",
      "learning rate : 0.00017797851562500002\n",
      "epoch:  80 Training loss:  0.6181485597168682 Training Accuracy:  76.89644362395067 %   Val loss:  0.8440953764999122 Val Accuracy:  72.24853719699081 %\n",
      "learning rate : 0.00017797851562500002\n",
      "Epoch 00076: reducing learning rate of group 0 to 1.3348e-04.\n",
      "epoch:  81 Training loss:  0.6137761603086722 Training Accuracy:  77.09254937476054 %   Val loss:  0.8647658239331162 Val Accuracy:  71.44051267762607 %\n",
      "learning rate : 0.00013348388671875002\n",
      "epoch:  82 Training loss:  0.6102836163909504 Training Accuracy:  77.20993416698596 %   Val loss:  0.8357936907232854 Val Accuracy:  71.80273056561717 %\n",
      "learning rate : 0.00013348388671875002\n",
      "epoch:  83 Training loss:  0.6090633882446119 Training Accuracy:  77.20923752133477 %   Val loss:  0.8540889056105363 Val Accuracy:  71.94204513792143 %\n",
      "learning rate : 0.00013348388671875002\n",
      "epoch:  84 Training loss:  0.605680690111721 Training Accuracy:  77.37469086349228 %   Val loss:  0.8527477665951377 Val Accuracy:  71.38478684870438 %\n",
      "learning rate : 0.00013348388671875002\n",
      "epoch:  85 Training loss:  0.6038994372953019 Training Accuracy:  77.50740186004388 %   Val loss:  0.8459428433786359 Val Accuracy:  72.38785176929507 %\n",
      "learning rate : 0.00013348388671875002\n",
      "epoch:  86 Training loss:  0.5992339838852064 Training Accuracy:  77.63419136856038 %   Val loss:  0.8508225689854538 Val Accuracy:  72.08135971022568 %\n",
      "learning rate : 0.00013348388671875002\n",
      "Epoch 00082: reducing learning rate of group 0 to 1.0011e-04.\n",
      "epoch:  87 Training loss:  0.5986978193301135 Training Accuracy:  77.62792155769968 %   Val loss:  0.848173203175528 Val Accuracy:  72.24853719699081 %\n",
      "learning rate : 0.00010011291503906251\n",
      "epoch:  88 Training loss:  0.5937857305286722 Training Accuracy:  77.77561043575186 %   Val loss:  0.8724406523662701 Val Accuracy:  72.16494845360825 %\n",
      "learning rate : 0.00010011291503906251\n",
      "epoch:  89 Training loss:  0.5953369705475253 Training Accuracy:  77.76307081403044 %   Val loss:  0.8608192508680779 Val Accuracy:  72.27640011145165 %\n",
      "learning rate : 0.00010011291503906251\n",
      "epoch:  90 Training loss:  0.5914827088736213 Training Accuracy:  78.02570622452889 %   Val loss:  0.847465737869865 Val Accuracy:  71.24547227640011 %\n",
      "learning rate : 0.00010011291503906251\n",
      "epoch:  91 Training loss:  0.5903261111414512 Training Accuracy:  78.0323243582152 %   Val loss:  0.8606107433636984 Val Accuracy:  71.49623850654778 %\n",
      "learning rate : 0.00010011291503906251\n",
      "epoch:  92 Training loss:  0.5890284843726253 Training Accuracy:  78.17444007105786 %   Val loss:  0.8463464358396697 Val Accuracy:  72.05349679576484 %\n",
      "learning rate : 0.00010011291503906251\n",
      "Epoch 00088: reducing learning rate of group 0 to 7.5085e-05.\n",
      "epoch:  93 Training loss:  0.5874246357543962 Training Accuracy:  78.16155212651084 %   Val loss:  0.8476974237383458 Val Accuracy:  72.33212594037336 %\n",
      "learning rate : 7.508468627929689e-05\n",
      "epoch:  94 Training loss:  0.5852588069332735 Training Accuracy:  78.25977916332857 %   Val loss:  0.8794142666615938 Val Accuracy:  71.96990805238228 %\n",
      "learning rate : 7.508468627929689e-05\n",
      "epoch:  95 Training loss:  0.582782845122777 Training Accuracy:  78.43603051307953 %   Val loss:  0.850004663070043 Val Accuracy:  72.24853719699081 %\n",
      "learning rate : 7.508468627929689e-05\n",
      "epoch:  96 Training loss:  0.5839665726590528 Training Accuracy:  78.1246299069978 %   Val loss:  0.8528086642424265 Val Accuracy:  71.99777096684313 %\n",
      "learning rate : 7.508468627929689e-05\n",
      "epoch:  97 Training loss:  0.5808893558973725 Training Accuracy:  78.39423177400815 %   Val loss:  0.8711119231424833 Val Accuracy:  72.41571468375592 %\n",
      "learning rate : 7.508468627929689e-05\n",
      "epoch:  98 Training loss:  0.5797985374662021 Training Accuracy:  78.4513567174057 %   Val loss:  0.8591640455680981 Val Accuracy:  72.35998885483421 %\n",
      "learning rate : 7.508468627929689e-05\n",
      "Epoch 00094: reducing learning rate of group 0 to 5.6314e-05.\n",
      "epoch:  99 Training loss:  0.5825406013591783 Training Accuracy:  78.30610609913268 %   Val loss:  0.8418447359612113 Val Accuracy:  72.35998885483421 %\n",
      "learning rate : 5.631351470947266e-05\n",
      "epoch:  100 Training loss:  0.5764490873749909 Training Accuracy:  78.59939391828347 %   Val loss:  0.8525132500288779 Val Accuracy:  72.41571468375592 %\n",
      "learning rate : 5.631351470947266e-05\n",
      "epoch:  101 Training loss:  0.5723992843006661 Training Accuracy:  78.72583510397436 %   Val loss:  0.8491892807365379 Val Accuracy:  72.33212594037336 %\n",
      "learning rate : 5.631351470947266e-05\n",
      "epoch:  102 Training loss:  0.5721214918091992 Training Accuracy:  78.75822912675467 %   Val loss:  0.8596617634359159 Val Accuracy:  72.35998885483421 %\n",
      "learning rate : 5.631351470947266e-05\n",
      "epoch:  103 Training loss:  0.573795740415896 Training Accuracy:  78.61263018565606 %   Val loss:  0.8535451653756594 Val Accuracy:  72.10922262468654 %\n",
      "learning rate : 5.631351470947266e-05\n",
      "epoch:  104 Training loss:  0.5736982856933152 Training Accuracy:  78.63004632693581 %   Val loss:  0.8635843066792739 Val Accuracy:  72.05349679576484 %\n",
      "learning rate : 5.631351470947266e-05\n",
      "epoch:  105 Training loss:  0.570329393270552 Training Accuracy:  78.81500574732662 %   Val loss:  0.870196690162023 Val Accuracy:  72.58289217052103 %\n",
      "learning rate : 5.631351470947266e-05\n",
      "epoch:  106 Training loss:  0.5698869618647349 Training Accuracy:  78.76415061478978 %   Val loss:  0.8636775764456966 Val Accuracy:  72.47144051267762 %\n",
      "learning rate : 5.631351470947266e-05\n",
      "epoch:  107 Training loss:  0.5702386680318412 Training Accuracy:  78.73140826918387 %   Val loss:  0.8694050693721102 Val Accuracy:  72.49930342713849 %\n",
      "learning rate : 5.631351470947266e-05\n",
      "epoch:  108 Training loss:  0.5713682696389196 Training Accuracy:  78.76624055174337 %   Val loss:  0.8519276824959537 Val Accuracy:  71.94204513792143 %\n",
      "learning rate : 5.631351470947266e-05\n",
      "epoch:  109 Training loss:  0.5675367430217547 Training Accuracy:  78.9027830993765 %   Val loss:  0.8708848419942354 Val Accuracy:  72.6664809139036 %\n",
      "learning rate : 5.631351470947266e-05\n",
      "epoch:  110 Training loss:  0.5694504549482087 Training Accuracy:  78.78504998432547 %   Val loss:  0.860303008765505 Val Accuracy:  72.52716634159934 %\n",
      "learning rate : 5.631351470947266e-05\n",
      "epoch:  111 Training loss:  0.5677493937429713 Training Accuracy:  78.77042042565049 %   Val loss:  0.8681079295643589 Val Accuracy:  72.49930342713849 %\n",
      "learning rate : 5.631351470947266e-05\n",
      "epoch:  112 Training loss:  0.5665460175820076 Training Accuracy:  78.91149117001636 %   Val loss:  0.8795680612848517 Val Accuracy:  72.10922262468654 %\n",
      "learning rate : 5.631351470947266e-05\n",
      "epoch:  113 Training loss:  0.5670549687006425 Training Accuracy:  78.9226375004354 %   Val loss:  0.861120441503692 Val Accuracy:  72.47144051267762 %\n",
      "learning rate : 5.631351470947266e-05\n",
      "epoch:  114 Training loss:  0.5691643892922221 Training Accuracy:  78.77460029955763 %   Val loss:  0.8951806504475442 Val Accuracy:  72.16494845360825 %\n",
      "learning rate : 5.631351470947266e-05\n",
      "Epoch 00110: reducing learning rate of group 0 to 4.2235e-05.\n",
      "epoch:  115 Training loss:  0.5646424107004646 Training Accuracy:  79.01250478943885 %   Val loss:  0.8787913013968551 Val Accuracy:  72.38785176929507 %\n",
      "learning rate : 4.22351360321045e-05\n",
      "epoch:  116 Training loss:  0.5614868811350358 Training Accuracy:  79.11212511755895 %   Val loss:  0.880479445582942 Val Accuracy:  72.49930342713849 %\n",
      "learning rate : 4.22351360321045e-05\n",
      "epoch:  117 Training loss:  0.5589589298036953 Training Accuracy:  79.1152600229893 %   Val loss:  0.8592960437138876 Val Accuracy:  72.27640011145165 %\n",
      "learning rate : 4.22351360321045e-05\n",
      "epoch:  118 Training loss:  0.5626695990429689 Training Accuracy:  79.07485457522031 %   Val loss:  0.8607131663644523 Val Accuracy:  72.41571468375592 %\n",
      "learning rate : 4.22351360321045e-05\n",
      "epoch:  119 Training loss:  0.5600073166971483 Training Accuracy:  79.15775540771187 %   Val loss:  0.8569168590924197 Val Accuracy:  72.49930342713849 %\n",
      "learning rate : 4.22351360321045e-05\n",
      "epoch:  120 Training loss:  0.5587680173212276 Training Accuracy:  79.29429795534502 %   Val loss:  0.8596293962838357 Val Accuracy:  71.96990805238228 %\n",
      "learning rate : 4.22351360321045e-05\n",
      "epoch:  121 Training loss:  0.5570644016122499 Training Accuracy:  79.31833223031106 %   Val loss:  0.8678983423793525 Val Accuracy:  73.05656171635553 %\n",
      "learning rate : 4.22351360321045e-05\n",
      "epoch:  122 Training loss:  0.5622600571217145 Training Accuracy:  79.0156396948692 %   Val loss:  0.870944671463548 Val Accuracy:  72.27640011145165 %\n",
      "learning rate : 4.22351360321045e-05\n",
      "epoch:  123 Training loss:  0.5555548456171838 Training Accuracy:  79.3615242606848 %   Val loss:  0.8938544099791008 Val Accuracy:  72.44357759821676 %\n",
      "learning rate : 4.22351360321045e-05\n",
      "epoch:  124 Training loss:  0.5574713794054061 Training Accuracy:  79.33226514333485 %   Val loss:  0.8793188124372248 Val Accuracy:  71.91418222346057 %\n",
      "learning rate : 4.22351360321045e-05\n",
      "epoch:  125 Training loss:  0.5568417439481994 Training Accuracy:  79.25981399561113 %   Val loss:  0.8631902582812727 Val Accuracy:  72.777932571747 %\n",
      "learning rate : 4.22351360321045e-05\n",
      "epoch:  126 Training loss:  0.5540829166803168 Training Accuracy:  79.48901041485249 %   Val loss:  0.8666631851279945 Val Accuracy:  72.69434382836445 %\n",
      "learning rate : 4.22351360321045e-05\n",
      "Epoch 00122: reducing learning rate of group 0 to 3.1676e-05.\n",
      "epoch:  127 Training loss:  0.5586609953230367 Training Accuracy:  79.1960709185273 %   Val loss:  0.9091075972506875 Val Accuracy:  72.52716634159934 %\n",
      "learning rate : 3.167635202407837e-05\n",
      "epoch:  128 Training loss:  0.5546084895298582 Training Accuracy:  79.31659061618308 %   Val loss:  0.8614574549883082 Val Accuracy:  72.7222067428253 %\n",
      "learning rate : 3.167635202407837e-05\n",
      "epoch:  129 Training loss:  0.5544466358383409 Training Accuracy:  79.38068201609252 %   Val loss:  0.8959404805250335 Val Accuracy:  72.35998885483421 %\n",
      "learning rate : 3.167635202407837e-05\n",
      "epoch:  130 Training loss:  0.5513680770429046 Training Accuracy:  79.55797833432024 %   Val loss:  0.8722085597222311 Val Accuracy:  72.7222067428253 %\n",
      "learning rate : 3.167635202407837e-05\n",
      "epoch:  131 Training loss:  0.5508135549873445 Training Accuracy:  79.62450799400885 %   Val loss:  0.8664242118074182 Val Accuracy:  72.44357759821676 %\n",
      "learning rate : 3.167635202407837e-05\n",
      "epoch:  132 Training loss:  0.5497771825450566 Training Accuracy:  79.58619248319341 %   Val loss:  0.8791242942475436 Val Accuracy:  72.88938422959042 %\n",
      "learning rate : 3.167635202407837e-05\n",
      "Epoch 00128: reducing learning rate of group 0 to 2.3757e-05.\n",
      "epoch:  133 Training loss:  0.55377830276245 Training Accuracy:  79.3549061269985 %   Val loss:  0.8712548790009398 Val Accuracy:  72.6664809139036 %\n",
      "learning rate : 2.3757264018058778e-05\n",
      "epoch:  134 Training loss:  0.5523108648165297 Training Accuracy:  79.41098610191926 %   Val loss:  0.8719039182913931 Val Accuracy:  72.16494845360825 %\n",
      "learning rate : 2.3757264018058778e-05\n",
      "epoch:  135 Training loss:  0.5468162723001765 Training Accuracy:  79.667351701557 %   Val loss:  0.8790737976107681 Val Accuracy:  72.22067428252996 %\n",
      "learning rate : 2.3757264018058778e-05\n",
      "epoch:  136 Training loss:  0.551777930063235 Training Accuracy:  79.49353861158521 %   Val loss:  0.8638200425265128 Val Accuracy:  72.61075508498189 %\n",
      "learning rate : 2.3757264018058778e-05\n",
      "epoch:  137 Training loss:  0.5513440013462823 Training Accuracy:  79.45940297467693 %   Val loss:  0.8772490641527009 Val Accuracy:  72.35998885483421 %\n",
      "learning rate : 2.3757264018058778e-05\n",
      "epoch:  138 Training loss:  0.5469987876298433 Training Accuracy:  79.74224110905988 %   Val loss:  0.8774350248930747 Val Accuracy:  72.91724714405127 %\n",
      "learning rate : 2.3757264018058778e-05\n",
      "Epoch 00134: reducing learning rate of group 0 to 1.7818e-05.\n",
      "epoch:  139 Training loss:  0.5536435280982529 Training Accuracy:  79.46218955728169 %   Val loss:  0.864437443383953 Val Accuracy:  72.58289217052103 %\n",
      "learning rate : 1.7817948013544083e-05\n",
      "epoch:  140 Training loss:  0.5490882306428158 Training Accuracy:  79.60360862447317 %   Val loss:  0.8677658045239616 Val Accuracy:  72.6664809139036 %\n",
      "learning rate : 1.7817948013544083e-05\n",
      "epoch:  141 Training loss:  0.5466894358064656 Training Accuracy:  79.74607266014142 %   Val loss:  0.8753330393841392 Val Accuracy:  72.44357759821676 %\n",
      "learning rate : 1.7817948013544083e-05\n",
      "epoch:  142 Training loss:  0.5395560575885603 Training Accuracy:  80.07906928141001 %   Val loss:  0.863253447308875 Val Accuracy:  72.83365840066871 %\n",
      "learning rate : 1.7817948013544083e-05\n",
      "epoch:  143 Training loss:  0.5444051483957167 Training Accuracy:  79.76488209272354 %   Val loss:  0.8682641136018854 Val Accuracy:  72.38785176929507 %\n",
      "learning rate : 1.7817948013544083e-05\n",
      "epoch:  144 Training loss:  0.5477995288398589 Training Accuracy:  79.66561008742903 %   Val loss:  0.8813883547197309 Val Accuracy:  72.75006965728615 %\n",
      "learning rate : 1.7817948013544083e-05\n",
      "Epoch 00140: reducing learning rate of group 0 to 1.3363e-05.\n",
      "epoch:  145 Training loss:  0.5444960124243076 Training Accuracy:  79.76279215576997 %   Val loss:  0.8681002243569023 Val Accuracy:  72.86152131512956 %\n",
      "learning rate : 1.3363461010158061e-05\n",
      "epoch:  146 Training loss:  0.5436462048432875 Training Accuracy:  79.88122191647219 %   Val loss:  0.8642475944862031 Val Accuracy:  72.94511005851211 %\n",
      "learning rate : 1.3363461010158061e-05\n",
      "epoch:  147 Training loss:  0.5447042310290985 Training Accuracy:  79.79135462746873 %   Val loss:  0.8916518949625785 Val Accuracy:  72.5550292560602 %\n",
      "learning rate : 1.3363461010158061e-05\n",
      "epoch:  148 Training loss:  0.542991984129483 Training Accuracy:  79.76348880142116 %   Val loss:  0.8962956070899963 Val Accuracy:  72.6664809139036 %\n",
      "learning rate : 1.3363461010158061e-05\n",
      "epoch:  149 Training loss:  0.5428312406242558 Training Accuracy:  79.8474346023895 %   Val loss:  0.8646724265918397 Val Accuracy:  72.7222067428253 %\n",
      "learning rate : 1.3363461010158061e-05\n",
      "epoch:  150 Training loss:  0.5440293864444529 Training Accuracy:  79.8669406806228 %   Val loss:  0.8670634826024374 Val Accuracy:  72.80579548620786 %\n",
      "learning rate : 1.3363461010158061e-05\n",
      "Epoch 00146: reducing learning rate of group 0 to 1.0023e-05.\n",
      "epoch:  151 Training loss:  0.5431236155447291 Training Accuracy:  79.76383712424675 %   Val loss:  0.8771450268594843 Val Accuracy:  72.49930342713849 %\n",
      "learning rate : 1.0022595757618546e-05\n",
      "epoch:  152 Training loss:  0.541907241854211 Training Accuracy:  79.8070291546205 %   Val loss:  0.8918670886441281 Val Accuracy:  72.69434382836445 %\n",
      "learning rate : 1.0022595757618546e-05\n",
      "epoch:  153 Training loss:  0.5438972588105828 Training Accuracy:  79.81190567417883 %   Val loss:  0.87168025499896 Val Accuracy:  72.86152131512956 %\n",
      "learning rate : 1.0022595757618546e-05\n",
      "epoch:  154 Training loss:  0.5419219841803102 Training Accuracy:  79.84290640565676 %   Val loss:  0.8708219371343914 Val Accuracy:  72.58289217052103 %\n",
      "learning rate : 1.0022595757618546e-05\n",
      "epoch:  155 Training loss:  0.5392297921839164 Training Accuracy:  79.93416698596259 %   Val loss:  0.87794134805077 Val Accuracy:  72.69434382836445 %\n",
      "learning rate : 1.0022595757618546e-05\n",
      "epoch:  156 Training loss:  0.542354078693751 Training Accuracy:  79.82479361872583 %   Val loss:  0.8831147645649157 Val Accuracy:  72.91724714405127 %\n",
      "learning rate : 1.0022595757618546e-05\n",
      "Epoch 00152: reducing learning rate of group 0 to 7.5169e-06.\n",
      "epoch:  157 Training loss:  0.5429736838441649 Training Accuracy:  79.84255808283118 %   Val loss:  0.869452401734235 Val Accuracy:  72.83365840066871 %\n",
      "learning rate : 7.51694681821391e-06\n",
      "epoch:  158 Training loss:  0.5389722946757464 Training Accuracy:  79.96969591417326 %   Val loss:  0.8678437006055263 Val Accuracy:  72.69434382836445 %\n",
      "learning rate : 7.51694681821391e-06\n",
      "epoch:  159 Training loss:  0.5408385621678324 Training Accuracy:  80.04981016406005 %   Val loss:  0.8822048243723417 Val Accuracy:  72.75006965728615 %\n",
      "learning rate : 7.51694681821391e-06\n",
      "epoch:  160 Training loss:  0.5396502923992004 Training Accuracy:  79.92093071858999 %   Val loss:  0.8735173497545091 Val Accuracy:  72.777932571747 %\n",
      "learning rate : 7.51694681821391e-06\n",
      "epoch:  161 Training loss:  0.5395138556415626 Training Accuracy:  79.92406562402034 %   Val loss:  0.8857476606703641 Val Accuracy:  72.58289217052103 %\n",
      "learning rate : 7.51694681821391e-06\n",
      "epoch:  162 Training loss:  0.5454607223614818 Training Accuracy:  79.66595841025462 %   Val loss:  0.881415421502632 Val Accuracy:  72.16494845360825 %\n",
      "learning rate : 7.51694681821391e-06\n",
      "Epoch 00158: reducing learning rate of group 0 to 5.6377e-06.\n",
      "epoch:  163 Training loss:  0.5394215849300801 Training Accuracy:  79.96203281201018 %   Val loss:  0.8819440896050972 Val Accuracy:  72.47144051267762 %\n",
      "learning rate : 5.637710113660432e-06\n",
      "epoch:  164 Training loss:  0.5391540264499214 Training Accuracy:  79.90490786861263 %   Val loss:  0.8699133362817136 Val Accuracy:  72.44357759821676 %\n",
      "learning rate : 5.637710113660432e-06\n",
      "epoch:  165 Training loss:  0.5390772102006559 Training Accuracy:  79.98362882719705 %   Val loss:  0.8950483066993847 Val Accuracy:  72.3042630259125 %\n",
      "learning rate : 5.637710113660432e-06\n",
      "epoch:  166 Training loss:  0.5381770243490724 Training Accuracy:  79.93869518269531 %   Val loss:  0.8781285740827259 Val Accuracy:  72.35998885483421 %\n",
      "learning rate : 5.637710113660432e-06\n",
      "epoch:  167 Training loss:  0.5414554495986692 Training Accuracy:  79.89898638057753 %   Val loss:  0.8851000656161392 Val Accuracy:  72.63861799944274 %\n",
      "learning rate : 5.637710113660432e-06\n",
      "epoch:  168 Training loss:  0.5386436855076151 Training Accuracy:  79.91640252185725 %   Val loss:  0.8896302873628181 Val Accuracy:  72.6664809139036 %\n",
      "learning rate : 5.637710113660432e-06\n",
      "Epoch 00164: reducing learning rate of group 0 to 4.2283e-06.\n",
      "epoch:  169 Training loss:  0.5395809256021589 Training Accuracy:  79.98641540980181 %   Val loss:  0.881034386262559 Val Accuracy:  72.5550292560602 %\n",
      "learning rate : 4.228282585245324e-06\n",
      "epoch:  170 Training loss:  0.5401824455218751 Training Accuracy:  79.90246960883347 %   Val loss:  0.8775021757995873 Val Accuracy:  72.63861799944274 %\n",
      "learning rate : 4.228282585245324e-06\n",
      "epoch:  171 Training loss:  0.5421802069004501 Training Accuracy:  79.75443240795569 %   Val loss:  0.8893185304967981 Val Accuracy:  72.49930342713849 %\n",
      "learning rate : 4.228282585245324e-06\n",
      "epoch:  172 Training loss:  0.5403324163836201 Training Accuracy:  79.95297641854471 %   Val loss:  0.8945683983334324 Val Accuracy:  72.27640011145165 %\n",
      "learning rate : 4.228282585245324e-06\n",
      "epoch:  173 Training loss:  0.5427482311337987 Training Accuracy:  79.76592706120033 %   Val loss:  0.8740268757468775 Val Accuracy:  72.58289217052103 %\n",
      "learning rate : 4.228282585245324e-06\n",
      "epoch:  174 Training loss:  0.539435602376084 Training Accuracy:  79.95820126092863 %   Val loss:  0.8711164729637012 Val Accuracy:  72.35998885483421 %\n",
      "learning rate : 4.228282585245324e-06\n",
      "Epoch 00170: reducing learning rate of group 0 to 3.1712e-06.\n",
      "epoch:  175 Training loss:  0.5412110303319111 Training Accuracy:  79.99547180326726 %   Val loss:  0.8832316576388844 Val Accuracy:  72.61075508498189 %\n",
      "learning rate : 3.171211938933993e-06\n",
      "epoch:  176 Training loss:  0.5356029092867284 Training Accuracy:  80.08290083249156 %   Val loss:  0.8898519308943498 Val Accuracy:  72.61075508498189 %\n",
      "learning rate : 3.171211938933993e-06\n",
      "epoch:  177 Training loss:  0.5363309305733721 Training Accuracy:  80.13201435090042 %   Val loss:  0.8984442917924178 Val Accuracy:  72.5550292560602 %\n",
      "learning rate : 3.171211938933993e-06\n",
      "epoch:  178 Training loss:  0.5396390579856584 Training Accuracy:  79.97387578808039 %   Val loss:  0.907838545347515 Val Accuracy:  72.47144051267762 %\n",
      "learning rate : 3.171211938933993e-06\n",
      "epoch:  179 Training loss:  0.5381391811742549 Training Accuracy:  79.98258385872026 %   Val loss:  0.8894910425470587 Val Accuracy:  72.44357759821676 %\n",
      "learning rate : 3.171211938933993e-06\n",
      "epoch:  180 Training loss:  0.5371271255021637 Training Accuracy:  80.07663102163085 %   Val loss:  0.8780902586223787 Val Accuracy:  72.35998885483421 %\n",
      "learning rate : 3.171211938933993e-06\n"
     ]
    },
    {
     "ename": "KeyboardInterrupt",
     "evalue": "",
     "output_type": "error",
     "traceback": [
      "\u001B[1;31m---------------------------------------------------------------------------\u001B[0m",
      "\u001B[1;31mKeyboardInterrupt\u001B[0m                         Traceback (most recent call last)",
      "Input \u001B[1;32mIn [25]\u001B[0m, in \u001B[0;36m<cell line: 6>\u001B[1;34m()\u001B[0m\n\u001B[0;32m      4\u001B[0m \u001B[38;5;66;03m# Train and validate model\u001B[39;00m\n\u001B[0;32m      6\u001B[0m \u001B[38;5;28;01mfor\u001B[39;00m e \u001B[38;5;129;01min\u001B[39;00m \u001B[38;5;28mrange\u001B[39m(epoch):\n\u001B[1;32m----> 7\u001B[0m     train_accuracy, train_loss \u001B[38;5;241m=\u001B[39m \u001B[43mtrain_model\u001B[49m\u001B[43m(\u001B[49m\u001B[43mmodel\u001B[49m\u001B[43m,\u001B[49m\u001B[43m \u001B[49m\u001B[43mtrain_dataloader\u001B[49m\u001B[43m,\u001B[49m\u001B[43m \u001B[49m\u001B[43moptimizer\u001B[49m\u001B[43m,\u001B[49m\u001B[43m \u001B[49m\u001B[43mscaler\u001B[49m\u001B[43m)\u001B[49m\n\u001B[0;32m      9\u001B[0m     val_labels, val_pred, val_accuracy, val_loss \u001B[38;5;241m=\u001B[39m test_model(model, val_dataloader)\n\u001B[0;32m     11\u001B[0m     \u001B[38;5;66;03m# Decay Learning Rate\u001B[39;00m\n",
      "Input \u001B[1;32mIn [16]\u001B[0m, in \u001B[0;36mtrain_model\u001B[1;34m(model, dataloader, optimizer, scaler, Ncrop)\u001B[0m\n\u001B[0;32m     28\u001B[0m loss_ \u001B[38;5;241m=\u001B[39m loss(output, label)\n\u001B[0;32m     30\u001B[0m scaler\u001B[38;5;241m.\u001B[39mscale(loss_)\u001B[38;5;241m.\u001B[39mbackward()\n\u001B[1;32m---> 32\u001B[0m \u001B[43mscaler\u001B[49m\u001B[38;5;241;43m.\u001B[39;49m\u001B[43mstep\u001B[49m\u001B[43m(\u001B[49m\u001B[43moptimizer\u001B[49m\u001B[43m)\u001B[49m\n\u001B[0;32m     34\u001B[0m scaler\u001B[38;5;241m.\u001B[39mupdate()\n\u001B[0;32m     36\u001B[0m \u001B[38;5;66;03m# backward propagation dl/dw -> gradients\u001B[39;00m\n\u001B[0;32m     37\u001B[0m \u001B[38;5;66;03m#loss_.backward()\u001B[39;00m\n\u001B[0;32m     38\u001B[0m \n\u001B[1;32m   (...)\u001B[0m\n\u001B[0;32m     42\u001B[0m \n\u001B[0;32m     43\u001B[0m \u001B[38;5;66;03m######################################\u001B[39;00m\n",
      "File \u001B[1;32mC:\\ProgramData\\Anaconda3\\envs\\pytorch\\lib\\site-packages\\torch\\cuda\\amp\\grad_scaler.py:338\u001B[0m, in \u001B[0;36mGradScaler.step\u001B[1;34m(self, optimizer, *args, **kwargs)\u001B[0m\n\u001B[0;32m    334\u001B[0m     \u001B[38;5;28mself\u001B[39m\u001B[38;5;241m.\u001B[39munscale_(optimizer)\n\u001B[0;32m    336\u001B[0m \u001B[38;5;28;01massert\u001B[39;00m \u001B[38;5;28mlen\u001B[39m(optimizer_state[\u001B[38;5;124m\"\u001B[39m\u001B[38;5;124mfound_inf_per_device\u001B[39m\u001B[38;5;124m\"\u001B[39m]) \u001B[38;5;241m>\u001B[39m \u001B[38;5;241m0\u001B[39m, \u001B[38;5;124m\"\u001B[39m\u001B[38;5;124mNo inf checks were recorded for this optimizer.\u001B[39m\u001B[38;5;124m\"\u001B[39m\n\u001B[1;32m--> 338\u001B[0m retval \u001B[38;5;241m=\u001B[39m \u001B[38;5;28mself\u001B[39m\u001B[38;5;241m.\u001B[39m_maybe_opt_step(optimizer, optimizer_state, \u001B[38;5;241m*\u001B[39margs, \u001B[38;5;241m*\u001B[39m\u001B[38;5;241m*\u001B[39mkwargs)\n\u001B[0;32m    340\u001B[0m optimizer_state[\u001B[38;5;124m\"\u001B[39m\u001B[38;5;124mstage\u001B[39m\u001B[38;5;124m\"\u001B[39m] \u001B[38;5;241m=\u001B[39m OptState\u001B[38;5;241m.\u001B[39mSTEPPED\n\u001B[0;32m    342\u001B[0m \u001B[38;5;28;01mreturn\u001B[39;00m retval\n",
      "File \u001B[1;32mC:\\ProgramData\\Anaconda3\\envs\\pytorch\\lib\\site-packages\\torch\\cuda\\amp\\grad_scaler.py:284\u001B[0m, in \u001B[0;36mGradScaler._maybe_opt_step\u001B[1;34m(self, optimizer, optimizer_state, *args, **kwargs)\u001B[0m\n\u001B[0;32m    282\u001B[0m \u001B[38;5;28;01mdef\u001B[39;00m \u001B[38;5;21m_maybe_opt_step\u001B[39m(\u001B[38;5;28mself\u001B[39m, optimizer, optimizer_state, \u001B[38;5;241m*\u001B[39margs, \u001B[38;5;241m*\u001B[39m\u001B[38;5;241m*\u001B[39mkwargs):\n\u001B[0;32m    283\u001B[0m     retval \u001B[38;5;241m=\u001B[39m \u001B[38;5;28;01mNone\u001B[39;00m\n\u001B[1;32m--> 284\u001B[0m     \u001B[38;5;28;01mif\u001B[39;00m \u001B[38;5;129;01mnot\u001B[39;00m \u001B[38;5;28;43msum\u001B[39;49m\u001B[43m(\u001B[49m\u001B[43mv\u001B[49m\u001B[38;5;241;43m.\u001B[39;49m\u001B[43mitem\u001B[49m\u001B[43m(\u001B[49m\u001B[43m)\u001B[49m\u001B[43m \u001B[49m\u001B[38;5;28;43;01mfor\u001B[39;49;00m\u001B[43m \u001B[49m\u001B[43mv\u001B[49m\u001B[43m \u001B[49m\u001B[38;5;129;43;01min\u001B[39;49;00m\u001B[43m \u001B[49m\u001B[43moptimizer_state\u001B[49m\u001B[43m[\u001B[49m\u001B[38;5;124;43m\"\u001B[39;49m\u001B[38;5;124;43mfound_inf_per_device\u001B[39;49m\u001B[38;5;124;43m\"\u001B[39;49m\u001B[43m]\u001B[49m\u001B[38;5;241;43m.\u001B[39;49m\u001B[43mvalues\u001B[49m\u001B[43m(\u001B[49m\u001B[43m)\u001B[49m\u001B[43m)\u001B[49m:\n\u001B[0;32m    285\u001B[0m         retval \u001B[38;5;241m=\u001B[39m optimizer\u001B[38;5;241m.\u001B[39mstep(\u001B[38;5;241m*\u001B[39margs, \u001B[38;5;241m*\u001B[39m\u001B[38;5;241m*\u001B[39mkwargs)\n\u001B[0;32m    286\u001B[0m     \u001B[38;5;28;01mreturn\u001B[39;00m retval\n",
      "File \u001B[1;32mC:\\ProgramData\\Anaconda3\\envs\\pytorch\\lib\\site-packages\\torch\\cuda\\amp\\grad_scaler.py:284\u001B[0m, in \u001B[0;36m<genexpr>\u001B[1;34m(.0)\u001B[0m\n\u001B[0;32m    282\u001B[0m \u001B[38;5;28;01mdef\u001B[39;00m \u001B[38;5;21m_maybe_opt_step\u001B[39m(\u001B[38;5;28mself\u001B[39m, optimizer, optimizer_state, \u001B[38;5;241m*\u001B[39margs, \u001B[38;5;241m*\u001B[39m\u001B[38;5;241m*\u001B[39mkwargs):\n\u001B[0;32m    283\u001B[0m     retval \u001B[38;5;241m=\u001B[39m \u001B[38;5;28;01mNone\u001B[39;00m\n\u001B[1;32m--> 284\u001B[0m     \u001B[38;5;28;01mif\u001B[39;00m \u001B[38;5;129;01mnot\u001B[39;00m \u001B[38;5;28msum\u001B[39m(\u001B[43mv\u001B[49m\u001B[38;5;241;43m.\u001B[39;49m\u001B[43mitem\u001B[49m\u001B[43m(\u001B[49m\u001B[43m)\u001B[49m \u001B[38;5;28;01mfor\u001B[39;00m v \u001B[38;5;129;01min\u001B[39;00m optimizer_state[\u001B[38;5;124m\"\u001B[39m\u001B[38;5;124mfound_inf_per_device\u001B[39m\u001B[38;5;124m\"\u001B[39m]\u001B[38;5;241m.\u001B[39mvalues()):\n\u001B[0;32m    285\u001B[0m         retval \u001B[38;5;241m=\u001B[39m optimizer\u001B[38;5;241m.\u001B[39mstep(\u001B[38;5;241m*\u001B[39margs, \u001B[38;5;241m*\u001B[39m\u001B[38;5;241m*\u001B[39mkwargs)\n\u001B[0;32m    286\u001B[0m     \u001B[38;5;28;01mreturn\u001B[39;00m retval\n",
      "\u001B[1;31mKeyboardInterrupt\u001B[0m: "
     ]
    }
   ],
   "source": [
    "best_acc = 0.0\n",
    "\n",
    "epoch = 50\n",
    "# Train and validate model\n",
    "\n",
    "for e in range(epoch):\n",
    "    train_accuracy, train_loss = train_model(model, train_dataloader, optimizer, scaler)\n",
    "\n",
    "    val_labels, val_pred, val_accuracy, val_loss = test_model(model, val_dataloader)\n",
    "\n",
    "    # Decay Learning Rate\n",
    "    if e > 4:\n",
    "        scheduler.step(val_accuracy)\n",
    "    else:\n",
    "        scheduler2.step(e)\n",
    "\n",
    "    if val_accuracy > best_acc:\n",
    "        best_acc = val_accuracy\n",
    "        save_model(model, optimizer, e, model_path)\n",
    "\n",
    "    train_loss_list.append(train_loss)\n",
    "    train_acc_list.append(train_accuracy)\n",
    "    val_loss_list.append(val_loss)\n",
    "    val_acc_list.append(val_accuracy)\n",
    "\n",
    "    print('epoch: ', e + 1, 'Training loss: ', train_loss, 'Training Accuracy: ', train_accuracy, '%', '  Val loss: ',\n",
    "          val_loss, 'Val Accuracy: ', val_accuracy, '%')\n",
    "    print('learning rate :', optimizer.state_dict()['param_groups'][0]['lr'])\n",
    "\n",
    "    # early stopping\n",
    "    if train_accuracy - val_accuracy > 25:\n",
    "        path = \"./vgg1_epoch\" + str(e + 1) + \"_early_stop.pth\"\n",
    "        save_model(model, optimizer, e, path)\n",
    "        break\n",
    "\n",
    "    # checkpoint\n",
    "    if (e + 1) % 5 == 0 and e > 0:\n",
    "        path = \"./vgg1_epoch\" + str(e + 1) + \"_checkpoint.pth\"\n",
    "        save_model(model, optimizer, e, path)\n",
    "\n"
   ],
   "metadata": {
    "collapsed": false,
    "pycharm": {
     "name": "#%%\n"
    }
   }
  },
  {
   "cell_type": "code",
   "execution_count": 31,
   "metadata": {
    "pycharm": {
     "name": "#%%\n"
    }
   },
   "outputs": [
    {
     "name": "stdout",
     "output_type": "stream",
     "text": [
      "Test loss:  0.9323064935834784 Test Accuracy:  71.57982724993033 %\n"
     ]
    },
    {
     "data": {
      "text/plain": "<Figure size 864x720 with 2 Axes>",
      "image/png": "[encoded data removed]"
     },
     "metadata": {
      "needs_background": "light"
     },
     "output_type": "display_data"
    }
   ],
   "source": [
    "# test model\n",
    "\n",
    "model.load_state_dict(torch.load(model_path)['net_state'])\n",
    "\n",
    "test_labels, test_pred, test_accuracy, test_loss = test_model(model, test_dataloader)\n",
    "print('Test loss: ', test_loss, 'Test Accuracy: ', test_accuracy, '%')\n",
    "\n",
    "cm = confusion_matrix(test_labels, test_pred)\n",
    "plt.figure(figsize=(12, 10))\n",
    "cm = pd.DataFrame(cm, index=emotions, columns=emotions)\n",
    "\n",
    "sns.heatmap(cm, linecolor='white', cmap='Blues', linewidth=1, annot=True, fmt='')\n",
    "plt.title('Confusion Matrix', size=20)\n",
    "plt.xlabel('Predicted Labels', size=14)\n",
    "plt.ylabel('Actual Labels', size=14)\n",
    "plt.show()"
   ]
  },
  {
   "cell_type": "code",
   "execution_count": 32,
   "outputs": [
    {
     "data": {
      "text/plain": "<Figure size 864x720 with 1 Axes>",
      "image/png": "[encoded data removed]"
     },
     "metadata": {
      "needs_background": "light"
     },
     "output_type": "display_data"
    },
    {
     "data": {
      "text/plain": "<Figure size 864x720 with 1 Axes>",
      "image/png": "[encoded data removed]"
     },
     "metadata": {
      "needs_background": "light"
     },
     "output_type": "display_data"
    }
   ],
   "source": [
    "plt.figure(figsize=(12, 10))\n",
    "plt.plot(train_acc_list, '-o')\n",
    "plt.plot(val_acc_list, '-o')\n",
    "plt.xlabel('epoch', size=14)\n",
    "plt.ylabel('accuracy', size=14)\n",
    "plt.legend(['Train', 'Valid'])\n",
    "plt.title('Train vs Valid Accuracy', size=20)\n",
    "\n",
    "plt.show()\n",
    "\n",
    "plt.figure(figsize=(12, 10))\n",
    "plt.plot(train_loss_list, '-o')\n",
    "plt.plot(val_loss_list, '-o')\n",
    "plt.xlabel('epoch', size=14)\n",
    "plt.ylabel('losses', size=14)\n",
    "plt.legend(['Train', 'Valid'])\n",
    "plt.title('Train vs Valid Losses', size=20)\n",
    "\n",
    "plt.show()"
   ],
   "metadata": {
    "collapsed": false,
    "pycharm": {
     "name": "#%%\n"
    }
   }
  },
  {
   "cell_type": "code",
   "execution_count": null,
   "outputs": [],
   "source": [],
   "metadata": {
    "collapsed": false,
    "pycharm": {
     "name": "#%%\n"
    }
   }
  }
 ],
 "metadata": {
  "kernelspec": {
   "display_name": "Python 3 (ipykernel)",
   "language": "python",
   "name": "python3"
  },
  "language_info": {
   "codemirror_mode": {
    "name": "ipython",
    "version": 3
   },
   "file_extension": ".py",
   "mimetype": "text/x-python",
   "name": "python",
   "nbconvert_exporter": "python",
   "pygments_lexer": "ipython3",
   "version": "3.9.12"
  }
 },
 "nbformat": 4,
 "nbformat_minor": 1
}