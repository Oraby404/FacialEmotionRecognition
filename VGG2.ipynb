{
 "cells": [
  {
   "cell_type": "code",
   "execution_count": 1,
   "metadata": {
    "pycharm": {
     "name": "#%%\n"
    }
   },
   "outputs": [],
   "source": [
    "# imports cell\n",
    "import numpy as np\n",
    "import pandas as pd\n",
    "import cv2\n",
    "\n",
    "import matplotlib.pyplot as plt\n",
    "import seaborn as sns\n",
    "from PIL import Image\n",
    "\n",
    "import torch\n",
    "import torch.nn as nn\n",
    "import torch.nn.functional as F\n",
    "from torch.utils.data import Dataset, DataLoader\n",
    "from torch.autograd import Variable\n",
    "\n",
    "from torch.cuda.amp import GradScaler\n",
    "from torch.cuda.amp import autocast\n",
    "import torchvision.transforms as transforms\n",
    "\n",
    "from sklearn.metrics import accuracy_score, confusion_matrix\n",
    "from sklearn.model_selection import train_test_split\n",
    "from sklearn.preprocessing import LabelEncoder, OneHotEncoder, StandardScaler\n",
    "\n",
    "import warnings\n",
    "\n",
    "# to create a tensor on the gpu\n",
    "device = torch.device(\"cuda\" if torch.cuda.is_available() else \"cpu\")\n",
    "warnings.filterwarnings('ignore')"
   ]
  },
  {
   "cell_type": "code",
   "execution_count": 2,
   "metadata": {
    "pycharm": {
     "name": "#%%\n"
    }
   },
   "outputs": [],
   "source": [
    "filename = \"./dataset/icml_face_data.csv\"\n",
    "\n",
    "#emotions = ['Angry', 'Disgust', 'Fear', 'Happy', 'Sad', 'Surprise', 'Neutral']"
   ]
  },
  {
   "cell_type": "code",
   "execution_count": 3,
   "metadata": {
    "pycharm": {
     "name": "#%%\n"
    }
   },
   "outputs": [
    {
     "data": {
      "text/plain": "       emotion        Usage                                             pixels\n0            0     Training  70 80 82 72 58 58 60 63 54 58 60 48 89 115 121...\n1            0     Training  151 150 147 155 148 133 111 140 170 174 182 15...\n2            2     Training  231 212 156 164 174 138 161 173 182 200 106 38...\n3            4     Training  24 32 36 30 32 23 19 20 30 41 21 22 32 34 21 1...\n4            6     Training  4 0 0 0 0 0 0 0 0 0 0 0 3 15 23 28 48 50 58 84...\n...        ...          ...                                                ...\n35882        6  PrivateTest  50 36 17 22 23 29 33 39 34 37 37 37 39 43 48 5...\n35883        3  PrivateTest  178 174 172 173 181 188 191 194 196 199 200 20...\n35884        0  PrivateTest  17 17 16 23 28 22 19 17 25 26 20 24 31 19 27 9...\n35885        3  PrivateTest  30 28 28 29 31 30 42 68 79 81 77 67 67 71 63 6...\n35886        2  PrivateTest  19 13 14 12 13 16 21 33 50 57 71 84 97 108 122...\n\n[35887 rows x 3 columns]",
      "text/html": "<div>\n<style scoped>\n    .dataframe tbody tr th:only-of-type {\n        vertical-align: middle;\n    }\n\n    .dataframe tbody tr th {\n        vertical-align: top;\n    }\n\n    .dataframe thead th {\n        text-align: right;\n    }\n</style>\n<table border=\"1\" class=\"dataframe\">\n  <thead>\n    <tr style=\"text-align: right;\">\n      <th></th>\n      <th>emotion</th>\n      <th>Usage</th>\n      <th>pixels</th>\n    </tr>\n  </thead>\n  <tbody>\n    <tr>\n      <th>0</th>\n      <td>0</td>\n      <td>Training</td>\n      <td>70 80 82 72 58 58 60 63 54 58 60 48 89 115 121...</td>\n    </tr>\n    <tr>\n      <th>1</th>\n      <td>0</td>\n      <td>Training</td>\n      <td>151 150 147 155 148 133 111 140 170 174 182 15...</td>\n    </tr>\n    <tr>\n      <th>2</th>\n      <td>2</td>\n      <td>Training</td>\n      <td>231 212 156 164 174 138 161 173 182 200 106 38...</td>\n    </tr>\n    <tr>\n      <th>3</th>\n      <td>4</td>\n      <td>Training</td>\n      <td>24 32 36 30 32 23 19 20 30 41 21 22 32 34 21 1...</td>\n    </tr>\n    <tr>\n      <th>4</th>\n      <td>6</td>\n      <td>Training</td>\n      <td>4 0 0 0 0 0 0 0 0 0 0 0 3 15 23 28 48 50 58 84...</td>\n    </tr>\n    <tr>\n      <th>...</th>\n      <td>...</td>\n      <td>...</td>\n      <td>...</td>\n    </tr>\n    <tr>\n      <th>35882</th>\n      <td>6</td>\n      <td>PrivateTest</td>\n      <td>50 36 17 22 23 29 33 39 34 37 37 37 39 43 48 5...</td>\n    </tr>\n    <tr>\n      <th>35883</th>\n      <td>3</td>\n      <td>PrivateTest</td>\n      <td>178 174 172 173 181 188 191 194 196 199 200 20...</td>\n    </tr>\n    <tr>\n      <th>35884</th>\n      <td>0</td>\n      <td>PrivateTest</td>\n      <td>17 17 16 23 28 22 19 17 25 26 20 24 31 19 27 9...</td>\n    </tr>\n    <tr>\n      <th>35885</th>\n      <td>3</td>\n      <td>PrivateTest</td>\n      <td>30 28 28 29 31 30 42 68 79 81 77 67 67 71 63 6...</td>\n    </tr>\n    <tr>\n      <th>35886</th>\n      <td>2</td>\n      <td>PrivateTest</td>\n      <td>19 13 14 12 13 16 21 33 50 57 71 84 97 108 122...</td>\n    </tr>\n  </tbody>\n</table>\n<p>35887 rows × 3 columns</p>\n</div>"
     },
     "execution_count": 3,
     "metadata": {},
     "output_type": "execute_result"
    }
   ],
   "source": [
    "dataset_df = pd.read_csv(filename)\n",
    "dataset_df"
   ]
  },
  {
   "cell_type": "code",
   "execution_count": 4,
   "outputs": [
    {
     "data": {
      "text/plain": "array([[<AxesSubplot:title={'center':'emotion'}>]], dtype=object)"
     },
     "execution_count": 4,
     "metadata": {},
     "output_type": "execute_result"
    },
    {
     "data": {
      "text/plain": "<Figure size 432x288 with 1 Axes>",
      "image/png": "[encoded data removed]"
     },
     "metadata": {
      "needs_background": "light"
     },
     "output_type": "display_data"
    }
   ],
   "source": [
    "dataset_df.hist(column='emotion', bins=7)"
   ],
   "metadata": {
    "collapsed": false,
    "pycharm": {
     "name": "#%%\n"
    }
   }
  },
  {
   "cell_type": "code",
   "execution_count": 5,
   "outputs": [
    {
     "data": {
      "text/plain": "<Figure size 432x288 with 1 Axes>",
      "image/png": "[encoded data removed]"
     },
     "metadata": {
      "needs_background": "light"
     },
     "output_type": "display_data"
    }
   ],
   "source": [
    "dataset_df['emotion'] = dataset_df['emotion'].replace(to_replace=0, value=1)\n",
    "dataset_df.hist(column='emotion', bins=6)\n",
    "\n",
    "emotions = ['Angry', 'Fear', 'Happy', 'Sad', 'Surprise', 'Neutral']"
   ],
   "metadata": {
    "collapsed": false,
    "pycharm": {
     "name": "#%%\n"
    }
   }
  },
  {
   "cell_type": "code",
   "execution_count": 6,
   "outputs": [],
   "source": [
    "def prepare_data(data):\n",
    "    image_array = np.zeros(shape=(len(data), 48, 48), dtype=np.dtype('u1'))\n",
    "    image_label = np.array(list(map(int, data['emotion'])), dtype=np.dtype('u1')).reshape(len(data), 1)\n",
    "\n",
    "    for i, row in enumerate(data.index):\n",
    "        image_array[i] = np.fromstring(data.loc[row, ' pixels'], dtype=np.dtype('u1'), sep=' ').reshape(48, 48)\n",
    "\n",
    "    return image_array, image_label"
   ],
   "metadata": {
    "collapsed": false,
    "pycharm": {
     "name": "#%%\n"
    }
   }
  },
  {
   "cell_type": "code",
   "execution_count": 7,
   "metadata": {
    "pycharm": {
     "name": "#%%\n"
    }
   },
   "outputs": [],
   "source": [
    "x_train, y_train = prepare_data(dataset_df[dataset_df[' Usage'] == 'Training'])\n",
    "x_val, y_val = prepare_data(dataset_df[dataset_df[' Usage'] == 'PrivateTest'])\n",
    "x_test, y_test = prepare_data(dataset_df[dataset_df[' Usage'] == 'PublicTest'])"
   ]
  },
  {
   "cell_type": "code",
   "execution_count": 8,
   "metadata": {
    "pycharm": {
     "name": "#%%\n"
    }
   },
   "outputs": [
    {
     "data": {
      "text/plain": "((28709, 48, 48),\n (28709, 1),\n (3589, 48, 48),\n (3589, 1),\n (3589, 48, 48),\n (3589, 1))"
     },
     "execution_count": 8,
     "metadata": {},
     "output_type": "execute_result"
    }
   ],
   "source": [
    "x_train.shape, y_train.shape, x_val.shape, y_val.shape, x_test.shape, y_test.shape"
   ]
  },
  {
   "cell_type": "code",
   "execution_count": 9,
   "outputs": [
    {
     "data": {
      "text/plain": "array([[1., 0., 0., 0., 0., 0.],\n       [1., 0., 0., 0., 0., 0.],\n       [0., 1., 0., 0., 0., 0.],\n       ...,\n       [0., 0., 0., 1., 0., 0.],\n       [1., 0., 0., 0., 0., 0.],\n       [0., 0., 0., 1., 0., 0.]])"
     },
     "execution_count": 9,
     "metadata": {},
     "output_type": "execute_result"
    }
   ],
   "source": [
    "le = OneHotEncoder()\n",
    "y_train = le.fit_transform(y_train).toarray()\n",
    "y_val = le.fit_transform(y_val).toarray()\n",
    "y_test = le.fit_transform(y_test).toarray()\n",
    "y_train"
   ],
   "metadata": {
    "collapsed": false,
    "pycharm": {
     "name": "#%%\n"
    }
   }
  },
  {
   "cell_type": "code",
   "execution_count": 10,
   "metadata": {
    "pycharm": {
     "name": "#%%\n"
    }
   },
   "outputs": [],
   "source": [
    "mu, st = 0, 255\n",
    "\n",
    "test_transform = transforms.Compose([\n",
    "    # transforms.Scale(52),\n",
    "    transforms.ToPILImage(),\n",
    "    transforms.TenCrop(40),\n",
    "    transforms.Lambda(lambda crops: torch.stack([transforms.ToTensor()(crop) for crop in crops])),\n",
    "    transforms.Lambda(lambda tensors: torch.stack([transforms.Normalize(mean=(mu,), std=(st,))(t) for t in tensors])),\n",
    "])\n",
    "\n",
    "train_transform = transforms.Compose([\n",
    "    transforms.ToPILImage(),\n",
    "    transforms.RandomResizedCrop(48, scale=(0.8, 1.2)),\n",
    "    transforms.RandomApply([transforms.RandomAffine(0, translate=(0.2, 0.2))], p=0.5),\n",
    "    transforms.RandomHorizontalFlip(),\n",
    "    transforms.RandomApply([transforms.RandomRotation(10)], p=0.5),\n",
    "\n",
    "    transforms.TenCrop(40),\n",
    "    transforms.Lambda(lambda crops: torch.stack([transforms.ToTensor()(crop) for crop in crops])),\n",
    "    transforms.Lambda(lambda tensors: torch.stack([transforms.Normalize(mean=(mu,), std=(st,))(t) for t in tensors])),\n",
    "    transforms.Lambda(lambda tensors: torch.stack([transforms.RandomErasing(p=0.5)(t) for t in tensors])),\n",
    "])\n"
   ]
  },
  {
   "cell_type": "code",
   "execution_count": 11,
   "outputs": [],
   "source": [
    "class CustomDataset(Dataset):\n",
    "    def __init__(self, images, labels, transform=None):\n",
    "        self.images = images\n",
    "        self.labels = labels\n",
    "        self.transform = transform\n",
    "\n",
    "    def __len__(self):\n",
    "        return len(self.images)\n",
    "\n",
    "    def __getitem__(self, index):\n",
    "        image = self.transform(self.images[index]).to(device)\n",
    "        label = torch.tensor(self.labels[index], dtype=torch.float32, device=device)\n",
    "\n",
    "        return image, label"
   ],
   "metadata": {
    "collapsed": false,
    "pycharm": {
     "name": "#%%\n"
    }
   }
  },
  {
   "cell_type": "code",
   "execution_count": 12,
   "metadata": {
    "pycharm": {
     "name": "#%%\n"
    }
   },
   "outputs": [],
   "source": [
    "trainDataset = CustomDataset(x_train, y_train, train_transform)\n",
    "\n",
    "train_dataloader = DataLoader(trainDataset, batch_size=64, shuffle=True)"
   ]
  },
  {
   "cell_type": "code",
   "execution_count": 13,
   "metadata": {
    "pycharm": {
     "name": "#%%\n"
    }
   },
   "outputs": [],
   "source": [
    "valDataset = CustomDataset(x_val, y_val, test_transform)\n",
    "\n",
    "val_dataloader = DataLoader(valDataset, batch_size=64, shuffle=True)"
   ]
  },
  {
   "cell_type": "code",
   "execution_count": 14,
   "metadata": {
    "pycharm": {
     "name": "#%%\n"
    }
   },
   "outputs": [],
   "source": [
    "testDataset = CustomDataset(x_test, y_test, test_transform)\n",
    "\n",
    "test_dataloader = DataLoader(testDataset, batch_size=64, shuffle=True)"
   ]
  },
  {
   "cell_type": "code",
   "execution_count": 15,
   "outputs": [],
   "source": [
    "# Reference\n",
    "# [1] Khaireddin, Yousif, and Zhuofa Chen.\n",
    "# \"Facial Emotion Recognition: State of the Art Performance on FER2013.\"\n",
    "# arXiv preprint arXiv:2105.03588 (2021).\n",
    "\n",
    "class VGG_Model(nn.Module):\n",
    "    def __init__(self, drop=0.2):\n",
    "        super().__init__()\n",
    "\n",
    "        self.conv1a = nn.Conv2d(in_channels=1, out_channels=64, kernel_size=3, padding=1)\n",
    "        self.bn1a = nn.BatchNorm2d(64)\n",
    "\n",
    "        self.conv1b = nn.Conv2d(64, out_channels=64, kernel_size=3, padding=1)\n",
    "        self.bn1b = nn.BatchNorm2d(64)\n",
    "\n",
    "        self.conv2a = nn.Conv2d(64, 128, 3, padding=1)\n",
    "        self.bn2a = nn.BatchNorm2d(128)\n",
    "\n",
    "        self.conv2b = nn.Conv2d(128, 128, 3, padding=1)\n",
    "        self.bn2b = nn.BatchNorm2d(128)\n",
    "\n",
    "        self.conv3a = nn.Conv2d(128, 256, 3, padding=1)\n",
    "        self.bn3a = nn.BatchNorm2d(256)\n",
    "\n",
    "        self.conv3b = nn.Conv2d(256, 256, 3, padding=1)\n",
    "        self.bn3b = nn.BatchNorm2d(256)\n",
    "\n",
    "        self.conv4a = nn.Conv2d(256, 512, 3, padding=1)\n",
    "        self.bn4a = nn.BatchNorm2d(512)\n",
    "\n",
    "        self.conv4b = nn.Conv2d(512, 512, 3, padding=1)\n",
    "        self.bn4b = nn.BatchNorm2d(512)\n",
    "\n",
    "        self.pool = nn.MaxPool2d(kernel_size=2, stride=2)\n",
    "\n",
    "        self.fc1 = nn.Linear(512 * 2 * 2, 4096)\n",
    "\n",
    "        self.fc2 = nn.Linear(4096, 4096)\n",
    "\n",
    "        self.fc3 = nn.Linear(4096, 6)\n",
    "\n",
    "        self.drop = nn.Dropout(p=drop)\n",
    "\n",
    "    def forward(self, x):\n",
    "        x = F.leaky_relu_(self.bn1a(self.conv1a(x)))\n",
    "        x = F.leaky_relu_(self.bn1b(self.conv1b(x)))\n",
    "        x = self.pool(x)\n",
    "\n",
    "        x = F.leaky_relu_(self.bn2a(self.conv2a(x)))\n",
    "        x = F.leaky_relu_(self.bn2b(self.conv2b(x)))\n",
    "        x = self.pool(x)\n",
    "\n",
    "        x = F.leaky_relu_(self.bn3a(self.conv3a(x)))\n",
    "        x = F.leaky_relu_(self.bn3b(self.conv3b(x)))\n",
    "        x = self.pool(x)\n",
    "\n",
    "        x = F.leaky_relu_(self.bn4a(self.conv4a(x)))\n",
    "        x = F.leaky_relu_(self.bn4b(self.conv4b(x)))\n",
    "        x = self.pool(x)\n",
    "\n",
    "        x = torch.flatten(x, 1)\n",
    "\n",
    "        x = F.leaky_relu_(self.drop(self.fc1(x)))\n",
    "        x = F.leaky_relu_(self.drop(self.fc2(x)))\n",
    "        x = self.fc3(x)\n",
    "\n",
    "        return x"
   ],
   "metadata": {
    "collapsed": false,
    "pycharm": {
     "name": "#%%\n"
    }
   }
  },
  {
   "cell_type": "code",
   "execution_count": 16,
   "outputs": [],
   "source": [
    "def train_model(model, dataloader, optimizer, scaler, Ncrop=True):\n",
    "    model.train()\n",
    "\n",
    "    pred = []\n",
    "    labels = []\n",
    "    loss = nn.CrossEntropyLoss()\n",
    "\n",
    "    total_loss, total_acc = 0.0, 0.0\n",
    "\n",
    "    for (data, label) in dataloader:\n",
    "\n",
    "        with autocast():\n",
    "\n",
    "            if Ncrop:\n",
    "                # fuse crops and batchsize\n",
    "                bs, ncrops, c, h, w = data.shape\n",
    "                data = data.view(-1, c, h, w)\n",
    "\n",
    "                # repeat labels ncrops times\n",
    "                label = torch.repeat_interleave(label, repeats=ncrops, dim=0)\n",
    "\n",
    "            # reset gradients (it will accumulate gradients otherwise)\n",
    "            optimizer.zero_grad()\n",
    "\n",
    "            # forward pass\n",
    "            output = model(data)\n",
    "\n",
    "            # compute loss\n",
    "            loss_ = loss(output, label)\n",
    "\n",
    "            # scale the loss then backward propagation dl/dw -> gradients\n",
    "            scaler.scale(loss_).backward()\n",
    "\n",
    "            # update weights\n",
    "            scaler.step(optimizer)\n",
    "            scaler.update()\n",
    "\n",
    "            ######################################\n",
    "\n",
    "            total_loss += loss_.item()\n",
    "\n",
    "            _, predicted = torch.max(output.data, dim=1)\n",
    "            _, true_label = torch.max(label, dim=1)\n",
    "\n",
    "            pred += predicted.tolist()\n",
    "            labels += true_label.tolist()\n",
    "\n",
    "\n",
    "    total_loss /= len(dataloader)\n",
    "    total_acc = accuracy_score(labels, pred) * 100.\n",
    "\n",
    "    return total_acc, total_loss"
   ],
   "metadata": {
    "collapsed": false,
    "pycharm": {
     "name": "#%%\n"
    }
   }
  },
  {
   "cell_type": "code",
   "execution_count": 17,
   "outputs": [],
   "source": [
    "def test_model(model, dataloader, Ncrop=True):\n",
    "    model.eval()\n",
    "\n",
    "    pred = []\n",
    "    labels = []\n",
    "    loss = nn.CrossEntropyLoss()\n",
    "    total_loss, total_acc, n_samples = 0.0, 0.0, 0.0\n",
    "\n",
    "    with torch.no_grad():\n",
    "        for (data, label) in dataloader:\n",
    "            if Ncrop:\n",
    "                # fuse crops and batchsize\n",
    "                bs, ncrops, c, h, w = data.shape\n",
    "                data = data.view(-1, c, h, w)\n",
    "\n",
    "                # forward\n",
    "                output = model(data)\n",
    "\n",
    "                # combine results across the crops\n",
    "                output = output.view(bs, ncrops, -1)\n",
    "                output = torch.sum(output, dim=1) / ncrops\n",
    "            else:\n",
    "                output = model(data)\n",
    "\n",
    "            # compute loss\n",
    "            loss_ = loss(output, label)\n",
    "\n",
    "            total_loss += loss_.item()\n",
    "\n",
    "            _, predicted = torch.max(output.data, dim=1)\n",
    "            _, true_label = torch.max(label, dim=1)\n",
    "\n",
    "            pred += predicted.tolist()\n",
    "            labels += true_label.tolist()\n",
    "\n",
    "    total_loss /= len(dataloader)\n",
    "    total_acc = accuracy_score(labels, pred) * 100.\n",
    "\n",
    "    return labels, pred, total_acc, total_loss"
   ],
   "metadata": {
    "collapsed": false,
    "pycharm": {
     "name": "#%%\n"
    }
   }
  },
  {
   "cell_type": "code",
   "execution_count": 18,
   "outputs": [],
   "source": [
    "def save_model(model, optimizer, epoch, path):\n",
    "    info_dict = {\n",
    "        'epoch': epoch,\n",
    "        'net_state': model.state_dict(),\n",
    "        'optimizer_state': optimizer.state_dict()\n",
    "    }\n",
    "    torch.save(info_dict, path + \".pth\")"
   ],
   "metadata": {
    "collapsed": false,
    "pycharm": {
     "name": "#%%\n"
    }
   }
  },
  {
   "cell_type": "code",
   "execution_count": 19,
   "outputs": [
    {
     "name": "stdout",
     "output_type": "stream",
     "text": [
      "Number of Parameters :  29886662\n"
     ]
    }
   ],
   "source": [
    "model_path = \"./VGG2_best_model\"\n",
    "\n",
    "model = VGG_Model().to(device)\n",
    "\n",
    "print('Number of Parameters : ', sum(p.numel() for p in model.parameters() if p.requires_grad))"
   ],
   "metadata": {
    "collapsed": false,
    "pycharm": {
     "name": "#%%\n"
    }
   }
  },
  {
   "cell_type": "code",
   "execution_count": 20,
   "outputs": [],
   "source": [
    "optimizer = torch.optim.Adam(model.parameters(), lr=0.0001, weight_decay=0.0001, amsgrad=True)"
   ],
   "metadata": {
    "collapsed": false,
    "pycharm": {
     "name": "#%%\n"
    }
   }
  },
  {
   "cell_type": "code",
   "execution_count": 21,
   "outputs": [],
   "source": [
    "scaler = GradScaler()"
   ],
   "metadata": {
    "collapsed": false,
    "pycharm": {
     "name": "#%%\n"
    }
   }
  },
  {
   "cell_type": "code",
   "execution_count": 22,
   "outputs": [],
   "source": [
    "#scheduler = torch.optim.lr_scheduler.ReduceLROnPlateau(optimizer, mode='max', factor=0.5, patience=5, verbose=True)"
   ],
   "metadata": {
    "collapsed": false,
    "pycharm": {
     "name": "#%%\n"
    }
   }
  },
  {
   "cell_type": "code",
   "execution_count": 23,
   "outputs": [],
   "source": [
    "chkpt = torch.load(\"./VGG2_best_model73_47.pth\")\n",
    "model.load_state_dict(chkpt['net_state'])\n",
    "optimizer.load_state_dict(chkpt['optimizer_state'])\n",
    "epoch_saved = chkpt['epoch'] + 1\n",
    "\n",
    "optimizer.param_groups[0]['lr'] = 0.0001\n",
    "\n",
    "#scheduler = torch.optim.lr_scheduler.CosineAnnealingWarmRestarts(optimizer, T_0=10, T_mult=1, eta_min=1e-6, last_epoch=-1)\n",
    "scheduler = torch.optim.lr_scheduler.CosineAnnealingLR(optimizer, T_max=10, eta_min=1e-6, last_epoch=-1)"
   ],
   "metadata": {
    "collapsed": false,
    "pycharm": {
     "name": "#%%\n"
    }
   }
  },
  {
   "cell_type": "code",
   "execution_count": 24,
   "outputs": [],
   "source": [
    "train_loss_list = []\n",
    "train_acc_list = []\n",
    "\n",
    "val_loss_list = []\n",
    "val_acc_list = []"
   ],
   "metadata": {
    "collapsed": false,
    "pycharm": {
     "name": "#%%\n"
    }
   }
  },
  {
   "cell_type": "code",
   "execution_count": 25,
   "outputs": [
    {
     "name": "stdout",
     "output_type": "stream",
     "text": [
      "epoch:  100 Training loss:  0.5200367844051667 Training Accuracy:  80.57612595353373 %   Val loss:  1.0072842533128303 Val Accuracy:  69.60156032320981 %\n",
      "learning rate : 1.3872870489469802e-06\n",
      "epoch:  101 Training loss:  0.44326893032791886 Training Accuracy:  83.66679438503604 %   Val loss:  0.9614053661363167 Val Accuracy:  73.05656171635553 %\n",
      "learning rate : 2.2120784836522925e-05\n",
      "epoch:  102 Training loss:  0.4047908196868769 Training Accuracy:  85.00888223205266 %   Val loss:  1.0681077241897583 Val Accuracy:  73.11228754527723 %\n",
      "learning rate : 2.2835120071497498e-05\n",
      "epoch:  103 Training loss:  0.3878142298396287 Training Accuracy:  85.59476122470305 %   Val loss:  1.0249107783300835 Val Accuracy:  73.16801337419894 %\n",
      "learning rate : 2.355793403084666e-05\n",
      "epoch:  104 Training loss:  0.3782315225338352 Training Accuracy:  86.04688425232506 %   Val loss:  1.060223378633198 Val Accuracy:  73.19587628865979 %\n",
      "learning rate : 2.3922451404375314e-05\n",
      "epoch:  105 Training loss:  0.3673878415655718 Training Accuracy:  86.4300393604793 %   Val loss:  1.0460503216375385 Val Accuracy:  72.35998885483421 %\n",
      "learning rate : 1.3992983644218817e-05\n",
      "epoch:  106 Training loss:  0.3543734515961135 Training Accuracy:  86.86230798704239 %   Val loss:  1.0515167315800984 Val Accuracy:  72.5550292560602 %\n",
      "learning rate : 1.6108523751683674e-05\n",
      "epoch:  107 Training loss:  0.34849032713204026 Training Accuracy:  87.1148420355986 %   Val loss:  1.0935052852881582 Val Accuracy:  73.2516021175815 %\n",
      "learning rate : 2.4657567292131735e-05\n",
      "epoch:  108 Training loss:  0.3594873785507971 Training Accuracy:  86.66515726775576 %   Val loss:  1.111063944666009 Val Accuracy:  73.19587628865979 %\n",
      "learning rate : 2.3922451404375314e-05\n",
      "epoch:  109 Training loss:  0.3532433274859575 Training Accuracy:  86.9681981260232 %   Val loss:  1.1181151908740663 Val Accuracy:  72.5550292560602 %\n",
      "learning rate : 1.6108523751683674e-05\n",
      "epoch:  110 Training loss:  0.34053806665214503 Training Accuracy:  87.353443171131 %   Val loss:  1.1350524514390712 Val Accuracy:  73.08442463081639 %\n",
      "learning rate : 2.2476878868691164e-05\n",
      "epoch:  111 Training loss:  0.34250073888254057 Training Accuracy:  87.3133860461876 %   Val loss:  1.1744146681668466 Val Accuracy:  71.94204513792143 %\n",
      "learning rate : 9.930584425168143e-06\n",
      "epoch:  112 Training loss:  0.3256798337124504 Training Accuracy:  87.91946776272249 %   Val loss:  1.1310168306032817 Val Accuracy:  73.33519086096406 %\n",
      "learning rate : 2.5775020392368515e-05\n",
      "epoch:  113 Training loss:  0.3433881413963165 Training Accuracy:  87.30398132989656 %   Val loss:  1.17417220588316 Val Accuracy:  73.44664251880747 %\n",
      "learning rate : 2.7291344093874382e-05\n",
      "epoch:  114 Training loss:  0.3428243307400918 Training Accuracy:  87.34334180918876 %   Val loss:  1.1838743989927727 Val Accuracy:  73.14015045973808 %\n",
      "learning rate : 2.3195480996001743e-05\n",
      "epoch:  115 Training loss:  0.33721303800432084 Training Accuracy:  87.4593333101118 %   Val loss:  1.0922411429254633 Val Accuracy:  73.41877960434661 %\n",
      "learning rate : 2.690952278357791e-05\n",
      "epoch:  116 Training loss:  0.3404630263292444 Training Accuracy:  87.37190428088752 %   Val loss:  1.1261059945089775 Val Accuracy:  73.27946503204235 %\n",
      "learning rate : 2.5028109480754847e-05\n",
      "epoch:  117 Training loss:  0.33257974179789324 Training Accuracy:  87.67390017067818 %   Val loss:  1.1321561884200364 Val Accuracy:  73.8367233212594 %\n",
      "learning rate : 3.281001239492483e-05\n",
      "epoch:  118 Training loss:  0.3424484758308045 Training Accuracy:  87.35936465916612 %   Val loss:  1.1391457026464897 Val Accuracy:  73.33519086096406 %\n",
      "learning rate : 2.5775020392368515e-05\n",
      "epoch:  119 Training loss:  0.32964113178789484 Training Accuracy:  87.81044271831134 %   Val loss:  1.0704047409327406 Val Accuracy:  72.91724714405127 %\n",
      "learning rate : 2.0373471315127154e-05\n",
      "epoch:  120 Training loss:  0.3190377286919507 Training Accuracy:  88.23226166010659 %   Val loss:  1.1607643893936224 Val Accuracy:  73.55809417665088 %\n",
      "learning rate : 2.88361175439114e-05\n",
      "epoch:  121 Training loss:  0.3286938423369669 Training Accuracy:  87.8787139921279 %   Val loss:  1.2426511321151466 Val Accuracy:  72.86152131512956 %\n",
      "learning rate : 1.9690518027087578e-05\n",
      "epoch:  122 Training loss:  0.3139052160399528 Training Accuracy:  88.30680274478387 %   Val loss:  1.1666888348888933 Val Accuracy:  73.11228754527723 %\n",
      "learning rate : 2.2835120071497498e-05\n",
      "epoch:  123 Training loss:  0.3157306580673613 Training Accuracy:  88.36288271970463 %   Val loss:  1.21109254742368 Val Accuracy:  73.00083588743382 %\n",
      "learning rate : 2.141514725517836e-05\n",
      "epoch:  124 Training loss:  0.30833131980922546 Training Accuracy:  88.60740534327215 %   Val loss:  1.193404994512859 Val Accuracy:  73.41877960434661 %\n",
      "learning rate : 2.690952278357791e-05\n",
      "epoch:  125 Training loss:  0.31545791833066195 Training Accuracy:  88.24375631335121 %   Val loss:  1.1465329182775397 Val Accuracy:  72.97297297297297 %\n",
      "learning rate : 2.1065657772937723e-05\n",
      "epoch:  126 Training loss:  0.30474988498905453 Training Accuracy:  88.77216203977846 %   Val loss:  1.2262066508594311 Val Accuracy:  72.88938422959042 %\n",
      "learning rate : 2.0030827375849215e-05\n",
      "epoch:  127 Training loss:  0.3017322737682105 Training Accuracy:  88.8961649656902 %   Val loss:  1.164855379521134 Val Accuracy:  72.5550292560602 %\n",
      "learning rate : 1.6108523751683674e-05\n",
      "epoch:  128 Training loss:  0.29167275333192144 Training Accuracy:  89.268522066251 %   Val loss:  1.1875782242992468 Val Accuracy:  73.08442463081639 %\n",
      "learning rate : 2.2476878868691164e-05\n",
      "epoch:  129 Training loss:  0.2983454214969032 Training Accuracy:  88.97662753840258 %   Val loss:  1.2244297349662112 Val Accuracy:  72.86152131512956 %\n",
      "learning rate : 1.9690518027087578e-05\n",
      "epoch:  130 Training loss:  0.29506896393070775 Training Accuracy:  89.1891044620154 %   Val loss:  1.1963956199194257 Val Accuracy:  72.80579548620786 %\n",
      "learning rate : 1.901700722014485e-05\n",
      "epoch:  131 Training loss:  0.293540832957871 Training Accuracy:  89.18736284788741 %   Val loss:  1.2098031357715004 Val Accuracy:  73.55809417665088 %\n",
      "learning rate : 2.88361175439114e-05\n",
      "epoch:  132 Training loss:  0.30392551369019233 Training Accuracy:  88.7770385593368 %   Val loss:  1.2119182933840835 Val Accuracy:  73.47450543326832 %\n",
      "learning rate : 2.7674943683766638e-05\n",
      "epoch:  133 Training loss:  0.2999046236143877 Training Accuracy:  88.90487303633007 %   Val loss:  1.2256468733151753 Val Accuracy:  72.94511005851211 %\n",
      "learning rate : 2.071842359106488e-05\n",
      "epoch:  134 Training loss:  0.2889445606942697 Training Accuracy:  89.2817583336236 %   Val loss:  1.1567559367731999 Val Accuracy:  73.22373920312064 %\n",
      "learning rate : 2.4289005186757698e-05\n",
      "epoch:  135 Training loss:  0.29182434390674455 Training Accuracy:  89.20408234351596 %   Val loss:  1.1333960880313003 Val Accuracy:  72.49930342713849 %\n",
      "learning rate : 1.549055556000974e-05\n",
      "epoch:  136 Training loss:  0.27491644167554935 Training Accuracy:  89.8739071371347 %   Val loss:  1.2427556279458498 Val Accuracy:  72.75006965728615 %\n",
      "learning rate : 1.8353145311695404e-05\n",
      "epoch:  137 Training loss:  0.27542031252702787 Training Accuracy:  89.8742554599603 %   Val loss:  1.281934829657538 Val Accuracy:  73.19587628865979 %\n",
      "learning rate : 2.3922451404375314e-05\n",
      "epoch:  138 Training loss:  0.286323219537735 Training Accuracy:  89.40506461388415 %   Val loss:  1.148042172716375 Val Accuracy:  72.6664809139036 %\n",
      "learning rate : 1.737588837892363e-05\n",
      "epoch:  139 Training loss:  0.276011776253747 Training Accuracy:  89.84917621651746 %   Val loss:  1.1940243536965889 Val Accuracy:  73.30732794650321 %\n",
      "learning rate : 2.540060336116728e-05\n",
      "epoch:  140 Training loss:  0.28481436920723563 Training Accuracy:  89.4482566442579 %   Val loss:  1.1841836686719929 Val Accuracy:  72.97297297297297 %\n",
      "learning rate : 2.1065657772937723e-05\n",
      "epoch:  141 Training loss:  0.27924788223874064 Training Accuracy:  89.69939740151172 %   Val loss:  1.2056568892378556 Val Accuracy:  73.30732794650321 %\n",
      "learning rate : 2.540060336116728e-05\n",
      "epoch:  142 Training loss:  0.2828829607413978 Training Accuracy:  89.48483054094535 %   Val loss:  1.1881469963935383 Val Accuracy:  72.88938422959042 %\n",
      "learning rate : 2.0030827375849215e-05\n",
      "epoch:  143 Training loss:  0.2738203520498722 Training Accuracy:  89.84638963391272 %   Val loss:  1.2499428914304365 Val Accuracy:  74.03176372248538 %\n",
      "learning rate : 3.567419068857445e-05\n",
      "epoch:  144 Training loss:  0.2959896745554323 Training Accuracy:  89.01772963182277 %   Val loss:  1.3302702935118424 Val Accuracy:  72.61075508498189 %\n",
      "learning rate : 1.6737032233020648e-05\n",
      "epoch:  145 Training loss:  0.2708699931878024 Training Accuracy:  90.01462955867497 %   Val loss:  1.2398860151307625 Val Accuracy:  72.69434382836445 %\n",
      "learning rate : 1.7699135761944615e-05\n",
      "epoch:  146 Training loss:  0.2642365584527464 Training Accuracy:  90.26716360723118 %   Val loss:  1.3259807500922889 Val Accuracy:  73.30732794650321 %\n",
      "learning rate : 2.540060336116728e-05\n",
      "epoch:  147 Training loss:  0.27455227823724726 Training Accuracy:  89.86763732627398 %   Val loss:  1.2385592857996623 Val Accuracy:  72.52716634159934 %\n",
      "learning rate : 1.5798210206072072e-05\n",
      "epoch:  148 Training loss:  0.26196879367520387 Training Accuracy:  90.28457974851092 %   Val loss:  1.2297551966550058 Val Accuracy:  72.83365840066871 %\n",
      "learning rate : 1.9352569343819635e-05\n",
      "epoch:  149 Training loss:  0.2624603275599618 Training Accuracy:  90.34065972343167 %   Val loss:  1.2765101863626849 Val Accuracy:  73.64168292003343 %\n",
      "learning rate : 3.0012229893044132e-05\n"
     ]
    }
   ],
   "source": [
    "best_acc = 73.47\n",
    "\n",
    "epoch = 50\n",
    "# Train and validate model\n",
    "\n",
    "for e in range(epoch):\n",
    "\n",
    "    train_accuracy, train_loss = train_model(model, train_dataloader, optimizer, scaler)\n",
    "\n",
    "    val_labels, val_pred, val_accuracy, val_loss = test_model(model, val_dataloader)\n",
    "\n",
    "    # Decay Learning Rate\n",
    "    scheduler.step(val_accuracy)\n",
    "\n",
    "    if val_accuracy > best_acc:\n",
    "        best_acc = val_accuracy\n",
    "        save_model(model, optimizer, e, model_path+str(val_accuracy))\n",
    "\n",
    "    train_loss_list.append(train_loss)\n",
    "    train_acc_list.append(train_accuracy)\n",
    "    val_loss_list.append(val_loss)\n",
    "    val_acc_list.append(val_accuracy)\n",
    "\n",
    "        # print('Epoch ', e + 1,\n",
    "        #       \": ->Training loss : {:.6f} - Training Accuracy : {:.6f} % \\n        \"\n",
    "        #       \"  -->Validate loss : {:.6f} - Validate Accuracy : {:.6f} %\".format(train_loss,\n",
    "        #                                                                          train_accuracy,\n",
    "        #                                                                          val_loss,\n",
    "        #                                                                          val_accuracy))\n",
    "        #\n",
    "    print('epoch: ', e + 100, 'Training loss: ', train_loss, 'Training Accuracy: ', train_accuracy, '%', '  Val loss: ',\n",
    "          val_loss, 'Val Accuracy: ', val_accuracy, '%')\n",
    "    print('learning rate :', optimizer.state_dict()['param_groups'][0]['lr'])\n",
    "\n",
    "    # checkpoint\n",
    "    if (e + 1) % 5 == 0 and e > 0:\n",
    "        path = \"./vgg2_epoch\" + str(e + 1) + \"_checkpoint\"\n",
    "        save_model(model, optimizer, e, path)\n",
    "\n"
   ],
   "metadata": {
    "collapsed": false,
    "pycharm": {
     "name": "#%%\n"
    }
   }
  },
  {
   "cell_type": "code",
   "execution_count": 24,
   "metadata": {
    "pycharm": {
     "name": "#%%\n"
    }
   },
   "outputs": [
    {
     "name": "stdout",
     "output_type": "stream",
     "text": [
      "Best Val Model -> Val loss:  0.9431576749734711 Val Accuracy:  73.47450543326832 % \n",
      "Test loss:  1.060687566012667 Test Accuracy:  72.16494845360825 %\n"
     ]
    },
    {
     "data": {
      "text/plain": "<Figure size 864x720 with 2 Axes>",
      "image/png": "[encoded data removed]"
     },
     "metadata": {
      "needs_background": "light"
     },
     "output_type": "display_data"
    }
   ],
   "source": [
    " # test model\n",
    "\n",
    "model.load_state_dict(torch.load(\"VGG2_best_model73_47.pth\")['net_state'])\n",
    "\n",
    "val_labels, val_pred, val_accuracy, val_loss = test_model(model, val_dataloader)\n",
    "print('Best Val Model -> Val loss: ', val_loss, 'Val Accuracy: ', val_accuracy, '% ')\n",
    "\n",
    "test_labels, test_pred, test_accuracy, test_loss = test_model(model, test_dataloader)\n",
    "print('Test loss: ', test_loss, 'Test Accuracy: ', test_accuracy, '%')\n",
    "\n",
    "cm = confusion_matrix(test_labels, test_pred)\n",
    "plt.figure(figsize=(12, 10))\n",
    "cm = pd.DataFrame(cm, index=emotions, columns=emotions)\n",
    "\n",
    "sns.heatmap(cm, linecolor='white', cmap='Blues', linewidth=1, annot=True, fmt='')\n",
    "plt.title('Confusion Matrix', size=20)\n",
    "plt.xlabel('Predicted Labels', size=14)\n",
    "plt.ylabel('Actual Labels', size=14)\n",
    "plt.show()"
   ]
  },
  {
   "cell_type": "code",
   "execution_count": 43,
   "outputs": [
    {
     "data": {
      "text/plain": "<Figure size 864x720 with 1 Axes>",
      "image/png": "[encoded data removed]"
     },
     "metadata": {
      "needs_background": "light"
     },
     "output_type": "display_data"
    },
    {
     "data": {
      "text/plain": "<Figure size 864x720 with 1 Axes>",
      "image/png": "[encoded data removed]"
     },
     "metadata": {
      "needs_background": "light"
     },
     "output_type": "display_data"
    }
   ],
   "source": [
    "plt.figure(figsize=(12, 10))\n",
    "plt.plot(train_acc_list, '-o')\n",
    "plt.plot(val_acc_list, '-o')\n",
    "plt.xlabel('epoch', size=14)\n",
    "plt.ylabel('accuracy', size=14)\n",
    "plt.legend(['Train', 'Valid'])\n",
    "plt.title('Train vs Valid Accuracy', size=20)\n",
    "\n",
    "plt.show()\n",
    "\n",
    "plt.figure(figsize=(12, 10))\n",
    "plt.plot(train_loss_list, '-o')\n",
    "plt.plot(val_loss_list, '-o')\n",
    "plt.xlabel('epoch', size=14)\n",
    "plt.ylabel('losses', size=14)\n",
    "plt.legend(['Train', 'Valid'])\n",
    "plt.title('Train vs Valid Losses', size=20)\n",
    "\n",
    "plt.show()"
   ],
   "metadata": {
    "collapsed": false,
    "pycharm": {
     "name": "#%%\n"
    }
   }
  },
  {
   "cell_type": "code",
   "execution_count": null,
   "outputs": [],
   "source": [],
   "metadata": {
    "collapsed": false,
    "pycharm": {
     "name": "#%%\n"
    }
   }
  },
  {
   "cell_type": "code",
   "execution_count": null,
   "outputs": [],
   "source": [],
   "metadata": {
    "collapsed": false,
    "pycharm": {
     "name": "#%%\n"
    }
   }
  }
 ],
 "metadata": {
  "kernelspec": {
   "display_name": "Python 3 (ipykernel)",
   "language": "python",
   "name": "python3"
  },
  "language_info": {
   "codemirror_mode": {
    "name": "ipython",
    "version": 3
   },
   "file_extension": ".py",
   "mimetype": "text/x-python",
   "name": "python",
   "nbconvert_exporter": "python",
   "pygments_lexer": "ipython3",
   "version": "3.9.12"
  }
 },
 "nbformat": 4,
 "nbformat_minor": 1
}