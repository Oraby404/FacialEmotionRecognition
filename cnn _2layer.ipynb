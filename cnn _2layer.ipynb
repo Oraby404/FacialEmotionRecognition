{
 "cells": [
  {
   "cell_type": "code",
   "execution_count": 1,
   "metadata": {
    "pycharm": {
     "name": "#%%\n"
    }
   },
   "outputs": [],
   "source": [
    "# imports cell\n",
    "import numpy as np\n",
    "import pandas as pd\n",
    "\n",
    "import matplotlib.pyplot as plt\n",
    "import seaborn as sns\n",
    "\n",
    "import torch\n",
    "import torch.nn as nn\n",
    "import torch.nn.functional as F\n",
    "from torch.utils.data import Dataset, DataLoader\n",
    "from torch.autograd import Variable\n",
    "\n",
    "from sklearn.metrics import accuracy_score, confusion_matrix\n",
    "from sklearn.model_selection import train_test_split\n",
    "from sklearn.preprocessing import LabelEncoder, OneHotEncoder, StandardScaler\n",
    "\n",
    "import warnings\n",
    "\n",
    "# to create a tensor on the gpu\n",
    "device = torch.device(\"cuda\" if torch.cuda.is_available() else \"cpu\")\n",
    "warnings.filterwarnings('ignore')"
   ]
  },
  {
   "cell_type": "code",
   "execution_count": 2,
   "metadata": {
    "pycharm": {
     "name": "#%%\n"
    }
   },
   "outputs": [],
   "source": [
    "filename = \"./dataset/icml_face_data.csv\"\n",
    "\n",
    "#emotions = ['Angry', 'Disgust', 'Fear', 'Happy', 'Sad', 'Surprise', 'Neutral']"
   ]
  },
  {
   "cell_type": "code",
   "execution_count": 3,
   "metadata": {
    "pycharm": {
     "name": "#%%\n"
    }
   },
   "outputs": [
    {
     "data": {
      "text/plain": "       emotion        Usage                                             pixels\n0            0     Training  70 80 82 72 58 58 60 63 54 58 60 48 89 115 121...\n1            0     Training  151 150 147 155 148 133 111 140 170 174 182 15...\n2            2     Training  231 212 156 164 174 138 161 173 182 200 106 38...\n3            4     Training  24 32 36 30 32 23 19 20 30 41 21 22 32 34 21 1...\n4            6     Training  4 0 0 0 0 0 0 0 0 0 0 0 3 15 23 28 48 50 58 84...\n...        ...          ...                                                ...\n35882        6  PrivateTest  50 36 17 22 23 29 33 39 34 37 37 37 39 43 48 5...\n35883        3  PrivateTest  178 174 172 173 181 188 191 194 196 199 200 20...\n35884        0  PrivateTest  17 17 16 23 28 22 19 17 25 26 20 24 31 19 27 9...\n35885        3  PrivateTest  30 28 28 29 31 30 42 68 79 81 77 67 67 71 63 6...\n35886        2  PrivateTest  19 13 14 12 13 16 21 33 50 57 71 84 97 108 122...\n\n[35887 rows x 3 columns]",
      "text/html": "<div>\n<style scoped>\n    .dataframe tbody tr th:only-of-type {\n        vertical-align: middle;\n    }\n\n    .dataframe tbody tr th {\n        vertical-align: top;\n    }\n\n    .dataframe thead th {\n        text-align: right;\n    }\n</style>\n<table border=\"1\" class=\"dataframe\">\n  <thead>\n    <tr style=\"text-align: right;\">\n      <th></th>\n      <th>emotion</th>\n      <th>Usage</th>\n      <th>pixels</th>\n    </tr>\n  </thead>\n  <tbody>\n    <tr>\n      <th>0</th>\n      <td>0</td>\n      <td>Training</td>\n      <td>70 80 82 72 58 58 60 63 54 58 60 48 89 115 121...</td>\n    </tr>\n    <tr>\n      <th>1</th>\n      <td>0</td>\n      <td>Training</td>\n      <td>151 150 147 155 148 133 111 140 170 174 182 15...</td>\n    </tr>\n    <tr>\n      <th>2</th>\n      <td>2</td>\n      <td>Training</td>\n      <td>231 212 156 164 174 138 161 173 182 200 106 38...</td>\n    </tr>\n    <tr>\n      <th>3</th>\n      <td>4</td>\n      <td>Training</td>\n      <td>24 32 36 30 32 23 19 20 30 41 21 22 32 34 21 1...</td>\n    </tr>\n    <tr>\n      <th>4</th>\n      <td>6</td>\n      <td>Training</td>\n      <td>4 0 0 0 0 0 0 0 0 0 0 0 3 15 23 28 48 50 58 84...</td>\n    </tr>\n    <tr>\n      <th>...</th>\n      <td>...</td>\n      <td>...</td>\n      <td>...</td>\n    </tr>\n    <tr>\n      <th>35882</th>\n      <td>6</td>\n      <td>PrivateTest</td>\n      <td>50 36 17 22 23 29 33 39 34 37 37 37 39 43 48 5...</td>\n    </tr>\n    <tr>\n      <th>35883</th>\n      <td>3</td>\n      <td>PrivateTest</td>\n      <td>178 174 172 173 181 188 191 194 196 199 200 20...</td>\n    </tr>\n    <tr>\n      <th>35884</th>\n      <td>0</td>\n      <td>PrivateTest</td>\n      <td>17 17 16 23 28 22 19 17 25 26 20 24 31 19 27 9...</td>\n    </tr>\n    <tr>\n      <th>35885</th>\n      <td>3</td>\n      <td>PrivateTest</td>\n      <td>30 28 28 29 31 30 42 68 79 81 77 67 67 71 63 6...</td>\n    </tr>\n    <tr>\n      <th>35886</th>\n      <td>2</td>\n      <td>PrivateTest</td>\n      <td>19 13 14 12 13 16 21 33 50 57 71 84 97 108 122...</td>\n    </tr>\n  </tbody>\n</table>\n<p>35887 rows × 3 columns</p>\n</div>"
     },
     "execution_count": 3,
     "metadata": {},
     "output_type": "execute_result"
    }
   ],
   "source": [
    "dataset_df = pd.read_csv(filename)\n",
    "dataset_df"
   ]
  },
  {
   "cell_type": "code",
   "execution_count": 4,
   "outputs": [
    {
     "data": {
      "text/plain": "array([[<AxesSubplot:title={'center':'emotion'}>]], dtype=object)"
     },
     "execution_count": 4,
     "metadata": {},
     "output_type": "execute_result"
    },
    {
     "data": {
      "text/plain": "<Figure size 432x288 with 1 Axes>",
      "image/png": "[encoded data removed]"
     },
     "metadata": {
      "needs_background": "light"
     },
     "output_type": "display_data"
    }
   ],
   "source": [
    "dataset_df.hist(column='emotion',bins=7)"
   ],
   "metadata": {
    "collapsed": false,
    "pycharm": {
     "name": "#%%\n"
    }
   }
  },
  {
   "cell_type": "code",
   "execution_count": 5,
   "outputs": [
    {
     "data": {
      "text/plain": "<Figure size 432x288 with 1 Axes>",
      "image/png": "[encoded data removed]"
     },
     "metadata": {
      "needs_background": "light"
     },
     "output_type": "display_data"
    }
   ],
   "source": [
    "dataset_df['emotion'] = dataset_df['emotion'].replace(to_replace=0,value=1)\n",
    "dataset_df.hist(column='emotion',bins=6)\n",
    "\n",
    "emotions = ['Angry', 'Fear', 'Happy', 'Sad', 'Surprise', 'Neutral']"
   ],
   "metadata": {
    "collapsed": false,
    "pycharm": {
     "name": "#%%\n"
    }
   }
  },
  {
   "cell_type": "code",
   "execution_count": 6,
   "metadata": {
    "pycharm": {
     "name": "#%%\n"
    }
   },
   "outputs": [],
   "source": [
    "def prepare_data(data):\n",
    "    \"\"\" Prepare data for modeling\n",
    "        input: data frame with labels and pixel data\n",
    "        output: image and label array \"\"\"\n",
    "\n",
    "    image_array = np.zeros(shape=(len(data), 1, 48, 48))\n",
    "    image_label = np.array(list(map(int, data['emotion']))).reshape(len(data), 1)\n",
    "\n",
    "    for i, row in enumerate(data.index):\n",
    "        image = np.fromstring(data.loc[row, ' pixels'], dtype=int, sep=' ')\n",
    "        image = np.reshape(image, (1, 48, 48))\n",
    "        image_array[i] = image\n",
    "\n",
    "    return image_array, image_label"
   ]
  },
  {
   "cell_type": "code",
   "execution_count": 7,
   "metadata": {
    "pycharm": {
     "name": "#%%\n"
    }
   },
   "outputs": [],
   "source": [
    "x_train, y_train = prepare_data(dataset_df[dataset_df[' Usage'] == 'Training'])\n",
    "x_val, y_val = prepare_data(dataset_df[dataset_df[' Usage'] == 'PrivateTest'])\n",
    "x_test, y_test = prepare_data(dataset_df[dataset_df[' Usage'] == 'PublicTest'])"
   ]
  },
  {
   "cell_type": "code",
   "execution_count": 8,
   "metadata": {
    "pycharm": {
     "name": "#%%\n"
    }
   },
   "outputs": [
    {
     "data": {
      "text/plain": "((28709, 1, 48, 48),\n (28709, 1),\n (3589, 1, 48, 48),\n (3589, 1),\n (3589, 1, 48, 48),\n (3589, 1))"
     },
     "execution_count": 8,
     "metadata": {},
     "output_type": "execute_result"
    }
   ],
   "source": [
    "x_train.shape, y_train.shape, x_val.shape, y_val.shape, x_test.shape, y_test.shape"
   ]
  },
  {
   "cell_type": "code",
   "execution_count": 9,
   "outputs": [
    {
     "data": {
      "text/plain": "array([[1., 0., 0., 0., 0., 0.],\n       [1., 0., 0., 0., 0., 0.],\n       [0., 1., 0., 0., 0., 0.],\n       ...,\n       [0., 0., 0., 1., 0., 0.],\n       [1., 0., 0., 0., 0., 0.],\n       [0., 0., 0., 1., 0., 0.]])"
     },
     "execution_count": 9,
     "metadata": {},
     "output_type": "execute_result"
    }
   ],
   "source": [
    "le = OneHotEncoder()\n",
    "y_train = le.fit_transform(y_train).toarray()\n",
    "y_val = le.fit_transform(y_val).toarray()\n",
    "y_test = le.fit_transform(y_test).toarray()\n",
    "y_train"
   ],
   "metadata": {
    "collapsed": false,
    "pycharm": {
     "name": "#%%\n"
    }
   }
  },
  {
   "cell_type": "code",
   "execution_count": 10,
   "metadata": {
    "pycharm": {
     "name": "#%%\n"
    }
   },
   "outputs": [],
   "source": [
    "class MyDataset(Dataset):\n",
    "    def __init__(self, array, labels):\n",
    "        self.array = array\n",
    "        self.labels = labels\n",
    "\n",
    "    def __getitem__(self, index):\n",
    "        return torch.tensor(self.array[index], dtype=torch.float32, device=device), torch.tensor(self.labels[index],\n",
    "                                                                                                 dtype=torch.float32,\n",
    "                                                                                                 device=device)\n",
    "\n",
    "    def __len__(self):\n",
    "        return len(self.array)"
   ]
  },
  {
   "cell_type": "code",
   "execution_count": 11,
   "metadata": {
    "pycharm": {
     "name": "#%%\n"
    }
   },
   "outputs": [],
   "source": [
    "trainDataset = MyDataset(x_train, y_train)\n",
    "\n",
    "train_dataloader = DataLoader(trainDataset, batch_size=256, shuffle=True)"
   ]
  },
  {
   "cell_type": "code",
   "execution_count": 12,
   "metadata": {
    "pycharm": {
     "name": "#%%\n"
    }
   },
   "outputs": [],
   "source": [
    "valDataset = MyDataset(x_val, y_val)\n",
    "\n",
    "val_dataloader = DataLoader(valDataset, batch_size=256, shuffle=True)"
   ]
  },
  {
   "cell_type": "code",
   "execution_count": 13,
   "metadata": {
    "pycharm": {
     "name": "#%%\n"
    }
   },
   "outputs": [],
   "source": [
    "testDataset = MyDataset(x_test, y_test)\n",
    "\n",
    "test_dataloader = DataLoader(testDataset, batch_size=256, shuffle=True)"
   ]
  },
  {
   "cell_type": "code",
   "execution_count": 14,
   "outputs": [],
   "source": [
    "class CNN_Model(nn.Module):\n",
    "    def __init__(self):\n",
    "        super(CNN_Model, self).__init__()\n",
    "        # output size : (width - filter + 2*padding)/stride +1\n",
    "        self.conv1 = nn.Conv2d(in_channels=1, out_channels=8, kernel_size=3, stride=1, padding=1)\n",
    "        torch.nn.init.xavier_uniform_(self.conv1.weight, gain=nn.init.calculate_gain('relu'))\n",
    "        self.bn1 = nn.BatchNorm2d(num_features=8)\n",
    "\n",
    "        self.conv2 = nn.Conv2d(in_channels=8, out_channels=16, kernel_size=3, stride=1, padding=1)\n",
    "        torch.nn.init.xavier_uniform_(self.conv2.weight, gain=nn.init.calculate_gain('relu'))\n",
    "        self.bn2 = nn.BatchNorm2d(num_features=16)\n",
    "\n",
    "        self.dropout = nn.Dropout(0.5)\n",
    "\n",
    "        self.fc1 = nn.Linear(35344, 1024)  # dim c * w * h\n",
    "        torch.nn.init.xavier_uniform_(self.fc1.weight, gain=nn.init.calculate_gain('relu'))\n",
    "\n",
    "        self.fc2 = nn.Linear(1024, 512)  # dim c * w * h\n",
    "        torch.nn.init.xavier_uniform_(self.fc1.weight, gain=nn.init.calculate_gain('relu'))\n",
    "\n",
    "        self.fc3 = nn.Linear(512, 256)  # dim c * w * h\n",
    "        torch.nn.init.xavier_uniform_(self.fc1.weight, gain=nn.init.calculate_gain('relu'))\n",
    "\n",
    "        self.fc4 = nn.Linear(256, 6)\n",
    "        torch.nn.init.xavier_uniform_(self.fc2.weight, gain=nn.init.calculate_gain('relu'))\n",
    "\n",
    "    def forward(self, data):\n",
    "        data = self.conv1(data)\n",
    "        data = F.relu(data)\n",
    "        data = self.bn1(data)\n",
    "        data = F.max_pool2d(data, kernel_size=3, stride=1,padding=1)\n",
    "\n",
    "        data = self.conv2(data)\n",
    "        data = F.relu(data)\n",
    "        data = self.bn2(data)\n",
    "        data = F.max_pool2d(data, kernel_size=2, stride=1)\n",
    "\n",
    "        data = torch.flatten(data, 1)\n",
    "\n",
    "        data = self.fc1(data)\n",
    "        data = F.relu(data)\n",
    "\n",
    "        data = self.dropout(data)\n",
    "\n",
    "        data = self.fc2(data)\n",
    "        data = F.relu(data)\n",
    "\n",
    "        data = self.dropout(data)\n",
    "\n",
    "        data = self.fc3(data)\n",
    "        data = F.relu(data)\n",
    "\n",
    "        data = self.dropout(data)\n",
    "\n",
    "        data = self.fc4(data)\n",
    "\n",
    "        return data"
   ],
   "metadata": {
    "collapsed": false,
    "pycharm": {
     "name": "#%%\n"
    }
   }
  },
  {
   "cell_type": "code",
   "execution_count": 15,
   "outputs": [],
   "source": [
    "def train_model(model, dataloader, optimizer):\n",
    "    model.train()\n",
    "\n",
    "    pred = []\n",
    "    labels = []\n",
    "    loss = nn.CrossEntropyLoss()\n",
    "    total_loss = 0\n",
    "\n",
    "    for (data, label) in dataloader:\n",
    "        # reset gradients (it will accumulate gradients otherwise)\n",
    "        optimizer.zero_grad()\n",
    "\n",
    "        # forward pass\n",
    "        output = model(data)\n",
    "\n",
    "        # compute loss\n",
    "        loss_ = loss(output, label)\n",
    "        total_loss += loss_.item()\n",
    "\n",
    "        # backward propagation dl/dw -> gradients\n",
    "        loss_.backward()\n",
    "\n",
    "        # update weights\n",
    "        optimizer.step()\n",
    "\n",
    "        ######################################\n",
    "\n",
    "        _, predicted = torch.max(output.data, dim=1)\n",
    "        _, true_label = torch.max(label, dim=1)\n",
    "        pred += predicted.tolist()\n",
    "        labels += true_label.tolist()\n",
    "\n",
    "    return accuracy_score(labels, pred) * 100., total_loss / len(dataloader)"
   ],
   "metadata": {
    "collapsed": false,
    "pycharm": {
     "name": "#%%\n"
    }
   }
  },
  {
   "cell_type": "code",
   "execution_count": 16,
   "outputs": [],
   "source": [
    "def test_model(model, dataloader):\n",
    "    model.eval()\n",
    "\n",
    "    pred = []\n",
    "    labels = []\n",
    "    loss = nn.CrossEntropyLoss()\n",
    "    total_loss = 0\n",
    "\n",
    "    with torch.no_grad():\n",
    "        for (data, label) in dataloader:\n",
    "            output = model(data)\n",
    "\n",
    "            # compute loss\n",
    "            loss_ = loss(output, label)\n",
    "            total_loss += loss_.item()\n",
    "\n",
    "            _, predicted = torch.max(output.data, dim=1)\n",
    "            _, true_label = torch.max(label, dim=1)\n",
    "            pred += predicted.tolist()\n",
    "            labels += true_label.tolist()\n",
    "\n",
    "    return labels, pred, accuracy_score(labels, pred) * 100., total_loss / len(dataloader)"
   ],
   "metadata": {
    "collapsed": false,
    "pycharm": {
     "name": "#%%\n"
    }
   }
  },
  {
   "cell_type": "code",
   "execution_count": 17,
   "outputs": [
    {
     "name": "stdout",
     "output_type": "stream",
     "text": [
      "Number of Parameters :  36852246\n"
     ]
    }
   ],
   "source": [
    "model_path = \"./cnn_model.pth\"\n",
    "\n",
    "model = CNN_Model().to(device)\n",
    "\n",
    "#model.load_state_dict(torch.load(model_path))\n",
    "\n",
    "print('Number of Parameters : ', sum(p.numel() for p in model.parameters() if p.requires_grad))"
   ],
   "metadata": {
    "collapsed": false,
    "pycharm": {
     "name": "#%%\n"
    }
   }
  },
  {
   "cell_type": "code",
   "execution_count": 18,
   "outputs": [],
   "source": [
    "optimizer = torch.optim.Adam(model.parameters(), lr=0.001, weight_decay=0.000001)\n",
    "#optimizer = torch.optim.Adam(model.parameters(), lr=0.001)\n",
    "#optimizer = torch.optim.SGD(model.parameters(), lr=0.00001)\n",
    "#optimizer = torch.optim.RMSprop(model.parameters(), lr=0.001)"
   ],
   "metadata": {
    "collapsed": false,
    "pycharm": {
     "name": "#%%\n"
    }
   }
  },
  {
   "cell_type": "code",
   "execution_count": 19,
   "outputs": [],
   "source": [
    "scheduler1 = torch.optim.lr_scheduler.ReduceLROnPlateau(optimizer, patience=4, factor=0.5, threshold=0.01)\n",
    "scheduler2 = torch.optim.lr_scheduler.StepLR(optimizer,step_size=6,gamma=0.1)"
   ],
   "metadata": {
    "collapsed": false,
    "pycharm": {
     "name": "#%%\n"
    }
   }
  },
  {
   "cell_type": "code",
   "execution_count": 20,
   "outputs": [],
   "source": [
    "# chkpt = torch.load(\"./cnn_epoch10early_stop.pth\")\n",
    "# model.load_state_dict(chkpt['net_state'])\n",
    "# optimizer.load_state_dict(chkpt['optimizer_state'])\n",
    "# epoch_saved = chkpt['epoch'] + 1"
   ],
   "metadata": {
    "collapsed": false,
    "pycharm": {
     "name": "#%%\n"
    }
   }
  },
  {
   "cell_type": "code",
   "execution_count": 21,
   "outputs": [],
   "source": [
    "train_loss_list = []\n",
    "train_acc_list = []\n",
    "\n",
    "val_loss_list = []\n",
    "val_acc_list = []"
   ],
   "metadata": {
    "collapsed": false,
    "pycharm": {
     "name": "#%%\n"
    }
   }
  },
  {
   "cell_type": "code",
   "execution_count": 22,
   "outputs": [
    {
     "name": "stdout",
     "output_type": "stream",
     "text": [
      "epoch:  1 Training loss:  1.9618901615649198 Training Accuracy:  23.961127172663623 %   Val loss:  1.6262672583262126 Val Accuracy:  33.74198941209251 %\n",
      "learning rate : 0.001\n",
      "epoch:  2 Training loss:  1.6110087706979397 Training Accuracy:  33.435508028841134 %   Val loss:  1.4798836390177408 Val Accuracy:  42.3237670660351 %\n",
      "learning rate : 0.001\n",
      "epoch:  3 Training loss:  1.4916570608594777 Training Accuracy:  39.492841965934026 %   Val loss:  1.3755594730377196 Val Accuracy:  44.88715519643355 %\n",
      "learning rate : 0.001\n",
      "epoch:  4 Training loss:  1.4167342196523616 Training Accuracy:  42.878539830715106 %   Val loss:  1.3259769121805827 Val Accuracy:  47.17191418222346 %\n",
      "learning rate : 0.001\n",
      "epoch:  5 Training loss:  1.3502453439003599 Training Accuracy:  45.38298094674144 %   Val loss:  1.3282198349634806 Val Accuracy:  49.06659236556144 %\n",
      "learning rate : 0.001\n",
      "epoch:  6 Training loss:  1.2846668610530616 Training Accuracy:  49.02992093071859 %   Val loss:  1.2853029727935792 Val Accuracy:  48.95514070771802 %\n",
      "learning rate : 0.001\n",
      "epoch:  7 Training loss:  1.2169256969890763 Training Accuracy:  51.78515448117316 %   Val loss:  1.2749406099319458 Val Accuracy:  49.81889105600446 %\n",
      "learning rate : 0.0001\n",
      "epoch:  8 Training loss:  1.0704361453520512 Training Accuracy:  57.839005190010106 %   Val loss:  1.2061279813448589 Val Accuracy:  52.24296461409863 %\n",
      "learning rate : 0.0001\n",
      "epoch:  9 Training loss:  1.0151372952798827 Training Accuracy:  60.07523773032847 %   Val loss:  1.3020734310150146 Val Accuracy:  52.438005015324606 %\n",
      "learning rate : 0.0001\n",
      "epoch:  10 Training loss:  0.9734127727230039 Training Accuracy:  61.59392524992163 %   Val loss:  1.209985359509786 Val Accuracy:  52.911674561159096 %\n",
      "learning rate : 0.0001\n",
      "epoch:  11 Training loss:  0.9315221979554775 Training Accuracy:  63.79184227942457 %   Val loss:  1.2112775484720866 Val Accuracy:  53.35748119253274 %\n",
      "learning rate : 0.0001\n",
      "epoch:  12 Training loss:  0.8891635647917215 Training Accuracy:  65.11895224494062 %   Val loss:  1.237732187906901 Val Accuracy:  53.07885204792421 %\n",
      "learning rate : 0.0001\n",
      "epoch:  13 Training loss:  0.8495966254082401 Training Accuracy:  67.08000975303912 %   Val loss:  1.3054341554641724 Val Accuracy:  53.496795764837 %\n",
      "learning rate : 5e-05\n",
      "epoch:  14 Training loss:  0.8018796887017984 Training Accuracy:  68.42453585983489 %   Val loss:  1.2308284680048625 Val Accuracy:  53.775424909445526 %\n",
      "learning rate : 5e-05\n",
      "epoch:  15 Training loss:  0.7798951083579949 Training Accuracy:  69.31624229335749 %   Val loss:  1.2473862568537395 Val Accuracy:  54.304820284201725 %\n",
      "learning rate : 5e-05\n",
      "epoch:  16 Training loss:  0.7590438449277287 Training Accuracy:  70.30896234630255 %   Val loss:  1.2332458655039469 Val Accuracy:  54.47199777096684 %\n",
      "learning rate : 5e-05\n",
      "epoch:  17 Training loss:  0.7371654178188966 Training Accuracy:  71.74056915949703 %   Val loss:  1.2720650434494019 Val Accuracy:  54.58344942881025 %\n",
      "learning rate : 5e-05\n",
      "epoch:  18 Training loss:  0.7088698892466789 Training Accuracy:  72.43721481068654 %   Val loss:  1.3976913452148438 Val Accuracy:  54.416271942045135 %\n",
      "learning rate : 2.5e-05\n",
      "epoch:  19 Training loss:  0.6839837669271284 Training Accuracy:  73.46128391793513 %   Val loss:  1.2536203066507976 Val Accuracy:  54.416271942045135 %\n",
      "learning rate : 2.5e-05\n",
      "epoch:  20 Training loss:  0.6783064762047962 Training Accuracy:  73.62499564596467 %   Val loss:  1.364478103319804 Val Accuracy:  54.83421565895793 %\n",
      "learning rate : 2.5e-05\n",
      "epoch:  21 Training loss:  0.6662763531229138 Training Accuracy:  74.0290501236546 %   Val loss:  1.3062463839848837 Val Accuracy:  54.63917525773196 %\n",
      "learning rate : 2.5e-05\n",
      "epoch:  22 Training loss:  0.6514181204601727 Training Accuracy:  74.81625970949877 %   Val loss:  1.3505245526631673 Val Accuracy:  54.5555865143494 %\n",
      "learning rate : 2.5e-05\n",
      "epoch:  23 Training loss:  0.6386437020470611 Training Accuracy:  75.32132780661117 %   Val loss:  1.3216771284739177 Val Accuracy:  54.66703817219282 %\n",
      "learning rate : 1.25e-05\n",
      "epoch:  24 Training loss:  0.6313960235730737 Training Accuracy:  75.4118917412658 %   Val loss:  1.3377145290374757 Val Accuracy:  54.91780440234049 %\n",
      "learning rate : 1.25e-05\n",
      "epoch:  25 Training loss:  0.6164563888997103 Training Accuracy:  76.18865164234212 %   Val loss:  1.3093733588854473 Val Accuracy:  54.94566731680134 %\n",
      "learning rate : 1.25e-05\n",
      "epoch:  26 Training loss:  0.6175635604731804 Training Accuracy:  76.30359817478839 %   Val loss:  1.33266122341156 Val Accuracy:  54.83421565895793 %\n",
      "learning rate : 1.25e-05\n",
      "epoch:  27 Training loss:  0.6114150589018796 Training Accuracy:  76.65192100038315 %   Val loss:  1.4096165498097737 Val Accuracy:  55.0292560601839 %\n",
      "learning rate : 1.25e-05\n",
      "epoch:  28 Training loss:  0.5998800779338431 Training Accuracy:  76.8748476087638 %   Val loss:  1.2725903828938803 Val Accuracy:  54.94566731680134 %\n",
      "learning rate : 6.25e-06\n",
      "epoch:  29 Training loss:  0.5844451051897708 Training Accuracy:  77.36249956459646 %   Val loss:  1.301288225253423 Val Accuracy:  54.83421565895793 %\n",
      "learning rate : 6.25e-06\n",
      "epoch:  30 Training loss:  0.5946142757888389 Training Accuracy:  77.18833815179909 %   Val loss:  1.356919264793396 Val Accuracy:  54.77848983003623 %\n",
      "learning rate : 6.25e-06\n",
      "epoch:  31 Training loss:  0.5922590098549835 Training Accuracy:  76.92361280434706 %   Val loss:  1.3451687971750894 Val Accuracy:  54.88994148787963 %\n",
      "learning rate : 6.25e-06\n",
      "epoch:  32 Training loss:  0.5886071872922172 Training Accuracy:  77.31025114075726 %   Val loss:  1.3844507535298665 Val Accuracy:  54.806352744497076 %\n",
      "learning rate : 6.25e-06\n",
      "epoch:  33 Training loss:  0.5843839592638269 Training Accuracy:  77.41823121669164 %   Val loss:  1.3486380338668824 Val Accuracy:  55.0292560601839 %\n",
      "learning rate : 3.125e-06\n",
      "epoch:  34 Training loss:  0.5803836858378048 Training Accuracy:  77.6202584555366 %   Val loss:  1.4207158406575522 Val Accuracy:  54.94566731680134 %\n",
      "learning rate : 3.125e-06\n",
      "epoch:  35 Training loss:  0.5762858860260618 Training Accuracy:  77.68295656414365 %   Val loss:  1.4060410896937052 Val Accuracy:  54.69490108665367 %\n",
      "learning rate : 3.125e-06\n",
      "epoch:  36 Training loss:  0.5762463056408198 Training Accuracy:  77.8257689226375 %   Val loss:  1.4290823062260947 Val Accuracy:  54.806352744497076 %\n",
      "learning rate : 3.125e-06\n",
      "epoch:  37 Training loss:  0.5712003343928177 Training Accuracy:  77.86756766170888 %   Val loss:  1.3727919419606527 Val Accuracy:  54.91780440234049 %\n",
      "learning rate : 3.125e-06\n",
      "epoch:  38 Training loss:  0.5694708613167822 Training Accuracy:  78.02082970497057 %   Val loss:  1.3826002518335978 Val Accuracy:  55.0292560601839 %\n",
      "learning rate : 1.5625e-06\n",
      "epoch:  39 Training loss:  0.571940164650436 Training Accuracy:  78.03476261799436 %   Val loss:  1.3744878053665162 Val Accuracy:  54.91780440234049 %\n",
      "learning rate : 1.5625e-06\n",
      "epoch:  40 Training loss:  0.5702751695582297 Training Accuracy:  77.8919502595005 %   Val loss:  1.443716565767924 Val Accuracy:  54.91780440234049 %\n",
      "learning rate : 1.5625e-06\n",
      "epoch:  41 Training loss:  0.5704678486933751 Training Accuracy:  78.17060851997631 %   Val loss:  1.371975302696228 Val Accuracy:  54.97353023126219 %\n",
      "learning rate : 1.5625e-06\n",
      "epoch:  42 Training loss:  0.5698691772676148 Training Accuracy:  77.98599742241109 %   Val loss:  1.483397356669108 Val Accuracy:  55.057118974644744 %\n",
      "learning rate : 1.5625e-06\n",
      "epoch:  43 Training loss:  0.5738223564308301 Training Accuracy:  78.02779616148247 %   Val loss:  1.3387965401013693 Val Accuracy:  55.0292560601839 %\n",
      "learning rate : 7.8125e-07\n",
      "epoch:  44 Training loss:  0.5754521272878731 Training Accuracy:  77.63419136856038 %   Val loss:  1.5791817744572958 Val Accuracy:  54.69490108665367 %\n",
      "learning rate : 7.8125e-07\n",
      "epoch:  45 Training loss:  0.5627756332401681 Training Accuracy:  78.49803197603539 %   Val loss:  1.338700032234192 Val Accuracy:  54.862078573418785 %\n",
      "learning rate : 7.8125e-07\n",
      "epoch:  46 Training loss:  0.5640987070788325 Training Accuracy:  78.0452123027622 %   Val loss:  1.3442570567131042 Val Accuracy:  54.83421565895793 %\n",
      "learning rate : 7.8125e-07\n",
      "epoch:  47 Training loss:  0.5712953497350743 Training Accuracy:  77.99644710717894 %   Val loss:  1.343026053905487 Val Accuracy:  55.0849818891056 %\n",
      "learning rate : 7.8125e-07\n",
      "epoch:  48 Training loss:  0.5701291600687314 Training Accuracy:  77.75610435751855 %   Val loss:  1.4395240386327108 Val Accuracy:  54.97353023126219 %\n",
      "learning rate : 3.90625e-07\n",
      "epoch:  49 Training loss:  0.574194447392911 Training Accuracy:  78.0452123027622 %   Val loss:  1.4310610135396322 Val Accuracy:  54.862078573418785 %\n",
      "learning rate : 3.90625e-07\n",
      "epoch:  50 Training loss:  0.5709801680218857 Training Accuracy:  77.9720645093873 %   Val loss:  1.371692419052124 Val Accuracy:  54.88994148787963 %\n",
      "learning rate : 3.90625e-07\n"
     ]
    },
    {
     "ename": "KeyboardInterrupt",
     "evalue": "",
     "output_type": "error",
     "traceback": [
      "\u001B[1;31m---------------------------------------------------------------------------\u001B[0m",
      "\u001B[1;31mKeyboardInterrupt\u001B[0m                         Traceback (most recent call last)",
      "Input \u001B[1;32mIn [22]\u001B[0m, in \u001B[0;36m<cell line: 4>\u001B[1;34m()\u001B[0m\n\u001B[0;32m      2\u001B[0m \u001B[38;5;66;03m# Train and validate model\u001B[39;00m\n\u001B[0;32m      4\u001B[0m \u001B[38;5;28;01mfor\u001B[39;00m e \u001B[38;5;129;01min\u001B[39;00m \u001B[38;5;28mrange\u001B[39m(epoch):\n\u001B[1;32m----> 5\u001B[0m     train_accuracy, train_loss \u001B[38;5;241m=\u001B[39m \u001B[43mtrain_model\u001B[49m\u001B[43m(\u001B[49m\u001B[43mmodel\u001B[49m\u001B[43m,\u001B[49m\u001B[43m \u001B[49m\u001B[43mtrain_dataloader\u001B[49m\u001B[43m,\u001B[49m\u001B[43m \u001B[49m\u001B[43moptimizer\u001B[49m\u001B[43m)\u001B[49m\n\u001B[0;32m      7\u001B[0m     val_labels, val_pred, val_accuracy, val_loss \u001B[38;5;241m=\u001B[39m test_model(model, val_dataloader)\n\u001B[0;32m      9\u001B[0m     \u001B[38;5;66;03m# Decay Learning Rate\u001B[39;00m\n",
      "Input \u001B[1;32mIn [15]\u001B[0m, in \u001B[0;36mtrain_model\u001B[1;34m(model, dataloader, optimizer)\u001B[0m\n\u001B[0;32m     28\u001B[0m     _, predicted \u001B[38;5;241m=\u001B[39m torch\u001B[38;5;241m.\u001B[39mmax(output\u001B[38;5;241m.\u001B[39mdata, dim\u001B[38;5;241m=\u001B[39m\u001B[38;5;241m1\u001B[39m)\n\u001B[0;32m     29\u001B[0m     _, true_label \u001B[38;5;241m=\u001B[39m torch\u001B[38;5;241m.\u001B[39mmax(label, dim\u001B[38;5;241m=\u001B[39m\u001B[38;5;241m1\u001B[39m)\n\u001B[1;32m---> 30\u001B[0m     pred \u001B[38;5;241m+\u001B[39m\u001B[38;5;241m=\u001B[39m \u001B[43mpredicted\u001B[49m\u001B[38;5;241;43m.\u001B[39;49m\u001B[43mtolist\u001B[49m\u001B[43m(\u001B[49m\u001B[43m)\u001B[49m\n\u001B[0;32m     31\u001B[0m     labels \u001B[38;5;241m+\u001B[39m\u001B[38;5;241m=\u001B[39m true_label\u001B[38;5;241m.\u001B[39mtolist()\n\u001B[0;32m     33\u001B[0m \u001B[38;5;28;01mreturn\u001B[39;00m accuracy_score(labels, pred) \u001B[38;5;241m*\u001B[39m \u001B[38;5;241m100.\u001B[39m, total_loss \u001B[38;5;241m/\u001B[39m \u001B[38;5;28mlen\u001B[39m(dataloader)\n",
      "\u001B[1;31mKeyboardInterrupt\u001B[0m: "
     ]
    }
   ],
   "source": [
    "epoch = 100\n",
    "# Train and validate model\n",
    "\n",
    "for e in range(epoch):\n",
    "    train_accuracy, train_loss = train_model(model, train_dataloader, optimizer)\n",
    "\n",
    "    val_labels, val_pred, val_accuracy, val_loss = test_model(model, val_dataloader)\n",
    "\n",
    "    # Decay Learning Rate\n",
    "    if e > 6:\n",
    "        scheduler1.step(val_loss)\n",
    "    else:\n",
    "        scheduler2.step(e)\n",
    "\n",
    "    train_loss_list.append(train_loss)\n",
    "    train_acc_list.append(train_accuracy)\n",
    "    val_loss_list.append(val_loss)\n",
    "    val_acc_list.append(val_accuracy)\n",
    "\n",
    "    print('epoch: ', e + 1, 'Training loss: ', train_loss, 'Training Accuracy: ', train_accuracy, '%', '  Val loss: ',\n",
    "          val_loss, 'Val Accuracy: ', val_accuracy, '%')\n",
    "    print('learning rate :', optimizer.state_dict()['param_groups'][0]['lr'])\n",
    "\n",
    "    # early stopping\n",
    "    if train_accuracy - val_accuracy > 25:\n",
    "        early_stop_path = \"./cnn_epoch\" + str(e) + \"_early_stop.pth\"\n",
    "        info_dict = {\n",
    "            'epoch': e,\n",
    "            'net_state': model.state_dict(),\n",
    "            'optimizer_state': optimizer.state_dict()\n",
    "        }\n",
    "        torch.save(info_dict, early_stop_path)\n",
    "        break\n",
    "\n",
    "    # checkpoint\n",
    "    if e % 5 == 0 and e > 0:\n",
    "        early_stop_path = \"./cnn_epoch\" + str(e) + \"_checkpoint.pth\"\n",
    "        info_dict = {\n",
    "            'epoch': e,\n",
    "            'net_state': model.state_dict(),\n",
    "            'optimizer_state': optimizer.state_dict()\n",
    "        }\n",
    "        torch.save(info_dict, early_stop_path)\n",
    "\n"
   ],
   "metadata": {
    "collapsed": false,
    "pycharm": {
     "name": "#%%\n"
    }
   }
  },
  {
   "cell_type": "code",
   "execution_count": 24,
   "metadata": {
    "pycharm": {
     "name": "#%%\n"
    }
   },
   "outputs": [
    {
     "name": "stdout",
     "output_type": "stream",
     "text": [
      "Test loss:  1.4334321737289428 Test Accuracy:  53.246029534689335 %\n"
     ]
    },
    {
     "data": {
      "text/plain": "<Figure size 864x720 with 2 Axes>",
      "image/png": "[encoded data removed]"
     },
     "metadata": {
      "needs_background": "light"
     },
     "output_type": "display_data"
    }
   ],
   "source": [
    "# test model\n",
    "\n",
    "test_labels, test_pred, test_accuracy, test_loss = test_model(model, test_dataloader)\n",
    "print('Test loss: ', test_loss, 'Test Accuracy: ', test_accuracy, '%')\n",
    "\n",
    "cm = confusion_matrix(test_labels, test_pred)\n",
    "plt.figure(figsize=(12, 10))\n",
    "cm = pd.DataFrame(cm, index=emotions, columns=emotions)\n",
    "sns.heatmap(cm, linecolor='white', cmap='Blues', linewidth=1, annot=True, fmt='')\n",
    "plt.title('Confusion Matrix', size=20)\n",
    "plt.xlabel('Predicted Labels', size=14)\n",
    "plt.ylabel('Actual Labels', size=14)\n",
    "plt.show()"
   ]
  },
  {
   "cell_type": "code",
   "execution_count": null,
   "metadata": {
    "pycharm": {
     "name": "#%%\n"
    }
   },
   "outputs": [],
   "source": [
    "#torch.save(model.state_dict(), model_path)"
   ]
  },
  {
   "cell_type": "code",
   "execution_count": 25,
   "outputs": [
    {
     "data": {
      "text/plain": "<Figure size 864x720 with 1 Axes>",
      "image/png": "[encoded data removed]"
     },
     "metadata": {
      "needs_background": "light"
     },
     "output_type": "display_data"
    },
    {
     "data": {
      "text/plain": "<Figure size 864x720 with 1 Axes>",
      "image/png": "[encoded data removed]"
     },
     "metadata": {
      "needs_background": "light"
     },
     "output_type": "display_data"
    }
   ],
   "source": [
    "plt.figure(figsize=(12, 10))\n",
    "plt.plot(train_acc_list, '-o')\n",
    "plt.plot(val_acc_list, '-o')\n",
    "plt.xlabel('epoch', size=14)\n",
    "plt.ylabel('accuracy', size=14)\n",
    "plt.legend(['Train', 'Valid'])\n",
    "plt.title('Train vs Valid Accuracy', size=20)\n",
    "\n",
    "plt.show()\n",
    "\n",
    "plt.figure(figsize=(12, 10))\n",
    "plt.plot(train_loss_list, '-o')\n",
    "plt.plot(val_loss_list, '-o')\n",
    "plt.xlabel('epoch', size=14)\n",
    "plt.ylabel('losses', size=14)\n",
    "plt.legend(['Train', 'Valid'])\n",
    "plt.title('Train vs Valid Losses', size=20)\n",
    "\n",
    "plt.show()"
   ],
   "metadata": {
    "collapsed": false,
    "pycharm": {
     "name": "#%%\n"
    }
   }
  },
  {
   "cell_type": "code",
   "execution_count": null,
   "outputs": [],
   "source": [],
   "metadata": {
    "collapsed": false,
    "pycharm": {
     "name": "#%%\n"
    }
   }
  }
 ],
 "metadata": {
  "kernelspec": {
   "display_name": "Python 3 (ipykernel)",
   "language": "python",
   "name": "python3"
  },
  "language_info": {
   "codemirror_mode": {
    "name": "ipython",
    "version": 3
   },
   "file_extension": ".py",
   "mimetype": "text/x-python",
   "name": "python",
   "nbconvert_exporter": "python",
   "pygments_lexer": "ipython3",
   "version": "3.9.12"
  }
 },
 "nbformat": 4,
 "nbformat_minor": 1
}