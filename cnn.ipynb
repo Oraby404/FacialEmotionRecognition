{
 "cells": [
  {
   "cell_type": "code",
   "execution_count": 1,
   "metadata": {
    "pycharm": {
     "name": "#%%\n"
    }
   },
   "outputs": [],
   "source": [
    "# imports cell\n",
    "import numpy as np\n",
    "import pandas as pd\n",
    "\n",
    "import matplotlib.pyplot as plt\n",
    "import seaborn as sns\n",
    "\n",
    "import torch\n",
    "import torch.nn as nn\n",
    "import torch.nn.functional as F\n",
    "from torch.utils.data import Dataset, DataLoader\n",
    "from torch.autograd import Variable\n",
    "\n",
    "from sklearn.metrics import accuracy_score, confusion_matrix\n",
    "from sklearn.model_selection import train_test_split\n",
    "from sklearn.preprocessing import LabelEncoder, OneHotEncoder, StandardScaler\n",
    "\n",
    "import warnings\n",
    "\n",
    "# to create a tensor on the gpu\n",
    "device = torch.device(\"cuda\" if torch.cuda.is_available() else \"cpu\")\n",
    "warnings.filterwarnings('ignore')"
   ]
  },
  {
   "cell_type": "code",
   "execution_count": 2,
   "metadata": {
    "pycharm": {
     "name": "#%%\n"
    }
   },
   "outputs": [],
   "source": [
    "filename = \"./dataset/icml_face_data.csv\"\n",
    "\n",
    "#emotions = ['Angry', 'Disgust', 'Fear', 'Happy', 'Sad', 'Surprise', 'Neutral']"
   ]
  },
  {
   "cell_type": "code",
   "execution_count": 3,
   "metadata": {
    "pycharm": {
     "name": "#%%\n"
    }
   },
   "outputs": [
    {
     "data": {
      "text/plain": "       emotion        Usage                                             pixels\n0            0     Training  70 80 82 72 58 58 60 63 54 58 60 48 89 115 121...\n1            0     Training  151 150 147 155 148 133 111 140 170 174 182 15...\n2            2     Training  231 212 156 164 174 138 161 173 182 200 106 38...\n3            4     Training  24 32 36 30 32 23 19 20 30 41 21 22 32 34 21 1...\n4            6     Training  4 0 0 0 0 0 0 0 0 0 0 0 3 15 23 28 48 50 58 84...\n...        ...          ...                                                ...\n35882        6  PrivateTest  50 36 17 22 23 29 33 39 34 37 37 37 39 43 48 5...\n35883        3  PrivateTest  178 174 172 173 181 188 191 194 196 199 200 20...\n35884        0  PrivateTest  17 17 16 23 28 22 19 17 25 26 20 24 31 19 27 9...\n35885        3  PrivateTest  30 28 28 29 31 30 42 68 79 81 77 67 67 71 63 6...\n35886        2  PrivateTest  19 13 14 12 13 16 21 33 50 57 71 84 97 108 122...\n\n[35887 rows x 3 columns]",
      "text/html": "<div>\n<style scoped>\n    .dataframe tbody tr th:only-of-type {\n        vertical-align: middle;\n    }\n\n    .dataframe tbody tr th {\n        vertical-align: top;\n    }\n\n    .dataframe thead th {\n        text-align: right;\n    }\n</style>\n<table border=\"1\" class=\"dataframe\">\n  <thead>\n    <tr style=\"text-align: right;\">\n      <th></th>\n      <th>emotion</th>\n      <th>Usage</th>\n      <th>pixels</th>\n    </tr>\n  </thead>\n  <tbody>\n    <tr>\n      <th>0</th>\n      <td>0</td>\n      <td>Training</td>\n      <td>70 80 82 72 58 58 60 63 54 58 60 48 89 115 121...</td>\n    </tr>\n    <tr>\n      <th>1</th>\n      <td>0</td>\n      <td>Training</td>\n      <td>151 150 147 155 148 133 111 140 170 174 182 15...</td>\n    </tr>\n    <tr>\n      <th>2</th>\n      <td>2</td>\n      <td>Training</td>\n      <td>231 212 156 164 174 138 161 173 182 200 106 38...</td>\n    </tr>\n    <tr>\n      <th>3</th>\n      <td>4</td>\n      <td>Training</td>\n      <td>24 32 36 30 32 23 19 20 30 41 21 22 32 34 21 1...</td>\n    </tr>\n    <tr>\n      <th>4</th>\n      <td>6</td>\n      <td>Training</td>\n      <td>4 0 0 0 0 0 0 0 0 0 0 0 3 15 23 28 48 50 58 84...</td>\n    </tr>\n    <tr>\n      <th>...</th>\n      <td>...</td>\n      <td>...</td>\n      <td>...</td>\n    </tr>\n    <tr>\n      <th>35882</th>\n      <td>6</td>\n      <td>PrivateTest</td>\n      <td>50 36 17 22 23 29 33 39 34 37 37 37 39 43 48 5...</td>\n    </tr>\n    <tr>\n      <th>35883</th>\n      <td>3</td>\n      <td>PrivateTest</td>\n      <td>178 174 172 173 181 188 191 194 196 199 200 20...</td>\n    </tr>\n    <tr>\n      <th>35884</th>\n      <td>0</td>\n      <td>PrivateTest</td>\n      <td>17 17 16 23 28 22 19 17 25 26 20 24 31 19 27 9...</td>\n    </tr>\n    <tr>\n      <th>35885</th>\n      <td>3</td>\n      <td>PrivateTest</td>\n      <td>30 28 28 29 31 30 42 68 79 81 77 67 67 71 63 6...</td>\n    </tr>\n    <tr>\n      <th>35886</th>\n      <td>2</td>\n      <td>PrivateTest</td>\n      <td>19 13 14 12 13 16 21 33 50 57 71 84 97 108 122...</td>\n    </tr>\n  </tbody>\n</table>\n<p>35887 rows × 3 columns</p>\n</div>"
     },
     "execution_count": 3,
     "metadata": {},
     "output_type": "execute_result"
    }
   ],
   "source": [
    "dataset_df = pd.read_csv(filename)\n",
    "dataset_df"
   ]
  },
  {
   "cell_type": "code",
   "execution_count": 4,
   "outputs": [
    {
     "data": {
      "text/plain": "array([[<AxesSubplot:title={'center':'emotion'}>]], dtype=object)"
     },
     "execution_count": 4,
     "metadata": {},
     "output_type": "execute_result"
    },
    {
     "data": {
      "text/plain": "<Figure size 432x288 with 1 Axes>",
      "image/png": "[encoded data removed]"
     },
     "metadata": {
      "needs_background": "light"
     },
     "output_type": "display_data"
    }
   ],
   "source": [
    "dataset_df.hist(column='emotion',bins=7)"
   ],
   "metadata": {
    "collapsed": false,
    "pycharm": {
     "name": "#%%\n"
    }
   }
  },
  {
   "cell_type": "code",
   "execution_count": 5,
   "outputs": [
    {
     "data": {
      "text/plain": "<Figure size 432x288 with 1 Axes>",
      "image/png": "[encoded data removed]"
     },
     "metadata": {
      "needs_background": "light"
     },
     "output_type": "display_data"
    }
   ],
   "source": [
    "dataset_df['emotion'] = dataset_df['emotion'].replace(to_replace=0,value=1)\n",
    "dataset_df.hist(column='emotion',bins=6)\n",
    "\n",
    "emotions = ['Angry', 'Fear', 'Happy', 'Sad', 'Surprise', 'Neutral']"
   ],
   "metadata": {
    "collapsed": false,
    "pycharm": {
     "name": "#%%\n"
    }
   }
  },
  {
   "cell_type": "code",
   "execution_count": 6,
   "metadata": {
    "pycharm": {
     "name": "#%%\n"
    }
   },
   "outputs": [],
   "source": [
    "def prepare_data(data):\n",
    "    \"\"\" Prepare data for modeling\n",
    "        input: data frame with labels and pixel data\n",
    "        output: image and label array \"\"\"\n",
    "\n",
    "    image_array = np.zeros(shape=(len(data), 1, 48, 48))\n",
    "    image_label = np.array(list(map(int, data['emotion']))).reshape(len(data), 1)\n",
    "\n",
    "    for i, row in enumerate(data.index):\n",
    "        image = np.fromstring(data.loc[row, ' pixels'], dtype=int, sep=' ')\n",
    "        image = np.reshape(image, (1, 48, 48))\n",
    "        image_array[i] = image\n",
    "\n",
    "    return image_array, image_label"
   ]
  },
  {
   "cell_type": "code",
   "execution_count": 7,
   "metadata": {
    "pycharm": {
     "name": "#%%\n"
    }
   },
   "outputs": [],
   "source": [
    "x_train, y_train = prepare_data(dataset_df[dataset_df[' Usage'] == 'Training'])\n",
    "x_val, y_val = prepare_data(dataset_df[dataset_df[' Usage'] == 'PrivateTest'])\n",
    "x_test, y_test = prepare_data(dataset_df[dataset_df[' Usage'] == 'PublicTest'])"
   ]
  },
  {
   "cell_type": "code",
   "execution_count": 8,
   "metadata": {
    "pycharm": {
     "name": "#%%\n"
    }
   },
   "outputs": [
    {
     "data": {
      "text/plain": "((28709, 1, 48, 48),\n (28709, 1),\n (3589, 1, 48, 48),\n (3589, 1),\n (3589, 1, 48, 48),\n (3589, 1))"
     },
     "execution_count": 8,
     "metadata": {},
     "output_type": "execute_result"
    }
   ],
   "source": [
    "x_train.shape, y_train.shape, x_val.shape, y_val.shape, x_test.shape, y_test.shape"
   ]
  },
  {
   "cell_type": "code",
   "execution_count": 9,
   "outputs": [
    {
     "data": {
      "text/plain": "array([[1., 0., 0., 0., 0., 0.],\n       [1., 0., 0., 0., 0., 0.],\n       [0., 1., 0., 0., 0., 0.],\n       ...,\n       [0., 0., 0., 1., 0., 0.],\n       [1., 0., 0., 0., 0., 0.],\n       [0., 0., 0., 1., 0., 0.]])"
     },
     "execution_count": 9,
     "metadata": {},
     "output_type": "execute_result"
    }
   ],
   "source": [
    "le = OneHotEncoder()\n",
    "y_train = le.fit_transform(y_train).toarray()\n",
    "y_val = le.fit_transform(y_val).toarray()\n",
    "y_test = le.fit_transform(y_test).toarray()\n",
    "y_train"
   ],
   "metadata": {
    "collapsed": false,
    "pycharm": {
     "name": "#%%\n"
    }
   }
  },
  {
   "cell_type": "code",
   "execution_count": 10,
   "metadata": {
    "pycharm": {
     "name": "#%%\n"
    }
   },
   "outputs": [],
   "source": [
    "class MyDataset(Dataset):\n",
    "    def __init__(self, array, labels):\n",
    "        self.array = array\n",
    "        self.labels = labels\n",
    "\n",
    "    def __getitem__(self, index):\n",
    "        return torch.tensor(self.array[index], dtype=torch.float32, device=device), torch.tensor(self.labels[index],\n",
    "                                                                                                 dtype=torch.float32,\n",
    "                                                                                                 device=device)\n",
    "\n",
    "    def __len__(self):\n",
    "        return len(self.array)"
   ]
  },
  {
   "cell_type": "code",
   "execution_count": 11,
   "metadata": {
    "pycharm": {
     "name": "#%%\n"
    }
   },
   "outputs": [],
   "source": [
    "trainDataset = MyDataset(x_train, y_train)\n",
    "\n",
    "train_dataloader = DataLoader(trainDataset, batch_size=256, shuffle=True)"
   ]
  },
  {
   "cell_type": "code",
   "execution_count": 12,
   "metadata": {
    "pycharm": {
     "name": "#%%\n"
    }
   },
   "outputs": [],
   "source": [
    "valDataset = MyDataset(x_val, y_val)\n",
    "\n",
    "val_dataloader = DataLoader(valDataset, batch_size=256, shuffle=True)"
   ]
  },
  {
   "cell_type": "code",
   "execution_count": 13,
   "metadata": {
    "pycharm": {
     "name": "#%%\n"
    }
   },
   "outputs": [],
   "source": [
    "testDataset = MyDataset(x_test, y_test)\n",
    "\n",
    "test_dataloader = DataLoader(testDataset, batch_size=256, shuffle=True)"
   ]
  },
  {
   "cell_type": "code",
   "execution_count": 14,
   "outputs": [],
   "source": [
    "class CNN_Model(nn.Module):\n",
    "    def __init__(self):\n",
    "        super(CNN_Model, self).__init__()\n",
    "        # output size : (width - filter + 2*padding)/stride +1\n",
    "        self.conv1 = nn.Conv2d(in_channels=1, out_channels=8, kernel_size=3, stride=1, padding=1)\n",
    "        torch.nn.init.xavier_uniform_(self.conv1.weight, gain=nn.init.calculate_gain('relu'))\n",
    "        self.bn1 = nn.BatchNorm2d(num_features=8)\n",
    "\n",
    "        self.conv2 = nn.Conv2d(in_channels=8, out_channels=16, kernel_size=3, stride=1, padding=1)\n",
    "        torch.nn.init.xavier_uniform_(self.conv2.weight, gain=nn.init.calculate_gain('relu'))\n",
    "        self.bn2 = nn.BatchNorm2d(num_features=16)\n",
    "\n",
    "        self.conv3 = nn.Conv2d(in_channels=16, out_channels=32, kernel_size=3, stride=1, padding=1)\n",
    "        torch.nn.init.xavier_uniform_(self.conv3.weight, gain=nn.init.calculate_gain('relu'))\n",
    "        self.bn3 = nn.BatchNorm2d(num_features=32)\n",
    "\n",
    "        self.dropout = nn.Dropout(0.5)\n",
    "\n",
    "        self.fc1 = nn.Linear(64800, 1024)  # dim c * w * h\n",
    "        torch.nn.init.xavier_uniform_(self.fc1.weight, gain=nn.init.calculate_gain('relu'))\n",
    "\n",
    "        self.fc2 = nn.Linear(1024, 512)  # dim c * w * h\n",
    "        torch.nn.init.xavier_uniform_(self.fc1.weight, gain=nn.init.calculate_gain('relu'))\n",
    "\n",
    "        self.fc3 = nn.Linear(512, 256)  # dim c * w * h\n",
    "        torch.nn.init.xavier_uniform_(self.fc1.weight, gain=nn.init.calculate_gain('relu'))\n",
    "\n",
    "        self.fc4 = nn.Linear(256, 6)\n",
    "        torch.nn.init.xavier_uniform_(self.fc2.weight, gain=nn.init.calculate_gain('relu'))\n",
    "\n",
    "    def forward(self, data):\n",
    "        data = self.conv1(data)\n",
    "        data = F.relu(data)\n",
    "        data = self.bn1(data)\n",
    "        data = F.max_pool2d(data, kernel_size=2, stride=1)\n",
    "\n",
    "        data = self.conv2(data)\n",
    "        data = F.relu(data)\n",
    "        data = self.bn2(data)\n",
    "        data = F.max_pool2d(data, kernel_size=2, stride=1)\n",
    "\n",
    "        data = self.conv3(data)\n",
    "        data = F.relu(data)\n",
    "        data = self.bn3(data)\n",
    "        data = F.max_pool2d(data, kernel_size=2, stride=1)\n",
    "\n",
    "        data = torch.flatten(data, 1)\n",
    "\n",
    "        data = self.fc1(data)\n",
    "        data = F.relu(data)\n",
    "\n",
    "        data = self.dropout(data)\n",
    "\n",
    "        data = self.fc2(data)\n",
    "        data = F.relu(data)\n",
    "\n",
    "        data = self.dropout(data)\n",
    "\n",
    "        data = self.fc3(data)\n",
    "        data = F.relu(data)\n",
    "\n",
    "        data = self.dropout(data)\n",
    "\n",
    "        data = self.fc4(data)\n",
    "\n",
    "        return data"
   ],
   "metadata": {
    "collapsed": false,
    "pycharm": {
     "name": "#%%\n"
    }
   }
  },
  {
   "cell_type": "code",
   "execution_count": 15,
   "outputs": [],
   "source": [
    "def train_model(model, dataloader, optimizer):\n",
    "    model.train()\n",
    "\n",
    "    pred = []\n",
    "    labels = []\n",
    "    loss = nn.CrossEntropyLoss()\n",
    "    total_loss = 0\n",
    "\n",
    "    for (data, label) in dataloader:\n",
    "        # reset gradients (it will accumulate gradients otherwise)\n",
    "        optimizer.zero_grad()\n",
    "\n",
    "        # forward pass\n",
    "        output = model(data)\n",
    "\n",
    "        # compute loss\n",
    "        loss_ = loss(output, label)\n",
    "        total_loss += loss_.item()\n",
    "\n",
    "        # backward propagation dl/dw -> gradients\n",
    "        loss_.backward()\n",
    "\n",
    "        # update weights\n",
    "        optimizer.step()\n",
    "\n",
    "        ######################################\n",
    "\n",
    "        _, predicted = torch.max(output.data, dim=1)\n",
    "        _, true_label = torch.max(label, dim=1)\n",
    "        pred += predicted.tolist()\n",
    "        labels += true_label.tolist()\n",
    "\n",
    "    return accuracy_score(labels, pred) * 100., total_loss / len(dataloader)"
   ],
   "metadata": {
    "collapsed": false,
    "pycharm": {
     "name": "#%%\n"
    }
   }
  },
  {
   "cell_type": "code",
   "execution_count": 16,
   "outputs": [],
   "source": [
    "def test_model(model, dataloader):\n",
    "    model.eval()\n",
    "\n",
    "    pred = []\n",
    "    labels = []\n",
    "    loss = nn.CrossEntropyLoss()\n",
    "    total_loss = 0\n",
    "\n",
    "    with torch.no_grad():\n",
    "        for (data, label) in dataloader:\n",
    "            output = model(data)\n",
    "\n",
    "            # compute loss\n",
    "            loss_ = loss(output, label)\n",
    "            total_loss += loss_.item()\n",
    "\n",
    "            _, predicted = torch.max(output.data, dim=1)\n",
    "            _, true_label = torch.max(label, dim=1)\n",
    "            pred += predicted.tolist()\n",
    "            labels += true_label.tolist()\n",
    "\n",
    "    return labels, pred, accuracy_score(labels, pred) * 100., total_loss / len(dataloader)"
   ],
   "metadata": {
    "collapsed": false,
    "pycharm": {
     "name": "#%%\n"
    }
   }
  },
  {
   "cell_type": "code",
   "execution_count": 17,
   "outputs": [
    {
     "name": "stdout",
     "output_type": "stream",
     "text": [
      "Number of Parameters :  67019894\n"
     ]
    }
   ],
   "source": [
    "model_path = \"./cnn_model.pth\"\n",
    "\n",
    "model = CNN_Model().to(device)\n",
    "\n",
    "#model.load_state_dict(torch.load(model_path))\n",
    "\n",
    "print('Number of Parameters : ', sum(p.numel() for p in model.parameters() if p.requires_grad))"
   ],
   "metadata": {
    "collapsed": false,
    "pycharm": {
     "name": "#%%\n"
    }
   }
  },
  {
   "cell_type": "code",
   "execution_count": 18,
   "outputs": [],
   "source": [
    "optimizer = torch.optim.Adam(model.parameters(), lr=0.001, weight_decay=0.000001)\n",
    "#optimizer = torch.optim.Adam(model.parameters(), lr=0.001)\n",
    "#optimizer = torch.optim.SGD(model.parameters(), lr=0.00001)\n",
    "#optimizer = torch.optim.RMSprop(model.parameters(), lr=0.001)"
   ],
   "metadata": {
    "collapsed": false,
    "pycharm": {
     "name": "#%%\n"
    }
   }
  },
  {
   "cell_type": "code",
   "execution_count": 19,
   "outputs": [],
   "source": [
    "scheduler1 = torch.optim.lr_scheduler.ReduceLROnPlateau(optimizer, patience=4, factor=0.5, threshold=0.01)\n",
    "scheduler2 = torch.optim.lr_scheduler.StepLR(optimizer,step_size=6,gamma=0.1)"
   ],
   "metadata": {
    "collapsed": false,
    "pycharm": {
     "name": "#%%\n"
    }
   }
  },
  {
   "cell_type": "code",
   "execution_count": 20,
   "outputs": [],
   "source": [
    "# chkpt = torch.load(\"./cnn_epoch10early_stop.pth\")\n",
    "# model.load_state_dict(chkpt['net_state'])\n",
    "# optimizer.load_state_dict(chkpt['optimizer_state'])\n",
    "# epoch_saved = chkpt['epoch'] + 1"
   ],
   "metadata": {
    "collapsed": false,
    "pycharm": {
     "name": "#%%\n"
    }
   }
  },
  {
   "cell_type": "code",
   "execution_count": 21,
   "outputs": [],
   "source": [
    "train_loss_list = []\n",
    "train_acc_list = []\n",
    "\n",
    "val_loss_list = []\n",
    "val_acc_list = []"
   ],
   "metadata": {
    "collapsed": false,
    "pycharm": {
     "name": "#%%\n"
    }
   }
  },
  {
   "cell_type": "code",
   "execution_count": 22,
   "outputs": [
    {
     "name": "stdout",
     "output_type": "stream",
     "text": [
      "epoch:  1 Training loss:  2.081227970334281 Training Accuracy:  23.825281270681668 %   Val loss:  1.7059643348058064 Val Accuracy:  25.828921705210366 %\n",
      "learning rate : 0.001\n",
      "epoch:  2 Training loss:  1.6464164373094001 Training Accuracy:  31.052979901772964 %   Val loss:  1.552781597773234 Val Accuracy:  37.53134577876846 %\n",
      "learning rate : 0.001\n",
      "epoch:  3 Training loss:  1.5344413234069285 Training Accuracy:  36.80378975234247 %   Val loss:  1.395449980099996 Val Accuracy:  43.689049874616884 %\n",
      "learning rate : 0.001\n",
      "epoch:  4 Training loss:  1.4556413793985823 Training Accuracy:  40.659723431676476 %   Val loss:  1.3712567488352458 Val Accuracy:  44.608526051825024 %\n",
      "learning rate : 0.001\n",
      "epoch:  5 Training loss:  1.3861184352267104 Training Accuracy:  43.376641471315615 %   Val loss:  1.320440419514974 Val Accuracy:  46.391752577319586 %\n",
      "learning rate : 0.001\n",
      "epoch:  6 Training loss:  1.3003232637337878 Training Accuracy:  47.17684349855446 %   Val loss:  1.3046562194824218 Val Accuracy:  48.6765115631095 %\n",
      "learning rate : 0.001\n",
      "epoch:  7 Training loss:  1.218043418057197 Training Accuracy:  51.13379079731095 %   Val loss:  1.3039611498514811 Val Accuracy:  50.62691557536918 %\n",
      "learning rate : 0.0001\n",
      "epoch:  8 Training loss:  1.0890722744232786 Training Accuracy:  56.92639938695183 %   Val loss:  1.235061232248942 Val Accuracy:  52.52159375870716 %\n",
      "learning rate : 0.0001\n",
      "epoch:  9 Training loss:  1.0314000238359502 Training Accuracy:  58.81082587341948 %   Val loss:  1.1989164034525552 Val Accuracy:  52.60518250208972 %\n",
      "learning rate : 0.0001\n",
      "epoch:  10 Training loss:  0.9911676423739543 Training Accuracy:  60.34344630603643 %   Val loss:  1.1838662366072337 Val Accuracy:  53.35748119253274 %\n",
      "learning rate : 0.0001\n",
      "epoch:  11 Training loss:  0.952604570220002 Training Accuracy:  61.663589815040574 %   Val loss:  1.2392144282658895 Val Accuracy:  53.023126219002506 %\n",
      "learning rate : 0.0001\n",
      "epoch:  12 Training loss:  0.9137889621532069 Training Accuracy:  63.62813055139503 %   Val loss:  1.295105012257894 Val Accuracy:  53.07885204792421 %\n",
      "learning rate : 0.0001\n",
      "epoch:  13 Training loss:  0.8711247317558897 Training Accuracy:  65.32794594029747 %   Val loss:  1.2519921779632568 Val Accuracy:  53.35748119253274 %\n",
      "learning rate : 0.0001\n",
      "epoch:  14 Training loss:  0.8226911093281434 Training Accuracy:  67.28552022014003 %   Val loss:  1.2643310030301411 Val Accuracy:  53.46893285037615 %\n",
      "learning rate : 0.0001\n",
      "epoch:  15 Training loss:  0.778204262784097 Training Accuracy:  69.21871190219096 %   Val loss:  1.2601673086484273 Val Accuracy:  53.998328225132354 %\n",
      "learning rate : 5e-05\n",
      "epoch:  16 Training loss:  0.7411789039594937 Training Accuracy:  70.59458706329026 %   Val loss:  1.25893461505572 Val Accuracy:  53.775424909445526 %\n",
      "learning rate : 5e-05\n",
      "epoch:  17 Training loss:  0.7141085868388151 Training Accuracy:  71.71966978996134 %   Val loss:  1.2994734485944113 Val Accuracy:  54.44413485650599 %\n",
      "learning rate : 5e-05\n",
      "epoch:  18 Training loss:  0.6859393446846346 Training Accuracy:  72.94924936431084 %   Val loss:  1.3466928799947102 Val Accuracy:  54.27695736974088 %\n",
      "learning rate : 5e-05\n",
      "epoch:  19 Training loss:  0.6585068805555326 Training Accuracy:  74.20669476470793 %   Val loss:  1.3466469645500183 Val Accuracy:  54.69490108665367 %\n",
      "learning rate : 5e-05\n",
      "epoch:  20 Training loss:  0.6352976349602758 Training Accuracy:  75.11233411125431 %   Val loss:  1.4912572145462035 Val Accuracy:  54.6113123432711 %\n",
      "learning rate : 2.5e-05\n",
      "epoch:  21 Training loss:  0.6099052244583062 Training Accuracy:  75.97965794698527 %   Val loss:  1.3853838443756104 Val Accuracy:  54.58344942881025 %\n",
      "learning rate : 2.5e-05\n",
      "epoch:  22 Training loss:  0.5948998524551898 Training Accuracy:  76.52304155491309 %   Val loss:  1.3729169289271037 Val Accuracy:  54.22123154081917 %\n",
      "learning rate : 2.5e-05\n",
      "epoch:  23 Training loss:  0.5876409548573789 Training Accuracy:  77.15002264098366 %   Val loss:  1.4240457693735757 Val Accuracy:  54.304820284201725 %\n",
      "learning rate : 2.5e-05\n",
      "epoch:  24 Training loss:  0.5725649015038414 Training Accuracy:  77.5331777491379 %   Val loss:  1.3847394863764444 Val Accuracy:  54.24909445528002 %\n",
      "learning rate : 2.5e-05\n",
      "epoch:  25 Training loss:  0.5584023935077465 Training Accuracy:  78.1183600961371 %   Val loss:  1.507348926862081 Val Accuracy:  54.47199777096684 %\n",
      "learning rate : 1.25e-05\n",
      "epoch:  26 Training loss:  0.5464885867802443 Training Accuracy:  78.91950259500506 %   Val loss:  1.4733690818150837 Val Accuracy:  54.22123154081917 %\n",
      "learning rate : 1.25e-05\n",
      "epoch:  27 Training loss:  0.5421262006316565 Training Accuracy:  78.90905291023721 %   Val loss:  1.50408882300059 Val Accuracy:  53.9147394817498 %\n",
      "learning rate : 1.25e-05\n",
      "epoch:  28 Training loss:  0.5382304555546921 Training Accuracy:  79.22602668152844 %   Val loss:  1.4501781384150187 Val Accuracy:  54.16550571189747 %\n",
      "learning rate : 1.25e-05\n"
     ]
    }
   ],
   "source": [
    "epoch = 100\n",
    "# Train and validate model\n",
    "\n",
    "for e in range(epoch):\n",
    "    train_accuracy, train_loss = train_model(model, train_dataloader, optimizer)\n",
    "\n",
    "    val_labels, val_pred, val_accuracy, val_loss = test_model(model, val_dataloader)\n",
    "\n",
    "    # Decay Learning Rate\n",
    "    if e > 6:\n",
    "        scheduler1.step(val_loss)\n",
    "    else:\n",
    "        scheduler2.step(e)\n",
    "\n",
    "    train_loss_list.append(train_loss)\n",
    "    train_acc_list.append(train_accuracy)\n",
    "    val_loss_list.append(val_loss)\n",
    "    val_acc_list.append(val_accuracy)\n",
    "\n",
    "    print('epoch: ', e + 1, 'Training loss: ', train_loss, 'Training Accuracy: ', train_accuracy, '%', '  Val loss: ',\n",
    "          val_loss, 'Val Accuracy: ', val_accuracy, '%')\n",
    "    print('learning rate :', optimizer.state_dict()['param_groups'][0]['lr'])\n",
    "\n",
    "    # early stopping\n",
    "    if train_accuracy - val_accuracy > 25:\n",
    "        early_stop_path = \"./cnn_epoch\" + str(e) + \"_early_stop.pth\"\n",
    "        info_dict = {\n",
    "            'epoch': e,\n",
    "            'net_state': model.state_dict(),\n",
    "            'optimizer_state': optimizer.state_dict()\n",
    "        }\n",
    "        torch.save(info_dict, early_stop_path)\n",
    "        break\n",
    "\n",
    "    # checkpoint\n",
    "    if e % 5 == 0 and e > 0:\n",
    "        early_stop_path = \"./cnn_epoch\" + str(e) + \"_checkpoint.pth\"\n",
    "        info_dict = {\n",
    "            'epoch': e,\n",
    "            'net_state': model.state_dict(),\n",
    "            'optimizer_state': optimizer.state_dict()\n",
    "        }\n",
    "        torch.save(info_dict, early_stop_path)\n",
    "\n"
   ],
   "metadata": {
    "collapsed": false,
    "pycharm": {
     "name": "#%%\n"
    }
   }
  },
  {
   "cell_type": "code",
   "execution_count": 23,
   "metadata": {
    "pycharm": {
     "name": "#%%\n"
    }
   },
   "outputs": [
    {
     "name": "stdout",
     "output_type": "stream",
     "text": [
      "Test loss:  1.4457128961881003 Test Accuracy:  55.25215937587071 %\n"
     ]
    },
    {
     "data": {
      "text/plain": "<Figure size 864x720 with 2 Axes>",
      "image/png": "[encoded data removed]"
     },
     "metadata": {
      "needs_background": "light"
     },
     "output_type": "display_data"
    }
   ],
   "source": [
    "# test model\n",
    "\n",
    "test_labels, test_pred, test_accuracy, test_loss = test_model(model, test_dataloader)\n",
    "print('Test loss: ', test_loss, 'Test Accuracy: ', test_accuracy, '%')\n",
    "\n",
    "cm = confusion_matrix(test_labels, test_pred)\n",
    "plt.figure(figsize=(12, 10))\n",
    "cm = pd.DataFrame(cm, index=emotions, columns=emotions)\n",
    "sns.heatmap(cm, linecolor='white', cmap='Blues', linewidth=1, annot=True, fmt='')\n",
    "plt.title('Confusion Matrix', size=20)\n",
    "plt.xlabel('Predicted Labels', size=14)\n",
    "plt.ylabel('Actual Labels', size=14)\n",
    "plt.show()"
   ]
  },
  {
   "cell_type": "code",
   "execution_count": 24,
   "metadata": {
    "pycharm": {
     "name": "#%%\n"
    }
   },
   "outputs": [],
   "source": [
    "#torch.save(model.state_dict(), model_path)"
   ]
  },
  {
   "cell_type": "code",
   "execution_count": 25,
   "metadata": {
    "pycharm": {
     "name": "#%%\n"
    }
   },
   "outputs": [
    {
     "data": {
      "text/plain": "<Figure size 864x720 with 1 Axes>",
      "image/png": "[encoded data removed]"
     },
     "metadata": {
      "needs_background": "light"
     },
     "output_type": "display_data"
    },
    {
     "data": {
      "text/plain": "<Figure size 864x720 with 1 Axes>",
      "image/png": "[encoded data removed]"
     },
     "metadata": {
      "needs_background": "light"
     },
     "output_type": "display_data"
    }
   ],
   "source": [
    "plt.figure(figsize=(12, 10))\n",
    "plt.plot(train_acc_list, '-o')\n",
    "plt.plot(val_acc_list, '-o')\n",
    "plt.xlabel('epoch', size=14)\n",
    "plt.ylabel('accuracy', size=14)\n",
    "plt.legend(['Train', 'Valid'])\n",
    "plt.title('Train vs Valid Accuracy', size=20)\n",
    "\n",
    "plt.show()\n",
    "\n",
    "plt.figure(figsize=(12, 10))\n",
    "plt.plot(train_loss_list, '-o')\n",
    "plt.plot(val_loss_list, '-o')\n",
    "plt.xlabel('epoch', size=14)\n",
    "plt.ylabel('losses', size=14)\n",
    "plt.legend(['Train', 'Valid'])\n",
    "plt.title('Train vs Valid Losses', size=20)\n",
    "\n",
    "plt.show()"
   ]
  }
 ],
 "metadata": {
  "kernelspec": {
   "display_name": "Python 3 (ipykernel)",
   "language": "python",
   "name": "python3"
  },
  "language_info": {
   "codemirror_mode": {
    "name": "ipython",
    "version": 3
   },
   "file_extension": ".py",
   "mimetype": "text/x-python",
   "name": "python",
   "nbconvert_exporter": "python",
   "pygments_lexer": "ipython3",
   "version": "3.9.12"
  }
 },
 "nbformat": 4,
 "nbformat_minor": 1
}